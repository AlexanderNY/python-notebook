{
 "cells": [
  {
   "cell_type": "code",
   "execution_count": null,
   "id": "194b6aa0",
   "metadata": {},
   "outputs": [],
   "source": [
    "<string>.split(sep,maxsplit)\n",
    "<sep>.join(<iterable>)"
   ]
  },
  {
   "cell_type": "code",
   "execution_count": 8,
   "id": "e1ae4afe",
   "metadata": {
    "scrolled": false
   },
   "outputs": [
    {
     "name": "stdout",
     "output_type": "stream",
     "text": [
      "The EUR currency rate on the date 01/01/22 is 102.8345\n",
      "The EUR currency rate on the date 01/01/22 is 102.835\n",
      "The EUR currency rate on the date 01/01/22 is 123.40\n",
      "The EUR currency rate on the date 01/01/22 is 102.83\n"
     ]
    }
   ],
   "source": [
    "cur_date = '01/01/22'\n",
    "currency = 'EUR'\n",
    "rate = 102.8345\n",
    "print('The', currency, 'currency rate on the date', cur_date,'is', rate)\n",
    "print('The {0} currency rate on the date {2} is {1:.3f}'.format(currency, rate, cur_date))\n",
    "print(f'The {currency} currency rate on the date {cur_date} is {rate*1.2:.2f}')\n",
    "print('The %s currency rate on the date %s is %.2f' % (currency, cur_date, rate))"
   ]
  },
  {
   "cell_type": "code",
   "execution_count": null,
   "id": "b3a5437c",
   "metadata": {},
   "outputs": [],
   "source": []
  }
 ],
 "metadata": {
  "kernelspec": {
   "display_name": "Python 3 (ipykernel)",
   "language": "python",
   "name": "python3"
  },
  "language_info": {
   "codemirror_mode": {
    "name": "ipython",
    "version": 3
   },
   "file_extension": ".py",
   "mimetype": "text/x-python",
   "name": "python",
   "nbconvert_exporter": "python",
   "pygments_lexer": "ipython3",
   "version": "3.8.13"
  }
 },
 "nbformat": 4,
 "nbformat_minor": 5
}
