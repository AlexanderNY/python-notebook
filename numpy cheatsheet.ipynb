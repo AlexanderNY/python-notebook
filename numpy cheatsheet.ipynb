{
 "cells": [
  {
   "cell_type": "code",
   "execution_count": 1,
   "metadata": {},
   "outputs": [],
   "source": [
    "import numpy as np"
   ]
  },
  {
   "cell_type": "code",
   "execution_count": 2,
   "metadata": {},
   "outputs": [],
   "source": [
    "a = np.array([1,3,5,7,9,11], dtype=int)\n",
    "b_list=[2,4,6,8,10,12]\n",
    "b = np.array(b_list)\n",
    "c = np.array([[1.1,2.2,3.3,4.4,5.5,6.6], [7.7,8.8,9.9,10.10,11.11,12.12], [13.13,14.14,15.15,16.16,17.17,0]])"
   ]
  },
  {
   "cell_type": "code",
   "execution_count": 3,
   "metadata": {},
   "outputs": [
    {
     "data": {
      "text/plain": [
       "array([1, 1, 1, 1, 1, 1])"
      ]
     },
     "execution_count": 3,
     "metadata": {},
     "output_type": "execute_result"
    }
   ],
   "source": [
    "d = np.zeros((4,6))\n",
    "e = np.ones((3,3,3))\n",
    "\n",
    "np.zeros_like(a) # создает zeros той же размерности что и a\n",
    "np.ones_like(a) # создает ones той же размерности что и a"
   ]
  },
  {
   "cell_type": "code",
   "execution_count": 8,
   "metadata": {},
   "outputs": [],
   "source": [
    "\n",
    "\n",
    "f = np.eye(5)\n",
    "f1 = np.identity(5)\n",
    "f2 = np.eye(5, k=1, dtype=float)\n",
    "\n",
    "f3=b.reshape((3,2)).diagonal()\n",
    "\n",
    "g = np.empty((5,5))\n",
    "h = np.arange(0,1,0.1)\n",
    "h2 = np.arange(10)\n",
    "\n",
    "i = np.linspace(0,1,20)\n",
    "\n"
   ]
  },
  {
   "cell_type": "code",
   "execution_count": null,
   "metadata": {},
   "outputs": [],
   "source": []
  },
  {
   "cell_type": "code",
   "execution_count": 10,
   "metadata": {
    "scrolled": true
   },
   "outputs": [
    {
     "name": "stdout",
     "output_type": "stream",
     "text": [
      "--a--\n",
      "[ 1  3  5  7  9 11]\n",
      "--b--\n",
      "[ 2  4  6  8 10 12]\n",
      "--c--\n",
      "[[ 1.1   2.2   3.3   4.4   5.5   6.6 ]\n",
      " [ 7.7   8.8   9.9  10.1  11.11 12.12]\n",
      " [13.13 14.14 15.15 16.16 17.17  0.  ]]\n",
      "--d--\n",
      "[[0. 0. 0. 0. 0. 0.]\n",
      " [0. 0. 0. 0. 0. 0.]\n",
      " [0. 0. 0. 0. 0. 0.]\n",
      " [0. 0. 0. 0. 0. 0.]]\n",
      "--e--\n",
      "[[[1. 1. 1.]\n",
      "  [1. 1. 1.]\n",
      "  [1. 1. 1.]]\n",
      "\n",
      " [[1. 1. 1.]\n",
      "  [1. 1. 1.]\n",
      "  [1. 1. 1.]]\n",
      "\n",
      " [[1. 1. 1.]\n",
      "  [1. 1. 1.]\n",
      "  [1. 1. 1.]]]\n",
      "--f--\n",
      "[[1. 0. 0. 0. 0.]\n",
      " [0. 1. 0. 0. 0.]\n",
      " [0. 0. 1. 0. 0.]\n",
      " [0. 0. 0. 1. 0.]\n",
      " [0. 0. 0. 0. 1.]]\n",
      "[[1. 0. 0. 0. 0.]\n",
      " [0. 1. 0. 0. 0.]\n",
      " [0. 0. 1. 0. 0.]\n",
      " [0. 0. 0. 1. 0.]\n",
      " [0. 0. 0. 0. 1.]]\n",
      "[[0. 1. 0. 0. 0.]\n",
      " [0. 0. 1. 0. 0.]\n",
      " [0. 0. 0. 1. 0.]\n",
      " [0. 0. 0. 0. 1.]\n",
      " [0. 0. 0. 0. 0.]]\n",
      "[2 8]\n",
      "-----\n",
      "[[0. 1. 0. 0. 0.]\n",
      " [0. 0. 1. 0. 0.]\n",
      " [0. 0. 0. 1. 0.]\n",
      " [0. 0. 0. 0. 1.]\n",
      " [0. 0. 0. 0. 0.]]\n",
      "-----\n",
      "[0.  0.1 0.2 0.3 0.4 0.5 0.6 0.7 0.8 0.9]\n",
      "[0 1 2 3 4 5 6 7 8 9]\n",
      "-----\n",
      "[0.         0.05263158 0.10526316 0.15789474 0.21052632 0.26315789\n",
      " 0.31578947 0.36842105 0.42105263 0.47368421 0.52631579 0.57894737\n",
      " 0.63157895 0.68421053 0.73684211 0.78947368 0.84210526 0.89473684\n",
      " 0.94736842 1.        ]\n",
      "-----\n"
     ]
    },
    {
     "data": {
      "text/plain": [
       "numpy.ndarray"
      ]
     },
     "execution_count": 10,
     "metadata": {},
     "output_type": "execute_result"
    }
   ],
   "source": [
    "print ('--a--')\n",
    "print (a)\n",
    "print ('--b--')\n",
    "print (b)\n",
    "print ('--c--')\n",
    "print (c)\n",
    "print ('--d--')\n",
    "print (d)\n",
    "print ('--e--')\n",
    "print (e)\n",
    "print ('--f--')\n",
    "print (f)\n",
    "print (f1)\n",
    "print (f2)\n",
    "print (f3)\n",
    "print ('-----')\n",
    "print (g)\n",
    "print ('-----')\n",
    "print (h)\n",
    "print (h2)\n",
    "print ('-----')\n",
    "print (i)\n",
    "print ('-----')\n",
    "type(c)"
   ]
  },
  {
   "cell_type": "code",
   "execution_count": 11,
   "metadata": {},
   "outputs": [
    {
     "name": "stdout",
     "output_type": "stream",
     "text": [
      "[[ 0.  5. 10.]\n",
      " [ 5. 10. 15.]\n",
      " [10. 15. 20.]]\n"
     ]
    }
   ],
   "source": [
    "def func_sum_mul_5(i, j):\n",
    "    return 5 * (i + j)\n",
    "\n",
    "j = np.fromfunction(func_sum_mul_5, (3,3))\n",
    "\n",
    "print (j)"
   ]
  },
  {
   "cell_type": "code",
   "execution_count": null,
   "metadata": {},
   "outputs": [],
   "source": []
  },
  {
   "cell_type": "code",
   "execution_count": 12,
   "metadata": {
    "scrolled": true
   },
   "outputs": [
    {
     "name": "stdout",
     "output_type": "stream",
     "text": [
      "[   0    1    2 ... 2997 2998 2999]\n"
     ]
    }
   ],
   "source": [
    "print(np.arange(0, 3000, 1))"
   ]
  },
  {
   "cell_type": "code",
   "execution_count": 13,
   "metadata": {},
   "outputs": [],
   "source": [
    "np.set_printoptions(precision=2 ,threshold=1000, edgeitems=5)"
   ]
  },
  {
   "cell_type": "code",
   "execution_count": 14,
   "metadata": {},
   "outputs": [
    {
     "name": "stdout",
     "output_type": "stream",
     "text": [
      "[   0    1    2    3    4 ... 2995 2996 2997 2998 2999]\n"
     ]
    }
   ],
   "source": [
    "print(np.arange(0, 3000, 1))"
   ]
  },
  {
   "cell_type": "markdown",
   "metadata": {},
   "source": [
    "одного размера\n"
   ]
  },
  {
   "cell_type": "code",
   "execution_count": 15,
   "metadata": {},
   "outputs": [
    {
     "data": {
      "text/plain": [
       "array([ 3,  7, 11, 15, 19, 23])"
      ]
     },
     "execution_count": 15,
     "metadata": {},
     "output_type": "execute_result"
    }
   ],
   "source": [
    "a + b"
   ]
  },
  {
   "cell_type": "code",
   "execution_count": 16,
   "metadata": {},
   "outputs": [
    {
     "data": {
      "text/plain": [
       "array([1, 1, 1, 1, 1, 1])"
      ]
     },
     "execution_count": 16,
     "metadata": {},
     "output_type": "execute_result"
    }
   ],
   "source": [
    "b - a"
   ]
  },
  {
   "cell_type": "code",
   "execution_count": 17,
   "metadata": {},
   "outputs": [
    {
     "data": {
      "text/plain": [
       "array([  2,  12,  30,  56,  90, 132])"
      ]
     },
     "execution_count": 17,
     "metadata": {},
     "output_type": "execute_result"
    }
   ],
   "source": [
    "a * b"
   ]
  },
  {
   "cell_type": "code",
   "execution_count": 18,
   "metadata": {},
   "outputs": [
    {
     "data": {
      "text/plain": [
       "array([2.  , 1.33, 1.2 , 1.14, 1.11, 1.09])"
      ]
     },
     "execution_count": 18,
     "metadata": {},
     "output_type": "execute_result"
    }
   ],
   "source": [
    "b / a"
   ]
  },
  {
   "cell_type": "code",
   "execution_count": 19,
   "metadata": {},
   "outputs": [
    {
     "data": {
      "text/plain": [
       "array([          1,          81,       15625,     5764801,  -808182895,\n",
       "       -1192716655], dtype=int32)"
      ]
     },
     "execution_count": 19,
     "metadata": {},
     "output_type": "execute_result"
    }
   ],
   "source": [
    "a ** b"
   ]
  },
  {
   "cell_type": "code",
   "execution_count": 20,
   "metadata": {},
   "outputs": [
    {
     "data": {
      "text/plain": [
       "array([0, 1, 1, 1, 1, 1], dtype=int32)"
      ]
     },
     "execution_count": 20,
     "metadata": {},
     "output_type": "execute_result"
    }
   ],
   "source": [
    "b % a # При взятии остатка от деления на 0 возвращается 0"
   ]
  },
  {
   "cell_type": "code",
   "execution_count": 21,
   "metadata": {},
   "outputs": [
    {
     "data": {
      "text/plain": [
       "array([2, 1, 1, 1, 1, 1], dtype=int32)"
      ]
     },
     "execution_count": 21,
     "metadata": {},
     "output_type": "execute_result"
    }
   ],
   "source": [
    "b // a"
   ]
  },
  {
   "cell_type": "code",
   "execution_count": 22,
   "metadata": {},
   "outputs": [
    {
     "data": {
      "text/plain": [
       "array([1.  , 1.73, 2.24, 2.65, 3.  , 3.32])"
      ]
     },
     "execution_count": 22,
     "metadata": {},
     "output_type": "execute_result"
    }
   ],
   "source": [
    " np.sqrt(a)"
   ]
  },
  {
   "cell_type": "code",
   "execution_count": 23,
   "metadata": {},
   "outputs": [
    {
     "data": {
      "text/plain": [
       "array([ 1.,  3.,  5.,  7.,  9., 11.])"
      ]
     },
     "execution_count": 23,
     "metadata": {},
     "output_type": "execute_result"
    }
   ],
   "source": [
    "np.floor(a) # к полу\n",
    "\n",
    "np.ceil(a) # к потолку\n",
    "\n",
    "np.rint(a) # округлить "
   ]
  },
  {
   "cell_type": "markdown",
   "metadata": {},
   "source": [
    "элемент и число"
   ]
  },
  {
   "cell_type": "code",
   "execution_count": 24,
   "metadata": {},
   "outputs": [
    {
     "data": {
      "text/plain": [
       "array([ 2,  4,  6,  8, 10, 12])"
      ]
     },
     "execution_count": 24,
     "metadata": {},
     "output_type": "execute_result"
    }
   ],
   "source": [
    "a + 1"
   ]
  },
  {
   "cell_type": "markdown",
   "metadata": {},
   "source": [
    "Сравнение элементов с числом!\n"
   ]
  },
  {
   "cell_type": "code",
   "execution_count": 25,
   "metadata": {
    "scrolled": true
   },
   "outputs": [
    {
     "data": {
      "text/plain": [
       "array([ True,  True, False, False, False, False])"
      ]
     },
     "execution_count": 25,
     "metadata": {},
     "output_type": "execute_result"
    }
   ],
   "source": [
    "a < 5"
   ]
  },
  {
   "cell_type": "code",
   "execution_count": 26,
   "metadata": {},
   "outputs": [
    {
     "data": {
      "text/plain": [
       "array([1, 3])"
      ]
     },
     "execution_count": 26,
     "metadata": {},
     "output_type": "execute_result"
    }
   ],
   "source": [
    "a[a<5]"
   ]
  },
  {
   "cell_type": "code",
   "execution_count": 27,
   "metadata": {},
   "outputs": [],
   "source": [
    "a1 = np.array([ True, False, False], bool)"
   ]
  },
  {
   "cell_type": "code",
   "execution_count": 28,
   "metadata": {},
   "outputs": [
    {
     "data": {
      "text/plain": [
       "False"
      ]
     },
     "execution_count": 28,
     "metadata": {},
     "output_type": "execute_result"
    }
   ],
   "source": [
    "any(a1)\n",
    "all(a1)"
   ]
  },
  {
   "cell_type": "code",
   "execution_count": 29,
   "metadata": {},
   "outputs": [
    {
     "data": {
      "text/plain": [
       "array([ 1,  3,  5,  7,  9, 11])"
      ]
     },
     "execution_count": 29,
     "metadata": {},
     "output_type": "execute_result"
    }
   ],
   "source": [
    "a"
   ]
  },
  {
   "cell_type": "code",
   "execution_count": 30,
   "metadata": {},
   "outputs": [
    {
     "data": {
      "text/plain": [
       "array([ True, False, False, False, False, False])"
      ]
     },
     "execution_count": 30,
     "metadata": {},
     "output_type": "execute_result"
    }
   ],
   "source": [
    "np.logical_and(a > 0, a < 3)"
   ]
  },
  {
   "cell_type": "code",
   "execution_count": 31,
   "metadata": {
    "scrolled": true
   },
   "outputs": [
    {
     "data": {
      "text/plain": [
       "array([1])"
      ]
     },
     "execution_count": 31,
     "metadata": {},
     "output_type": "execute_result"
    }
   ],
   "source": [
    "a[np.logical_and(a > 0, a < 3)]"
   ]
  },
  {
   "cell_type": "code",
   "execution_count": 32,
   "metadata": {},
   "outputs": [
    {
     "data": {
      "text/plain": [
       "array([ True,  True,  True,  True,  True,  True])"
      ]
     },
     "execution_count": 32,
     "metadata": {},
     "output_type": "execute_result"
    }
   ],
   "source": [
    "np.logical_or(a > 0, a < 3)\n",
    "np.logical_or(a , b)"
   ]
  },
  {
   "cell_type": "code",
   "execution_count": 33,
   "metadata": {
    "scrolled": true
   },
   "outputs": [
    {
     "data": {
      "text/plain": [
       "array([False,  True,  True])"
      ]
     },
     "execution_count": 33,
     "metadata": {},
     "output_type": "execute_result"
    }
   ],
   "source": [
    "np.logical_not(a1)"
   ]
  },
  {
   "cell_type": "code",
   "execution_count": 34,
   "metadata": {},
   "outputs": [
    {
     "ename": "IndexError",
     "evalue": "too many indices for array",
     "output_type": "error",
     "traceback": [
      "\u001b[1;31m---------------------------------------------------------------------------\u001b[0m",
      "\u001b[1;31mIndexError\u001b[0m                                Traceback (most recent call last)",
      "\u001b[1;32m<ipython-input-34-bb6bf4a573dc>\u001b[0m in \u001b[0;36m<module>\u001b[1;34m\u001b[0m\n\u001b[0;32m      1\u001b[0m \u001b[0ma\u001b[0m\u001b[1;33m[\u001b[0m\u001b[1;33m[\u001b[0m\u001b[1;36m0\u001b[0m\u001b[1;33m,\u001b[0m\u001b[1;36m1\u001b[0m\u001b[1;33m,\u001b[0m\u001b[1;36m0\u001b[0m\u001b[1;33m,\u001b[0m\u001b[1;36m1\u001b[0m\u001b[1;33m]\u001b[0m\u001b[1;33m]\u001b[0m\u001b[1;33m\u001b[0m\u001b[1;33m\u001b[0m\u001b[0m\n\u001b[1;32m----> 2\u001b[1;33m \u001b[0ma\u001b[0m\u001b[1;33m[\u001b[0m\u001b[1;33m[\u001b[0m\u001b[1;36m0\u001b[0m\u001b[1;33m,\u001b[0m\u001b[1;36m1\u001b[0m\u001b[1;33m]\u001b[0m\u001b[1;33m,\u001b[0m\u001b[1;33m[\u001b[0m\u001b[1;36m1\u001b[0m\u001b[1;33m,\u001b[0m\u001b[1;36m1\u001b[0m\u001b[1;33m]\u001b[0m\u001b[1;33m]\u001b[0m\u001b[1;33m\u001b[0m\u001b[1;33m\u001b[0m\u001b[0m\n\u001b[0m\u001b[0;32m      3\u001b[0m \u001b[0ma\u001b[0m\u001b[1;33m.\u001b[0m\u001b[0mtake\u001b[0m\u001b[1;33m(\u001b[0m\u001b[1;33m[\u001b[0m\u001b[1;36m0\u001b[0m\u001b[1;33m,\u001b[0m\u001b[1;36m1\u001b[0m\u001b[1;33m,\u001b[0m\u001b[1;36m3\u001b[0m\u001b[1;33m,\u001b[0m\u001b[1;36m2\u001b[0m\u001b[1;33m,\u001b[0m\u001b[1;36m0\u001b[0m\u001b[1;33m,\u001b[0m\u001b[1;36m1\u001b[0m\u001b[1;33m,\u001b[0m\u001b[1;36m3\u001b[0m\u001b[1;33m,\u001b[0m\u001b[1;36m2\u001b[0m\u001b[1;33m]\u001b[0m\u001b[1;33m)\u001b[0m\u001b[1;33m\u001b[0m\u001b[1;33m\u001b[0m\u001b[0m\n\u001b[0;32m      4\u001b[0m \u001b[0ma\u001b[0m\u001b[1;33m.\u001b[0m\u001b[0mput\u001b[0m\u001b[1;33m(\u001b[0m\u001b[1;33m[\u001b[0m\u001b[1;36m0\u001b[0m\u001b[1;33m,\u001b[0m \u001b[1;36m2\u001b[0m\u001b[1;33m]\u001b[0m\u001b[1;33m,\u001b[0m \u001b[1;36m5\u001b[0m\u001b[1;33m)\u001b[0m\u001b[1;33m\u001b[0m\u001b[1;33m\u001b[0m\u001b[0m\n",
      "\u001b[1;31mIndexError\u001b[0m: too many indices for array"
     ]
    }
   ],
   "source": [
    "a[[0,1,0,1]]\n",
    "a[[0,1],[1,1]]\n",
    "a.take([0,1,3,2,0,1,3,2])\n",
    "a.put([0, 2], 5)\n"
   ]
  },
  {
   "cell_type": "markdown",
   "metadata": {},
   "source": [
    "WOW!"
   ]
  },
  {
   "cell_type": "code",
   "execution_count": 35,
   "metadata": {
    "scrolled": false
   },
   "outputs": [
    {
     "data": {
      "text/plain": [
       "array([1.  , 0.33, 0.2 , 0.14, 0.11, 0.09])"
      ]
     },
     "execution_count": 35,
     "metadata": {},
     "output_type": "execute_result"
    }
   ],
   "source": [
    "np.where(a != 2, 1 / a, a)\n"
   ]
  },
  {
   "cell_type": "code",
   "execution_count": 36,
   "metadata": {
    "scrolled": true
   },
   "outputs": [
    {
     "data": {
      "text/plain": [
       "array([ True, False, False])"
      ]
     },
     "execution_count": 36,
     "metadata": {},
     "output_type": "execute_result"
    }
   ],
   "source": [
    "a2 = np.array([1, np.NaN, np.Inf])\n",
    "np.isnan(a2)\n",
    "np.isfinite(a2)"
   ]
  },
  {
   "cell_type": "code",
   "execution_count": 37,
   "metadata": {
    "scrolled": true
   },
   "outputs": [
    {
     "data": {
      "text/plain": [
       "36"
      ]
     },
     "execution_count": 37,
     "metadata": {},
     "output_type": "execute_result"
    }
   ],
   "source": [
    "a.sum()\n",
    "np.sum(a)"
   ]
  },
  {
   "cell_type": "code",
   "execution_count": 38,
   "metadata": {},
   "outputs": [],
   "source": [
    "a=a+1"
   ]
  },
  {
   "cell_type": "code",
   "execution_count": 39,
   "metadata": {
    "scrolled": true
   },
   "outputs": [
    {
     "data": {
      "text/plain": [
       "array([ 2,  4,  6,  8, 10, 12])"
      ]
     },
     "execution_count": 39,
     "metadata": {},
     "output_type": "execute_result"
    }
   ],
   "source": [
    "a"
   ]
  },
  {
   "cell_type": "code",
   "execution_count": 40,
   "metadata": {
    "scrolled": true
   },
   "outputs": [
    {
     "data": {
      "text/plain": [
       "46080"
      ]
     },
     "execution_count": 40,
     "metadata": {},
     "output_type": "execute_result"
    }
   ],
   "source": [
    "a.prod()\n",
    "np.prod(a)"
   ]
  },
  {
   "cell_type": "markdown",
   "metadata": {},
   "source": [
    "slice"
   ]
  },
  {
   "cell_type": "code",
   "execution_count": 41,
   "metadata": {},
   "outputs": [
    {
     "name": "stdout",
     "output_type": "stream",
     "text": [
      "4\n",
      "16\n",
      "36\n",
      "64\n",
      "100\n",
      "144\n"
     ]
    }
   ],
   "source": [
    "a[0]\n",
    "a[0:2]\n",
    "a[::-1]\n",
    "\n",
    "for i in a:\n",
    "     print(i ** 2)\n"
   ]
  },
  {
   "cell_type": "code",
   "execution_count": 42,
   "metadata": {},
   "outputs": [
    {
     "data": {
      "text/plain": [
       "(3, 6)"
      ]
     },
     "execution_count": 42,
     "metadata": {},
     "output_type": "execute_result"
    }
   ],
   "source": [
    "c.shape"
   ]
  },
  {
   "cell_type": "code",
   "execution_count": 43,
   "metadata": {},
   "outputs": [
    {
     "data": {
      "text/plain": [
       "array([[ 1.1 ,  2.2 ,  3.3 ,  4.4 ,  5.5 ,  6.6 ],\n",
       "       [ 7.7 ,  8.8 ,  9.9 , 10.1 , 11.11, 12.12],\n",
       "       [13.13, 14.14, 15.15, 16.16, 17.17,  0.  ]])"
      ]
     },
     "execution_count": 43,
     "metadata": {},
     "output_type": "execute_result"
    }
   ],
   "source": [
    "c"
   ]
  },
  {
   "cell_type": "code",
   "execution_count": null,
   "metadata": {},
   "outputs": [],
   "source": []
  },
  {
   "cell_type": "code",
   "execution_count": 44,
   "metadata": {
    "scrolled": true
   },
   "outputs": [
    {
     "data": {
      "text/plain": [
       "array([1.1, 7.7, 0. ])"
      ]
     },
     "execution_count": 44,
     "metadata": {},
     "output_type": "execute_result"
    }
   ],
   "source": [
    "c.min(axis=0)  # Наименьшее число в каждом столбце\n",
    "c.min(axis=1)  # Наименьшее число в каждой строке"
   ]
  },
  {
   "cell_type": "code",
   "execution_count": 45,
   "metadata": {},
   "outputs": [
    {
     "data": {
      "text/plain": [
       "0.0"
      ]
     },
     "execution_count": 45,
     "metadata": {},
     "output_type": "execute_result"
    }
   ],
   "source": [
    "c.argmin() # индекс минимального значения\n",
    "c.min()"
   ]
  },
  {
   "cell_type": "code",
   "execution_count": 46,
   "metadata": {},
   "outputs": [
    {
     "data": {
      "text/plain": [
       "8.810000000000002"
      ]
     },
     "execution_count": 46,
     "metadata": {},
     "output_type": "execute_result"
    }
   ],
   "source": [
    "c.mean()"
   ]
  },
  {
   "cell_type": "code",
   "execution_count": 47,
   "metadata": {
    "scrolled": true
   },
   "outputs": [
    {
     "data": {
      "text/plain": [
       "5.152724198583374"
      ]
     },
     "execution_count": 47,
     "metadata": {},
     "output_type": "execute_result"
    }
   ],
   "source": [
    "c.std()"
   ]
  },
  {
   "cell_type": "code",
   "execution_count": 48,
   "metadata": {},
   "outputs": [
    {
     "data": {
      "text/plain": [
       "26.55056666666667"
      ]
     },
     "execution_count": 48,
     "metadata": {},
     "output_type": "execute_result"
    }
   ],
   "source": [
    "c.var()"
   ]
  },
  {
   "cell_type": "code",
   "execution_count": 49,
   "metadata": {},
   "outputs": [
    {
     "data": {
      "text/plain": [
       "array([ 0.  ,  1.1 ,  2.2 ,  3.3 ,  4.4 ,  5.5 ,  6.6 ,  7.7 ,  8.8 ,\n",
       "        9.9 , 10.1 , 11.11, 12.12, 13.13, 14.14, 15.15, 16.16, 17.17])"
      ]
     },
     "execution_count": 49,
     "metadata": {},
     "output_type": "execute_result"
    }
   ],
   "source": [
    "np.unique(c) # вывести только уникальные"
   ]
  },
  {
   "cell_type": "code",
   "execution_count": 50,
   "metadata": {},
   "outputs": [
    {
     "name": "stdout",
     "output_type": "stream",
     "text": [
      "[[13.13 14.14 15.15 16.16 17.17  0.  ]\n",
      " [ 7.7   8.8   9.9  10.1  11.11 12.12]\n",
      " [ 1.1   2.2   3.3   4.4   5.5   6.6 ]]\n",
      "-----\n",
      "[13.13 14.14 15.15 16.16 17.17  0.  ]\n"
     ]
    }
   ],
   "source": [
    "print(c[::-1])\n",
    "print('-----')\n",
    "print(c[-1])"
   ]
  },
  {
   "cell_type": "code",
   "execution_count": 51,
   "metadata": {},
   "outputs": [
    {
     "data": {
      "text/plain": [
       "array([[ 7.7 ,  8.8 ,  9.9 , 10.1 , 11.11, 12.12],\n",
       "       [13.13, 14.14, 15.15, 16.16, 17.17,  0.  ]])"
      ]
     },
     "execution_count": 51,
     "metadata": {},
     "output_type": "execute_result"
    }
   ],
   "source": [
    "c[1:3:1]"
   ]
  },
  {
   "cell_type": "code",
   "execution_count": 52,
   "metadata": {},
   "outputs": [
    {
     "name": "stdout",
     "output_type": "stream",
     "text": [
      "16.16\n",
      "16.16\n",
      "16.16\n"
     ]
    }
   ],
   "source": [
    "print(c[2,3])\n",
    "print(c[(2,3)])\n",
    "print(c[2][3])"
   ]
  },
  {
   "cell_type": "code",
   "execution_count": 53,
   "metadata": {},
   "outputs": [
    {
     "data": {
      "text/plain": [
       "array([ 3.3 ,  9.9 , 15.15])"
      ]
     },
     "execution_count": 53,
     "metadata": {},
     "output_type": "execute_result"
    }
   ],
   "source": [
    "c[:,2]"
   ]
  },
  {
   "cell_type": "code",
   "execution_count": 54,
   "metadata": {},
   "outputs": [
    {
     "data": {
      "text/plain": [
       "array([[ 1.1 ,  2.2 ,  3.3 ,  4.4 ,  5.5 ,  6.6 ],\n",
       "       [ 7.7 ,  8.8 ,  9.9 , 10.1 , 11.11, 12.12]])"
      ]
     },
     "execution_count": 54,
     "metadata": {},
     "output_type": "execute_result"
    }
   ],
   "source": [
    "c[:2]"
   ]
  },
  {
   "cell_type": "code",
   "execution_count": 55,
   "metadata": {},
   "outputs": [
    {
     "data": {
      "text/plain": [
       "array([[ 8.8 ,  9.9 ],\n",
       "       [14.14, 15.15]])"
      ]
     },
     "execution_count": 55,
     "metadata": {},
     "output_type": "execute_result"
    }
   ],
   "source": [
    "c[1:3,1:3]"
   ]
  },
  {
   "cell_type": "code",
   "execution_count": 56,
   "metadata": {},
   "outputs": [
    {
     "data": {
      "text/plain": [
       "array([[ 1.1 ,  2.2 ,  3.3 ,  4.4 ,  5.5 ,  6.6 ],\n",
       "       [ 7.7 ,  8.8 ,  9.9 , 10.1 , 11.11, 12.12],\n",
       "       [13.13, 14.14, 15.15, 16.16, 17.17,  0.  ]])"
      ]
     },
     "execution_count": 56,
     "metadata": {},
     "output_type": "execute_result"
    }
   ],
   "source": [
    "c"
   ]
  },
  {
   "cell_type": "code",
   "execution_count": 57,
   "metadata": {},
   "outputs": [],
   "source": [
    "c.sort()\n",
    "#sorted(c)"
   ]
  },
  {
   "cell_type": "code",
   "execution_count": 58,
   "metadata": {},
   "outputs": [],
   "source": [
    "k = np.array([[[10.1,10.2,10.3],[20.1,20.2,20.3],[30.1,30.2,30.3],[40.1,40.2,40.3],[50.1,50.2,50.3]],\n",
    "              [[100.1,100.2,100.3],[200.1,200.2,200.3],[300.1,300.2,300.3],[400.1,400.2,400.3],[500.1,500.2,500.3]],\n",
    "              [[1000.1,1000.2,1000.3],[2000.1,2000.2,2000.3],[3000.1,3000.2,3000.3],[4000.1,4000.2,4000.3],[5000.1,5000.2,5000.3]]])"
   ]
  },
  {
   "cell_type": "code",
   "execution_count": 59,
   "metadata": {},
   "outputs": [
    {
     "data": {
      "text/plain": [
       "(3, 5, 3)"
      ]
     },
     "execution_count": 59,
     "metadata": {},
     "output_type": "execute_result"
    }
   ],
   "source": [
    "k.shape"
   ]
  },
  {
   "cell_type": "markdown",
   "metadata": {},
   "source": [
    "..."
   ]
  },
  {
   "cell_type": "code",
   "execution_count": 60,
   "metadata": {},
   "outputs": [
    {
     "data": {
      "text/plain": [
       "array([[[ 10.1,  10.2,  10.3],\n",
       "        [ 20.1,  20.2,  20.3],\n",
       "        [ 30.1,  30.2,  30.3],\n",
       "        [ 40.1,  40.2,  40.3],\n",
       "        [ 50.1,  50.2,  50.3]],\n",
       "\n",
       "       [[100.1, 100.2, 100.3],\n",
       "        [200.1, 200.2, 200.3],\n",
       "        [300.1, 300.2, 300.3],\n",
       "        [400.1, 400.2, 400.3],\n",
       "        [500.1, 500.2, 500.3]]])"
      ]
     },
     "execution_count": 60,
     "metadata": {},
     "output_type": "execute_result"
    }
   ],
   "source": [
    "k[0:2,:,:]\n",
    "k[0:2,...]"
   ]
  },
  {
   "cell_type": "code",
   "execution_count": 61,
   "metadata": {},
   "outputs": [
    {
     "name": "stdout",
     "output_type": "stream",
     "text": [
      "[[10.1 10.2 10.3]\n",
      " [20.1 20.2 20.3]\n",
      " [30.1 30.2 30.3]\n",
      " [40.1 40.2 40.3]\n",
      " [50.1 50.2 50.3]]\n",
      "-----\n",
      "[10.1 10.2 10.3]\n",
      "-----\n",
      "10.1\n",
      "-----\n",
      "10.2\n",
      "-----\n",
      "10.3\n",
      "-----\n",
      "[20.1 20.2 20.3]\n",
      "-----\n",
      "20.1\n",
      "-----\n",
      "20.2\n",
      "-----\n",
      "20.3\n",
      "-----\n",
      "[30.1 30.2 30.3]\n",
      "-----\n",
      "30.1\n",
      "-----\n",
      "30.2\n",
      "-----\n",
      "30.3\n",
      "-----\n",
      "[40.1 40.2 40.3]\n",
      "-----\n",
      "40.1\n",
      "-----\n",
      "40.2\n",
      "-----\n",
      "40.3\n",
      "-----\n",
      "[50.1 50.2 50.3]\n",
      "-----\n",
      "50.1\n",
      "-----\n",
      "50.2\n",
      "-----\n",
      "50.3\n",
      "-----\n",
      "[[100.1 100.2 100.3]\n",
      " [200.1 200.2 200.3]\n",
      " [300.1 300.2 300.3]\n",
      " [400.1 400.2 400.3]\n",
      " [500.1 500.2 500.3]]\n",
      "-----\n",
      "[100.1 100.2 100.3]\n",
      "-----\n",
      "100.1\n",
      "-----\n",
      "100.2\n",
      "-----\n",
      "100.3\n",
      "-----\n",
      "[200.1 200.2 200.3]\n",
      "-----\n",
      "200.1\n",
      "-----\n",
      "200.2\n",
      "-----\n",
      "200.3\n",
      "-----\n",
      "[300.1 300.2 300.3]\n",
      "-----\n",
      "300.1\n",
      "-----\n",
      "300.2\n",
      "-----\n",
      "300.3\n",
      "-----\n",
      "[400.1 400.2 400.3]\n",
      "-----\n",
      "400.1\n",
      "-----\n",
      "400.2\n",
      "-----\n",
      "400.3\n",
      "-----\n",
      "[500.1 500.2 500.3]\n",
      "-----\n",
      "500.1\n",
      "-----\n",
      "500.2\n",
      "-----\n",
      "500.3\n",
      "-----\n",
      "[[1000.1 1000.2 1000.3]\n",
      " [2000.1 2000.2 2000.3]\n",
      " [3000.1 3000.2 3000.3]\n",
      " [4000.1 4000.2 4000.3]\n",
      " [5000.1 5000.2 5000.3]]\n",
      "-----\n",
      "[1000.1 1000.2 1000.3]\n",
      "-----\n",
      "1000.1\n",
      "-----\n",
      "1000.2\n",
      "-----\n",
      "1000.3\n",
      "-----\n",
      "[2000.1 2000.2 2000.3]\n",
      "-----\n",
      "2000.1\n",
      "-----\n",
      "2000.2\n",
      "-----\n",
      "2000.3\n",
      "-----\n",
      "[3000.1 3000.2 3000.3]\n",
      "-----\n",
      "3000.1\n",
      "-----\n",
      "3000.2\n",
      "-----\n",
      "3000.3\n",
      "-----\n",
      "[4000.1 4000.2 4000.3]\n",
      "-----\n",
      "4000.1\n",
      "-----\n",
      "4000.2\n",
      "-----\n",
      "4000.3\n",
      "-----\n",
      "[5000.1 5000.2 5000.3]\n",
      "-----\n",
      "5000.1\n",
      "-----\n",
      "5000.2\n",
      "-----\n",
      "5000.3\n",
      "-----\n"
     ]
    }
   ],
   "source": [
    "for i in k:\n",
    "    print (i)\n",
    "    print ('-----')\n",
    "    for i2 in i:\n",
    "        print (i2)\n",
    "        print ('-----')\n",
    "        for i3 in i2:\n",
    "            print (i3)\n",
    "            print ('-----')\n"
   ]
  },
  {
   "cell_type": "code",
   "execution_count": 62,
   "metadata": {},
   "outputs": [
    {
     "name": "stdout",
     "output_type": "stream",
     "text": [
      "10.1\n",
      "10.2\n",
      "10.3\n",
      "20.1\n",
      "20.2\n",
      "20.3\n",
      "30.1\n",
      "30.2\n",
      "30.3\n",
      "40.1\n",
      "40.2\n",
      "40.3\n",
      "50.1\n",
      "50.2\n",
      "50.3\n",
      "100.1\n",
      "100.2\n",
      "100.3\n",
      "200.1\n",
      "200.2\n",
      "200.3\n",
      "300.1\n",
      "300.2\n",
      "300.3\n",
      "400.1\n",
      "400.2\n",
      "400.3\n",
      "500.1\n",
      "500.2\n",
      "500.3\n",
      "1000.1\n",
      "1000.2\n",
      "1000.3\n",
      "2000.1\n",
      "2000.2\n",
      "2000.3\n",
      "3000.1\n",
      "3000.2\n",
      "3000.3\n",
      "4000.1\n",
      "4000.2\n",
      "4000.3\n",
      "5000.1\n",
      "5000.2\n",
      "5000.3\n"
     ]
    }
   ],
   "source": [
    "for i in k.flat:\n",
    "    print (i)"
   ]
  },
  {
   "cell_type": "code",
   "execution_count": 63,
   "metadata": {},
   "outputs": [
    {
     "name": "stdout",
     "output_type": "stream",
     "text": [
      "[[[  10.1   10.2   10.3]\n",
      "  [  20.1   20.2   20.3]\n",
      "  [  30.1   30.2   30.3]\n",
      "  [  40.1   40.2   40.3]\n",
      "  [  50.1   50.2   50.3]]\n",
      "\n",
      " [[ 100.1  100.2  100.3]\n",
      "  [ 200.1  200.2  200.3]\n",
      "  [ 300.1  300.2  300.3]\n",
      "  [ 400.1  400.2  400.3]\n",
      "  [ 500.1  500.2  500.3]]\n",
      "\n",
      " [[1000.1 1000.2 1000.3]\n",
      "  [2000.1 2000.2 2000.3]\n",
      "  [3000.1 3000.2 3000.3]\n",
      "  [4000.1 4000.2 4000.3]\n",
      "  [5000.1 5000.2 5000.3]]]\n",
      "[10.1 10.2 10.3] | [20.1 20.2 20.3] | [30.1 30.2 30.3]\n",
      "[100.1 100.2 100.3] | [200.1 200.2 200.3] | [300.1 300.2 300.3]\n",
      "[1000.1 1000.2 1000.3] | [2000.1 2000.2 2000.3] | [3000.1 3000.2 3000.3]\n"
     ]
    }
   ],
   "source": [
    "print (k)\n",
    "for (x1, y1, z1, *v1) in k:\n",
    "    print (x1,\"|\",y1,\"|\",z1)"
   ]
  },
  {
   "cell_type": "code",
   "execution_count": 64,
   "metadata": {},
   "outputs": [
    {
     "data": {
      "text/plain": [
       "'(3, 5, 3)'"
      ]
     },
     "execution_count": 64,
     "metadata": {},
     "output_type": "execute_result"
    }
   ],
   "source": [
    "k.shape\n",
    "'''(3, 5, 3)'''"
   ]
  },
  {
   "cell_type": "code",
   "execution_count": 65,
   "metadata": {},
   "outputs": [
    {
     "data": {
      "text/plain": [
       "array([  10.1,   10.2,   10.3,   20.1,   20.2,   20.3,   30.1,   30.2,\n",
       "         30.3,   40.1,   40.2,   40.3,   50.1,   50.2,   50.3,  100.1,\n",
       "        100.2,  100.3,  200.1,  200.2,  200.3,  300.1,  300.2,  300.3,\n",
       "        400.1,  400.2,  400.3,  500.1,  500.2,  500.3, 1000.1, 1000.2,\n",
       "       1000.3, 2000.1, 2000.2, 2000.3, 3000.1, 3000.2, 3000.3, 4000.1,\n",
       "       4000.2, 4000.3, 5000.1, 5000.2, 5000.3])"
      ]
     },
     "execution_count": 65,
     "metadata": {},
     "output_type": "execute_result"
    }
   ],
   "source": [
    "k.ravel()"
   ]
  },
  {
   "cell_type": "code",
   "execution_count": 66,
   "metadata": {},
   "outputs": [
    {
     "data": {
      "text/plain": [
       "array([[  10.1,   10.2,   10.3,   20.1,   20.2,   20.3,   30.1,   30.2,\n",
       "          30.3],\n",
       "       [  40.1,   40.2,   40.3,   50.1,   50.2,   50.3,  100.1,  100.2,\n",
       "         100.3],\n",
       "       [ 200.1,  200.2,  200.3,  300.1,  300.2,  300.3,  400.1,  400.2,\n",
       "         400.3],\n",
       "       [ 500.1,  500.2,  500.3, 1000.1, 1000.2, 1000.3, 2000.1, 2000.2,\n",
       "        2000.3],\n",
       "       [3000.1, 3000.2, 3000.3, 4000.1, 4000.2, 4000.3, 5000.1, 5000.2,\n",
       "        5000.3]])"
      ]
     },
     "execution_count": 66,
     "metadata": {},
     "output_type": "execute_result"
    }
   ],
   "source": [
    "k.shape = (5, 9)\n",
    "k"
   ]
  },
  {
   "cell_type": "code",
   "execution_count": 67,
   "metadata": {},
   "outputs": [
    {
     "data": {
      "text/plain": [
       "array([[  10.1,   40.1,  200.1,  500.1, 3000.1],\n",
       "       [  10.2,   40.2,  200.2,  500.2, 3000.2],\n",
       "       [  10.3,   40.3,  200.3,  500.3, 3000.3],\n",
       "       [  20.1,   50.1,  300.1, 1000.1, 4000.1],\n",
       "       [  20.2,   50.2,  300.2, 1000.2, 4000.2],\n",
       "       [  20.3,   50.3,  300.3, 1000.3, 4000.3],\n",
       "       [  30.1,  100.1,  400.1, 2000.1, 5000.1],\n",
       "       [  30.2,  100.2,  400.2, 2000.2, 5000.2],\n",
       "       [  30.3,  100.3,  400.3, 2000.3, 5000.3]])"
      ]
     },
     "execution_count": 67,
     "metadata": {},
     "output_type": "execute_result"
    }
   ],
   "source": [
    "k.transpose()"
   ]
  },
  {
   "cell_type": "code",
   "execution_count": 68,
   "metadata": {},
   "outputs": [
    {
     "data": {
      "text/plain": [
       "array([[  10.1,   10.2,   10.3,   20.1,   20.2,   20.3,   30.1,   30.2,\n",
       "          30.3],\n",
       "       [  40.1,   40.2,   40.3,   50.1,   50.2,   50.3,  100.1,  100.2,\n",
       "         100.3],\n",
       "       [ 200.1,  200.2,  200.3,  300.1,  300.2,  300.3,  400.1,  400.2,\n",
       "         400.3],\n",
       "       [ 500.1,  500.2,  500.3, 1000.1, 1000.2, 1000.3, 2000.1, 2000.2,\n",
       "        2000.3],\n",
       "       [3000.1, 3000.2, 3000.3, 4000.1, 4000.2, 4000.3, 5000.1, 5000.2,\n",
       "        5000.3]])"
      ]
     },
     "execution_count": 68,
     "metadata": {},
     "output_type": "execute_result"
    }
   ],
   "source": [
    "k.reshape((5, 9), order='F')\n"
   ]
  },
  {
   "cell_type": "code",
   "execution_count": 69,
   "metadata": {},
   "outputs": [
    {
     "data": {
      "text/plain": [
       "array([ 2,  4,  6,  8, 10, 12])"
      ]
     },
     "execution_count": 69,
     "metadata": {},
     "output_type": "execute_result"
    }
   ],
   "source": [
    "b"
   ]
  },
  {
   "cell_type": "code",
   "execution_count": 70,
   "metadata": {},
   "outputs": [
    {
     "data": {
      "text/plain": [
       "array([[1, 2, 5, 6],\n",
       "       [3, 4, 7, 8]])"
      ]
     },
     "execution_count": 70,
     "metadata": {},
     "output_type": "execute_result"
    }
   ],
   "source": [
    "a = np.array([[1, 2], [3, 4]])\n",
    "b = np.array([[5, 6], [7, 8]])\n",
    "np.vstack((a, b))\n",
    "np.hstack((a, b))"
   ]
  },
  {
   "cell_type": "code",
   "execution_count": 71,
   "metadata": {},
   "outputs": [
    {
     "data": {
      "text/plain": [
       "array([[1, 2, 5, 6],\n",
       "       [3, 4, 7, 8]])"
      ]
     },
     "execution_count": 71,
     "metadata": {},
     "output_type": "execute_result"
    }
   ],
   "source": [
    "np.column_stack((a, b))\n"
   ]
  },
  {
   "cell_type": "code",
   "execution_count": 72,
   "metadata": {},
   "outputs": [
    {
     "data": {
      "text/plain": [
       "array([[1, 2],\n",
       "       [3, 4],\n",
       "       [5, 6],\n",
       "       [7, 8]])"
      ]
     },
     "execution_count": 72,
     "metadata": {},
     "output_type": "execute_result"
    }
   ],
   "source": [
    "np.row_stack((a, b))"
   ]
  },
  {
   "cell_type": "code",
   "execution_count": null,
   "metadata": {},
   "outputs": [],
   "source": []
  },
  {
   "cell_type": "code",
   "execution_count": 73,
   "metadata": {},
   "outputs": [
    {
     "data": {
      "text/plain": [
       "[array([[  10.1,   10.2,   10.3],\n",
       "        [  40.1,   40.2,   40.3],\n",
       "        [ 200.1,  200.2,  200.3],\n",
       "        [ 500.1,  500.2,  500.3],\n",
       "        [3000.1, 3000.2, 3000.3]]),\n",
       " array([[  20.1,   20.2,   20.3],\n",
       "        [  50.1,   50.2,   50.3],\n",
       "        [ 300.1,  300.2,  300.3],\n",
       "        [1000.1, 1000.2, 1000.3],\n",
       "        [4000.1, 4000.2, 4000.3]]),\n",
       " array([[  30.1,   30.2,   30.3],\n",
       "        [ 100.1,  100.2,  100.3],\n",
       "        [ 400.1,  400.2,  400.3],\n",
       "        [2000.1, 2000.2, 2000.3],\n",
       "        [5000.1, 5000.2, 5000.3]])]"
      ]
     },
     "execution_count": 73,
     "metadata": {},
     "output_type": "execute_result"
    }
   ],
   "source": [
    "np.hsplit(k, 3)  # Разбить на 3 части условной вертикальной линией"
   ]
  },
  {
   "cell_type": "code",
   "execution_count": 74,
   "metadata": {},
   "outputs": [
    {
     "data": {
      "text/plain": [
       "array([[  10.1,   10.2,   10.3,   20.1,   20.2,   20.3,   30.1,   30.2,\n",
       "          30.3],\n",
       "       [  40.1,   40.2,   40.3,   50.1,   50.2,   50.3,  100.1,  100.2,\n",
       "         100.3],\n",
       "       [ 200.1,  200.2,  200.3,  300.1,  300.2,  300.3,  400.1,  400.2,\n",
       "         400.3],\n",
       "       [ 500.1,  500.2,  500.3, 1000.1, 1000.2, 1000.3, 2000.1, 2000.2,\n",
       "        2000.3],\n",
       "       [3000.1, 3000.2, 3000.3, 4000.1, 4000.2, 4000.3, 5000.1, 5000.2,\n",
       "        5000.3]])"
      ]
     },
     "execution_count": 74,
     "metadata": {},
     "output_type": "execute_result"
    }
   ],
   "source": [
    "k"
   ]
  },
  {
   "cell_type": "code",
   "execution_count": 75,
   "metadata": {},
   "outputs": [
    {
     "data": {
      "text/plain": [
       "[array([[  10.1,   10.2,   10.3],\n",
       "        [  40.1,   40.2,   40.3],\n",
       "        [ 200.1,  200.2,  200.3],\n",
       "        [ 500.1,  500.2,  500.3],\n",
       "        [3000.1, 3000.2, 3000.3]]),\n",
       " array([[  20.1],\n",
       "        [  50.1],\n",
       "        [ 300.1],\n",
       "        [1000.1],\n",
       "        [4000.1]]),\n",
       " array([[  20.2,   20.3,   30.1,   30.2,   30.3],\n",
       "        [  50.2,   50.3,  100.1,  100.2,  100.3],\n",
       "        [ 300.2,  300.3,  400.1,  400.2,  400.3],\n",
       "        [1000.2, 1000.3, 2000.1, 2000.2, 2000.3],\n",
       "        [4000.2, 4000.3, 5000.1, 5000.2, 5000.3]])]"
      ]
     },
     "execution_count": 75,
     "metadata": {},
     "output_type": "execute_result"
    }
   ],
   "source": [
    "np.hsplit(k, (3, 4)) # Разбить на части условными вертикальными линиями после 3 и 4 столбца"
   ]
  },
  {
   "cell_type": "code",
   "execution_count": 76,
   "metadata": {},
   "outputs": [
    {
     "data": {
      "text/plain": [
       "[array([[10.1, 10.2, 10.3, 20.1, 20.2, 20.3, 30.1, 30.2, 30.3]]),\n",
       " array([[ 40.1,  40.2,  40.3,  50.1,  50.2,  50.3, 100.1, 100.2, 100.3]]),\n",
       " array([[ 200.1,  200.2,  200.3,  300.1,  300.2,  300.3,  400.1,  400.2,\n",
       "          400.3],\n",
       "        [ 500.1,  500.2,  500.3, 1000.1, 1000.2, 1000.3, 2000.1, 2000.2,\n",
       "         2000.3],\n",
       "        [3000.1, 3000.2, 3000.3, 4000.1, 4000.2, 4000.3, 5000.1, 5000.2,\n",
       "         5000.3]])]"
      ]
     },
     "execution_count": 76,
     "metadata": {},
     "output_type": "execute_result"
    }
   ],
   "source": [
    "np.vsplit(k, (1, 2)) # Разбить на части условными горизонтальными линиями после 1 и 2 строки"
   ]
  },
  {
   "cell_type": "code",
   "execution_count": 77,
   "metadata": {},
   "outputs": [
    {
     "data": {
      "text/plain": [
       "[array([[10.1, 10.2, 10.3, 20.1, 20.2, 20.3, 30.1, 30.2, 30.3]]),\n",
       " array([[ 40.1,  40.2,  40.3,  50.1,  50.2,  50.3, 100.1, 100.2, 100.3]]),\n",
       " array([[200.1, 200.2, 200.3, 300.1, 300.2, 300.3, 400.1, 400.2, 400.3]]),\n",
       " array([[ 500.1,  500.2,  500.3, 1000.1, 1000.2, 1000.3, 2000.1, 2000.2,\n",
       "         2000.3]]),\n",
       " array([[3000.1, 3000.2, 3000.3, 4000.1, 4000.2, 4000.3, 5000.1, 5000.2,\n",
       "         5000.3]])]"
      ]
     },
     "execution_count": 77,
     "metadata": {},
     "output_type": "execute_result"
    }
   ],
   "source": [
    "np.vsplit(k, 5) # Разбить на 5 частей условной горизонтальной линией"
   ]
  },
  {
   "cell_type": "code",
   "execution_count": null,
   "metadata": {},
   "outputs": [],
   "source": []
  },
  {
   "cell_type": "code",
   "execution_count": 78,
   "metadata": {},
   "outputs": [
    {
     "data": {
      "text/plain": [
       "array([[  10.1,   10.2,   10.3,   20.1,   20.2,   20.3,   30.1,   30.2,\n",
       "          30.3],\n",
       "       [  40.1,   40.2,   40.3,   50.1,   50.2,   50.3,  100.1,  100.2,\n",
       "         100.3],\n",
       "       [ 200.1,  200.2,  200.3,  300.1,  300.2,  300.3,  400.1,  400.2,\n",
       "         400.3],\n",
       "       [ 500.1,  500.2,  500.3, 1000.1, 1000.2, 1000.3, 2000.1, 2000.2,\n",
       "        2000.3],\n",
       "       [3000.1, 3000.2, 3000.3, 4000.1, 4000.2, 4000.3, 5000.1, 5000.2,\n",
       "        5000.3]])"
      ]
     },
     "execution_count": 78,
     "metadata": {},
     "output_type": "execute_result"
    }
   ],
   "source": [
    "k"
   ]
  },
  {
   "cell_type": "code",
   "execution_count": 79,
   "metadata": {},
   "outputs": [],
   "source": [
    "l=k # l и k это два имени для одного и того же"
   ]
  },
  {
   "cell_type": "code",
   "execution_count": 80,
   "metadata": {},
   "outputs": [],
   "source": [
    "l[0,0]=0"
   ]
  },
  {
   "cell_type": "code",
   "execution_count": 81,
   "metadata": {},
   "outputs": [
    {
     "data": {
      "text/plain": [
       "array([[   0. ,   10.2,   10.3,   20.1,   20.2,   20.3,   30.1,   30.2,\n",
       "          30.3],\n",
       "       [  40.1,   40.2,   40.3,   50.1,   50.2,   50.3,  100.1,  100.2,\n",
       "         100.3],\n",
       "       [ 200.1,  200.2,  200.3,  300.1,  300.2,  300.3,  400.1,  400.2,\n",
       "         400.3],\n",
       "       [ 500.1,  500.2,  500.3, 1000.1, 1000.2, 1000.3, 2000.1, 2000.2,\n",
       "        2000.3],\n",
       "       [3000.1, 3000.2, 3000.3, 4000.1, 4000.2, 4000.3, 5000.1, 5000.2,\n",
       "        5000.3]])"
      ]
     },
     "execution_count": 81,
     "metadata": {},
     "output_type": "execute_result"
    }
   ],
   "source": [
    "k"
   ]
  },
  {
   "cell_type": "code",
   "execution_count": 82,
   "metadata": {},
   "outputs": [],
   "source": [
    "m=k.view() # те е данные, но изменяется представление"
   ]
  },
  {
   "cell_type": "code",
   "execution_count": 83,
   "metadata": {},
   "outputs": [],
   "source": [
    "m=m.transpose()"
   ]
  },
  {
   "cell_type": "code",
   "execution_count": 84,
   "metadata": {},
   "outputs": [
    {
     "data": {
      "text/plain": [
       "array([[   0. ,   40.1,  200.1,  500.1, 3000.1],\n",
       "       [  10.2,   40.2,  200.2,  500.2, 3000.2],\n",
       "       [  10.3,   40.3,  200.3,  500.3, 3000.3],\n",
       "       [  20.1,   50.1,  300.1, 1000.1, 4000.1],\n",
       "       [  20.2,   50.2,  300.2, 1000.2, 4000.2],\n",
       "       [  20.3,   50.3,  300.3, 1000.3, 4000.3],\n",
       "       [  30.1,  100.1,  400.1, 2000.1, 5000.1],\n",
       "       [  30.2,  100.2,  400.2, 2000.2, 5000.2],\n",
       "       [  30.3,  100.3,  400.3, 2000.3, 5000.3]])"
      ]
     },
     "execution_count": 84,
     "metadata": {},
     "output_type": "execute_result"
    }
   ],
   "source": [
    "m"
   ]
  },
  {
   "cell_type": "code",
   "execution_count": 85,
   "metadata": {},
   "outputs": [
    {
     "data": {
      "text/plain": [
       "array([[   0. ,   10.2,   10.3,   20.1,   20.2,   20.3,   30.1,   30.2,\n",
       "          30.3],\n",
       "       [  40.1,   40.2,   40.3,   50.1,   50.2,   50.3,  100.1,  100.2,\n",
       "         100.3],\n",
       "       [ 200.1,  200.2,  200.3,  300.1,  300.2,  300.3,  400.1,  400.2,\n",
       "         400.3],\n",
       "       [ 500.1,  500.2,  500.3, 1000.1, 1000.2, 1000.3, 2000.1, 2000.2,\n",
       "        2000.3],\n",
       "       [3000.1, 3000.2, 3000.3, 4000.1, 4000.2, 4000.3, 5000.1, 5000.2,\n",
       "        5000.3]])"
      ]
     },
     "execution_count": 85,
     "metadata": {},
     "output_type": "execute_result"
    }
   ],
   "source": [
    "k"
   ]
  },
  {
   "cell_type": "markdown",
   "metadata": {},
   "source": [
    "однако"
   ]
  },
  {
   "cell_type": "code",
   "execution_count": 86,
   "metadata": {},
   "outputs": [],
   "source": [
    "k [0,0]=1111"
   ]
  },
  {
   "cell_type": "code",
   "execution_count": 87,
   "metadata": {},
   "outputs": [
    {
     "data": {
      "text/plain": [
       "array([[1111. ,   40.1,  200.1,  500.1, 3000.1],\n",
       "       [  10.2,   40.2,  200.2,  500.2, 3000.2],\n",
       "       [  10.3,   40.3,  200.3,  500.3, 3000.3],\n",
       "       [  20.1,   50.1,  300.1, 1000.1, 4000.1],\n",
       "       [  20.2,   50.2,  300.2, 1000.2, 4000.2],\n",
       "       [  20.3,   50.3,  300.3, 1000.3, 4000.3],\n",
       "       [  30.1,  100.1,  400.1, 2000.1, 5000.1],\n",
       "       [  30.2,  100.2,  400.2, 2000.2, 5000.2],\n",
       "       [  30.3,  100.3,  400.3, 2000.3, 5000.3]])"
      ]
     },
     "execution_count": 87,
     "metadata": {},
     "output_type": "execute_result"
    }
   ],
   "source": [
    "m"
   ]
  },
  {
   "cell_type": "code",
   "execution_count": 88,
   "metadata": {},
   "outputs": [],
   "source": [
    "n = k.copy() # настоящая копия, изменение n не влияет на k"
   ]
  },
  {
   "cell_type": "markdown",
   "metadata": {},
   "source": [
    "random"
   ]
  },
  {
   "cell_type": "code",
   "execution_count": 89,
   "metadata": {},
   "outputs": [
    {
     "data": {
      "text/plain": [
       "array([0.81, 0.36, 0.99, 0.51, 0.29, 0.09, 0.05, 0.98, 0.72, 0.26])"
      ]
     },
     "execution_count": 89,
     "metadata": {},
     "output_type": "execute_result"
    }
   ],
   "source": [
    "\n",
    "import random\n",
    "\n",
    "np.random.seed(1000) # фиксируем сид для одинаковой генерации рандома\n",
    "\n",
    "np.array([random.random() for i in range(10)])\n"
   ]
  },
  {
   "cell_type": "code",
   "execution_count": 90,
   "metadata": {},
   "outputs": [
    {
     "data": {
      "text/plain": [
       "array([0.65, 0.12, 0.95, 0.48, 0.87, 0.21, 0.04, 0.4 , 0.23, 0.84])"
      ]
     },
     "execution_count": 90,
     "metadata": {},
     "output_type": "execute_result"
    }
   ],
   "source": [
    "np.random.sample(10) # средствами numpy без аргументов возвращает просто число в промежутке [0, 1)"
   ]
  },
  {
   "cell_type": "code",
   "execution_count": 91,
   "metadata": {},
   "outputs": [
    {
     "data": {
      "text/plain": [
       "array([0.21, 2.66, 2.86, 2.79, 1.25, 0.09, 2.95, 1.02, 2.12, 1.09])"
      ]
     },
     "execution_count": 91,
     "metadata": {},
     "output_type": "execute_result"
    }
   ],
   "source": [
    "np.random.randint(0, 3, 10)\n",
    "#np.random.random_integers(0, 3, 10) # устарела\n",
    "np.random.uniform(0, 3, 10)"
   ]
  },
  {
   "cell_type": "code",
   "execution_count": 92,
   "metadata": {},
   "outputs": [],
   "source": [
    "o=np.random.randint(0, 7, 100)"
   ]
  },
  {
   "cell_type": "code",
   "execution_count": 93,
   "metadata": {},
   "outputs": [
    {
     "data": {
      "text/plain": [
       "array([2, 5, 2, 4, 0, 4, 4, 3, 1, 3, 3, 0, 6, 5, 2, 1, 3, 6, 3, 1, 5, 6,\n",
       "       5, 3, 4, 5, 3, 0, 0, 2, 2, 5, 3, 1, 6, 2, 2, 3, 3, 6, 5, 0, 4, 1,\n",
       "       0, 1, 1, 0, 0, 0, 2, 3, 1, 5, 3, 6, 2, 1, 6, 2, 1, 5, 0, 3, 5, 6,\n",
       "       1, 6, 4, 3, 3, 6, 3, 4, 3, 5, 0, 1, 3, 5, 5, 5, 2, 0, 4, 5, 6, 4,\n",
       "       1, 6, 5, 5, 6, 5, 1, 4, 1, 4, 5, 0])"
      ]
     },
     "execution_count": 93,
     "metadata": {},
     "output_type": "execute_result"
    }
   ],
   "source": [
    "o"
   ]
  },
  {
   "cell_type": "code",
   "execution_count": null,
   "metadata": {},
   "outputs": [],
   "source": []
  },
  {
   "cell_type": "code",
   "execution_count": 94,
   "metadata": {},
   "outputs": [
    {
     "name": "stdout",
     "output_type": "stream",
     "text": [
      "None\n"
     ]
    }
   ],
   "source": [
    "print(np.random.shuffle(o)) # изменяет массив"
   ]
  },
  {
   "cell_type": "code",
   "execution_count": 95,
   "metadata": {},
   "outputs": [
    {
     "data": {
      "text/plain": [
       "array([0, 6, 5, 3, 3, 6, 5, 0, 2, 3, 3, 5, 3, 6, 1, 2, 5, 5, 3, 1, 2, 3,\n",
       "       4, 5, 4, 4, 3, 6, 2, 6, 3, 3, 6, 3, 5, 3, 5, 1, 3, 4, 0, 4, 6, 5,\n",
       "       5, 5, 0, 1, 6, 0, 1, 2, 0, 6, 4, 1, 1, 0, 4, 4, 1, 5, 2, 4, 5, 0,\n",
       "       5, 1, 6, 1, 5, 3, 4, 0, 2, 4, 5, 0, 6, 1, 3, 2, 2, 1, 0, 1, 2, 5,\n",
       "       5, 1, 5, 3, 1, 0, 0, 3, 3, 2, 6, 6])"
      ]
     },
     "execution_count": 95,
     "metadata": {},
     "output_type": "execute_result"
    }
   ],
   "source": [
    "o"
   ]
  },
  {
   "cell_type": "code",
   "execution_count": null,
   "metadata": {},
   "outputs": [],
   "source": []
  },
  {
   "cell_type": "markdown",
   "metadata": {},
   "source": [
    "numpy.random.choice(a, size=None, replace=True, p=None)\n",
    "\n",
    "a : одномерный массив или число. Если массив, будет производиться выборка из него. Если число, то выборка будет производиться из np.arange(a).\n",
    "size : размерности массива. Если None, возвращается одно значение.\n",
    "replace : если True, то одно значение может выбираться более одного раза.\n",
    "p : вероятности. Это означает, что элементы можно выбирать с неравными вероятностями. Если не заданы, используется равномерное распределение"
   ]
  },
  {
   "cell_type": "code",
   "execution_count": 96,
   "metadata": {},
   "outputs": [
    {
     "data": {
      "text/plain": [
       "array([5, 6, 0, 0, 6, 0, 0, 0, 0, 0])"
      ]
     },
     "execution_count": 96,
     "metadata": {},
     "output_type": "execute_result"
    }
   ],
   "source": [
    "np.random.choice(o[0:10], 10, p=[0.5, 0.25, 0.25, 0, 0, 0, 0, 0, 0, 0])"
   ]
  },
  {
   "cell_type": "code",
   "execution_count": 97,
   "metadata": {},
   "outputs": [
    {
     "data": {
      "text/plain": [
       "array([2, 5, 5, 3, 3, 5, 5, 2, 2, 3, 3, 5, 3, 5, 2, 2, 5, 5, 3, 2, 2, 3,\n",
       "       4, 5, 4, 4, 3, 5, 2, 5, 3, 3, 5, 3, 5, 3, 5, 2, 3, 4, 2, 4, 5, 5,\n",
       "       5, 5, 2, 2, 5, 2, 2, 2, 2, 5, 4, 2, 2, 2, 4, 4, 2, 5, 2, 4, 5, 2,\n",
       "       5, 2, 5, 2, 5, 3, 4, 2, 2, 4, 5, 2, 5, 2, 3, 2, 2, 2, 2, 2, 2, 5,\n",
       "       5, 2, 5, 3, 2, 2, 2, 3, 3, 2, 5, 5])"
      ]
     },
     "execution_count": 97,
     "metadata": {},
     "output_type": "execute_result"
    }
   ],
   "source": [
    "o.clip(2, 5) # если число меньше или равно 2 ставим 2, если число больше или равно 5 ставим 5\n"
   ]
  },
  {
   "cell_type": "code",
   "execution_count": 98,
   "metadata": {},
   "outputs": [
    {
     "data": {
      "text/plain": [
       "array([[ 1.1 ,  2.2 ,  3.3 ,  4.4 ,  5.5 ,  6.6 ],\n",
       "       [ 7.7 ,  8.8 ,  9.9 , 10.1 , 11.11, 12.12],\n",
       "       [ 0.  , 13.13, 14.14, 15.15, 16.16, 17.17]])"
      ]
     },
     "execution_count": 98,
     "metadata": {},
     "output_type": "execute_result"
    }
   ],
   "source": [
    "c"
   ]
  },
  {
   "cell_type": "code",
   "execution_count": 99,
   "metadata": {},
   "outputs": [
    {
     "data": {
      "text/plain": [
       "array([[0, 0],\n",
       "       [0, 0],\n",
       "       [5, 6],\n",
       "       [7, 8]])"
      ]
     },
     "execution_count": 99,
     "metadata": {},
     "output_type": "execute_result"
    }
   ],
   "source": [
    "a.fill(0)\n",
    "np.concatenate((a, b))\n",
    "#a"
   ]
  },
  {
   "cell_type": "code",
   "execution_count": 100,
   "metadata": {
    "scrolled": true
   },
   "outputs": [],
   "source": [
    "b = np.array([-1., 3.], float)\n",
    "\n",
    "ab1 = a + b\n",
    "ab2 = a + b[np.newaxis,:]\n",
    "ab3 = a + b[:,np.newaxis]\n"
   ]
  },
  {
   "cell_type": "code",
   "execution_count": 101,
   "metadata": {},
   "outputs": [
    {
     "name": "stdout",
     "output_type": "stream",
     "text": [
      "[[0 0]\n",
      " [0 0]]\n",
      "[-1.  3.]\n",
      "[[-1.  3.]\n",
      " [-1.  3.]]\n",
      "[[-1.  3.]\n",
      " [-1.  3.]]\n",
      "[[-1. -1.]\n",
      " [ 3.  3.]]\n"
     ]
    }
   ],
   "source": [
    "print (a)\n",
    "print (b)\n",
    "print (ab1)\n",
    "print (ab2)\n",
    "print (ab3)"
   ]
  },
  {
   "cell_type": "code",
   "execution_count": 102,
   "metadata": {},
   "outputs": [
    {
     "name": "stdout",
     "output_type": "stream",
     "text": [
      "[[1. 2.]\n",
      " [3. 4.]\n",
      " [5. 6.]\n",
      " [7. 8.]]\n",
      "[[1. 2.]\n",
      " [3. 4.]\n",
      " [5. 6.]\n",
      " [7. 8.]]\n",
      "[[1. 2. 5. 6.]\n",
      " [3. 4. 7. 8.]]\n"
     ]
    }
   ],
   "source": [
    "a = np.array([[1, 2], [3, 4]], float)\n",
    "b = np.array([[5, 6], [7,8]], float)\n",
    "print(np.concatenate((a,b)))\n",
    "print(np.concatenate((a,b), axis=0))\n",
    "print(np.concatenate((a,b), axis=1))\n"
   ]
  },
  {
   "cell_type": "markdown",
   "metadata": {},
   "source": [
    "Операции с матрицами и векторами, модуль <b>linalg</b>"
   ]
  },
  {
   "cell_type": "code",
   "execution_count": 103,
   "metadata": {},
   "outputs": [],
   "source": [
    "M1=np.array([[1, 2, 3], [4, 5, 6], [7, 8, 9]])\n",
    "M2=np.array([[2, 3, 4], [5, 6, 7], [8, 9, 0]])\n",
    "M3=np.array([1, 2, 3, 4, 5, 6])\n",
    "M4=np.array([7, 8, 9, 10, 11, 12])"
   ]
  },
  {
   "cell_type": "code",
   "execution_count": 104,
   "metadata": {},
   "outputs": [
    {
     "name": "stdout",
     "output_type": "stream",
     "text": [
      "[[1 2 3]\n",
      " [4 5 6]\n",
      " [7 8 9]]\n",
      "[[2 3 4]\n",
      " [5 6 7]\n",
      " [8 9 0]]\n"
     ]
    }
   ],
   "source": [
    "print(M1)\n",
    "print(M2)"
   ]
  },
  {
   "cell_type": "code",
   "execution_count": 105,
   "metadata": {},
   "outputs": [
    {
     "data": {
      "text/plain": [
       "array([[ 30,  36,  42],\n",
       "       [ 66,  81,  96],\n",
       "       [102, 126, 150]])"
      ]
     },
     "execution_count": 105,
     "metadata": {},
     "output_type": "execute_result"
    }
   ],
   "source": [
    "n=2\n",
    "np.linalg.matrix_power(M1, n)"
   ]
  },
  {
   "cell_type": "code",
   "execution_count": 132,
   "metadata": {},
   "outputs": [
    {
     "data": {
      "text/plain": [
       "array([[ 36,  42,  18],\n",
       "       [ 81,  96,  51],\n",
       "       [126, 150,  84]])"
      ]
     },
     "execution_count": 132,
     "metadata": {},
     "output_type": "execute_result"
    }
   ],
   "source": [
    "np.dot(M1, M2) # классическое умножение матрицы - поэлементно умножить строку на столбец и сложить \n",
    "#np.dot(M1[1], M2[:,0])"
   ]
  },
  {
   "cell_type": "code",
   "execution_count": 116,
   "metadata": {},
   "outputs": [
    {
     "data": {
      "text/plain": [
       "217"
      ]
     },
     "execution_count": 116,
     "metadata": {},
     "output_type": "execute_result"
    }
   ],
   "source": [
    "np.dot(M3, M4)"
   ]
  },
  {
   "cell_type": "code",
   "execution_count": 107,
   "metadata": {},
   "outputs": [
    {
     "data": {
      "text/plain": [
       "array([[ 42,  51,  60],\n",
       "       [ 78,  96, 114],\n",
       "       [ 44,  61,  78]])"
      ]
     },
     "execution_count": 107,
     "metadata": {},
     "output_type": "execute_result"
    }
   ],
   "source": [
    "np.dot(M2, M1)"
   ]
  },
  {
   "cell_type": "code",
   "execution_count": 118,
   "metadata": {},
   "outputs": [
    {
     "data": {
      "text/plain": [
       "array([[ 2,  3,  4,  5,  6,  7,  8,  9,  0],\n",
       "       [ 4,  6,  8, 10, 12, 14, 16, 18,  0],\n",
       "       [ 6,  9, 12, 15, 18, 21, 24, 27,  0],\n",
       "       [ 8, 12, 16, 20, 24, 28, 32, 36,  0],\n",
       "       [10, 15, 20, 25, 30, 35, 40, 45,  0],\n",
       "       [12, 18, 24, 30, 36, 42, 48, 54,  0],\n",
       "       [14, 21, 28, 35, 42, 49, 56, 63,  0],\n",
       "       [16, 24, 32, 40, 48, 56, 64, 72,  0],\n",
       "       [18, 27, 36, 45, 54, 63, 72, 81,  0]])"
      ]
     },
     "execution_count": 118,
     "metadata": {},
     "output_type": "execute_result"
    }
   ],
   "source": [
    "np.outer(M1, M2) # перемножение каждого элемента в 1 матрице на каждый элемент 2 матрицы (1ая строка = вытянутая 2 матрица * 1 элемент 1 матрицы)"
   ]
  },
  {
   "cell_type": "code",
   "execution_count": 117,
   "metadata": {},
   "outputs": [
    {
     "data": {
      "text/plain": [
       "array([[ 7,  8,  9, 10, 11, 12],\n",
       "       [14, 16, 18, 20, 22, 24],\n",
       "       [21, 24, 27, 30, 33, 36],\n",
       "       [28, 32, 36, 40, 44, 48],\n",
       "       [35, 40, 45, 50, 55, 60],\n",
       "       [42, 48, 54, 60, 66, 72]])"
      ]
     },
     "execution_count": 117,
     "metadata": {},
     "output_type": "execute_result"
    }
   ],
   "source": [
    "np.outer(M3, M4)"
   ]
  },
  {
   "cell_type": "code",
   "execution_count": 127,
   "metadata": {
    "scrolled": false
   },
   "outputs": [
    {
     "data": {
      "text/plain": [
       "array([[ 20,  38,  26],\n",
       "       [ 47,  92,  77],\n",
       "       [ 74, 146, 128]])"
      ]
     },
     "execution_count": 127,
     "metadata": {},
     "output_type": "execute_result"
    }
   ],
   "source": [
    "np.inner(M1, M2) # умножение матриц строка на строку, т.е. 1 элемент = сумме \n",
    "#np.dot(M1[1], M2[0])"
   ]
  },
  {
   "cell_type": "code",
   "execution_count": 120,
   "metadata": {},
   "outputs": [
    {
     "data": {
      "text/plain": [
       "217"
      ]
     },
     "execution_count": 120,
     "metadata": {},
     "output_type": "execute_result"
    }
   ],
   "source": [
    "np.inner(M3, M4) # для векторов то же самое что скалярное произведение (dot product)"
   ]
  },
  {
   "cell_type": "code",
   "execution_count": 110,
   "metadata": {
    "scrolled": true
   },
   "outputs": [
    {
     "data": {
      "text/plain": [
       "array([[ -1,   2,  -1],\n",
       "       [ -1,   2,  -1],\n",
       "       [-81,  72,  -1]])"
      ]
     },
     "execution_count": 110,
     "metadata": {},
     "output_type": "execute_result"
    }
   ],
   "source": [
    "np.cross(M1, M2)"
   ]
  },
  {
   "cell_type": "code",
   "execution_count": 124,
   "metadata": {},
   "outputs": [
    {
     "name": "stdout",
     "output_type": "stream",
     "text": [
      "[1 2 3]\n",
      "[4 5 6]\n"
     ]
    }
   ],
   "source": [
    "print(M1[0])\n",
    "print(M1[1])"
   ]
  },
  {
   "cell_type": "code",
   "execution_count": 123,
   "metadata": {},
   "outputs": [
    {
     "data": {
      "text/plain": [
       "array([-3,  6, -3])"
      ]
     },
     "execution_count": 123,
     "metadata": {},
     "output_type": "execute_result"
    }
   ],
   "source": [
    "# np.cross(M3, M4) # выдаст ошибку dimension must be 2 or 3\n",
    "np.cross(M1[0], M1[1])"
   ]
  },
  {
   "cell_type": "code",
   "execution_count": 111,
   "metadata": {},
   "outputs": [
    {
     "data": {
      "text/plain": [
       "6.66133814775094e-16"
      ]
     },
     "execution_count": 111,
     "metadata": {},
     "output_type": "execute_result"
    }
   ],
   "source": [
    " np.linalg.det(M1)"
   ]
  },
  {
   "cell_type": "markdown",
   "metadata": {},
   "source": [
    "eigenvalues and eigenvectors of a matrix"
   ]
  },
  {
   "cell_type": "code",
   "execution_count": 112,
   "metadata": {},
   "outputs": [
    {
     "name": "stdout",
     "output_type": "stream",
     "text": [
      "[ 1.61e+01 -1.12e+00 -1.30e-15]\n",
      "[[-0.23 -0.79  0.41]\n",
      " [-0.53 -0.09 -0.82]\n",
      " [-0.82  0.61  0.41]]\n"
     ]
    }
   ],
   "source": [
    "vals, vecs = np.linalg.eig(M1)\n",
    "print (vals)\n",
    "print (vecs)\n"
   ]
  },
  {
   "cell_type": "code",
   "execution_count": 113,
   "metadata": {},
   "outputs": [
    {
     "data": {
      "text/plain": [
       "array([[-4.50e+15,  9.01e+15, -4.50e+15],\n",
       "       [ 9.01e+15, -1.80e+16,  9.01e+15],\n",
       "       [-4.50e+15,  9.01e+15, -4.50e+15]])"
      ]
     },
     "execution_count": 113,
     "metadata": {},
     "output_type": "execute_result"
    }
   ],
   "source": [
    "np.linalg.inv(M1)"
   ]
  },
  {
   "cell_type": "code",
   "execution_count": 114,
   "metadata": {},
   "outputs": [
    {
     "data": {
      "text/plain": [
       "array([[ 1.00e+00, -2.22e-16,  0.00e+00],\n",
       "       [ 9.99e-16,  1.00e+00, -1.11e-16],\n",
       "       [ 0.00e+00,  0.00e+00,  1.00e+00]])"
      ]
     },
     "execution_count": 114,
     "metadata": {},
     "output_type": "execute_result"
    }
   ],
   "source": [
    "np.dot(M2, np.linalg.inv(M2))"
   ]
  },
  {
   "cell_type": "markdown",
   "metadata": {},
   "source": [
    "Singular value decomposition (analogous to diagonalization of a nonsquare matrix)"
   ]
  },
  {
   "cell_type": "code",
   "execution_count": 115,
   "metadata": {},
   "outputs": [
    {
     "name": "stdout",
     "output_type": "stream",
     "text": [
      "[[-0.21  0.89  0.41]\n",
      " [-0.52  0.25 -0.82]\n",
      " [-0.83 -0.39  0.41]]\n",
      "[1.68e+01 1.07e+00 1.47e-16]\n",
      "[[-0.48 -0.57 -0.67]\n",
      " [-0.78 -0.08  0.63]\n",
      " [ 0.41 -0.82  0.41]]\n"
     ]
    }
   ],
   "source": [
    "U, s, Vh = np.linalg.svd(M1)\n",
    "print (U)\n",
    "print (s)\n",
    "print (Vh)\n"
   ]
  },
  {
   "cell_type": "code",
   "execution_count": null,
   "metadata": {},
   "outputs": [],
   "source": []
  },
  {
   "cell_type": "code",
   "execution_count": null,
   "metadata": {},
   "outputs": [],
   "source": []
  },
  {
   "cell_type": "code",
   "execution_count": null,
   "metadata": {},
   "outputs": [],
   "source": []
  },
  {
   "cell_type": "code",
   "execution_count": null,
   "metadata": {},
   "outputs": [],
   "source": []
  }
 ],
 "metadata": {
  "kernelspec": {
   "display_name": "Python 3",
   "language": "python",
   "name": "python3"
  },
  "language_info": {
   "codemirror_mode": {
    "name": "ipython",
    "version": 3
   },
   "file_extension": ".py",
   "mimetype": "text/x-python",
   "name": "python",
   "nbconvert_exporter": "python",
   "pygments_lexer": "ipython3",
   "version": "3.7.7"
  }
 },
 "nbformat": 4,
 "nbformat_minor": 4
}
