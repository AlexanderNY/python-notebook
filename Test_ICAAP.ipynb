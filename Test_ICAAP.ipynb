{
 "cells": [
  {
   "cell_type": "markdown",
   "metadata": {},
   "source": [
    "Необходимо реализовать следующие функции:\n",
    "Запрос отчетных дат\n",
    "Формирование листа EXCEL\n",
    "Загрузка форм отчетности на отчетные даты\n",
    "0409123\n",
    "0409135\n",
    "0409805\n",
    "0409118\n",
    "\n",
    "Загрузка курсов валют\n",
    "Загрузка субординированных кредитов\n",
    "и"
   ]
  },
  {
   "cell_type": "code",
   "execution_count": 1,
   "metadata": {},
   "outputs": [],
   "source": []
  },
  {
   "cell_type": "code",
   "execution_count": 2,
   "metadata": {},
   "outputs": [],
   "source": [
    "from PyQt5 import QtCore, QtGui, QtWidgets\n",
    "\n",
    "class Ui_Dialog(object):\n",
    "    def setupUi(self, Dialog):\n",
    "        Dialog.setObjectName(\"Dialog\")\n",
    "        Dialog.resize(301, 251)\n",
    "        self.buttonBox = QtWidgets.QDialogButtonBox(Dialog)\n",
    "        self.buttonBox.setGeometry(QtCore.QRect(40, 210, 156, 23))\n",
    "        self.buttonBox.setOrientation(QtCore.Qt.Horizontal)\n",
    "        self.buttonBox.setStandardButtons(QtWidgets.QDialogButtonBox.Cancel|QtWidgets.QDialogButtonBox.Ok)\n",
    "        self.buttonBox.setCenterButtons(True)\n",
    "        self.buttonBox.setObjectName(\"buttonBox\")\n",
    "        self.dateEdit = QtWidgets.QDateEdit(Dialog)\n",
    "        self.dateEdit.setGeometry(QtCore.QRect(10, 10, 110, 22))\n",
    "        self.dateEdit.setObjectName(\"dateEdit\")\n",
    "        self.dateEdit_2 = QtWidgets.QDateEdit(Dialog)\n",
    "        self.dateEdit_2.setGeometry(QtCore.QRect(10, 40, 110, 22))\n",
    "        self.dateEdit_2.setObjectName(\"dateEdit_2\")\n",
    "        self.dateEdit_3 = QtWidgets.QDateEdit(Dialog)\n",
    "        self.dateEdit_3.setGeometry(QtCore.QRect(10, 70, 110, 22))\n",
    "        self.dateEdit_3.setObjectName(\"dateEdit_3\")\n",
    "        self.label = QtWidgets.QLabel(Dialog)\n",
    "        self.label.setGeometry(QtCore.QRect(130, 0, 141, 31))\n",
    "        self.label.setObjectName(\"label\")\n",
    "        self.label_2 = QtWidgets.QLabel(Dialog)\n",
    "        self.label_2.setGeometry(QtCore.QRect(130, 30, 141, 31))\n",
    "        self.label_2.setObjectName(\"label_2\")\n",
    "        self.label_3 = QtWidgets.QLabel(Dialog)\n",
    "        self.label_3.setGeometry(QtCore.QRect(130, 60, 141, 31))\n",
    "        self.label_3.setObjectName(\"label_3\")\n",
    "        self.btnBrowse = QtWidgets.QPushButton(Dialog)\n",
    "        self.btnBrowse.setGeometry(QtCore.QRect(10, 100, 281, 31))\n",
    "        self.btnBrowse.setObjectName(\"btnBrowse\")\n",
    "        self.btnBrowse_2 = QtWidgets.QPushButton(Dialog)\n",
    "        self.btnBrowse_2.setGeometry(QtCore.QRect(10, 140, 281, 31))\n",
    "        self.btnBrowse_2.setObjectName(\"btnBrowse_2\")\n",
    "\n",
    "        self.retranslateUi(Dialog)\n",
    "        self.buttonBox.accepted.connect(Dialog.accept)\n",
    "        self.buttonBox.rejected.connect(Dialog.reject)\n",
    "        QtCore.QMetaObject.connectSlotsByName(Dialog)\n",
    "\n",
    "    def retranslateUi(self, Dialog):\n",
    "        _translate = QtCore.QCoreApplication.translate\n",
    "        Dialog.setWindowTitle(_translate(\"Dialog\", \"Dialog\"))\n",
    "        self.label.setText(_translate(\"Dialog\", \"Дата 0 начала отчета\"))\n",
    "        self.label_2.setText(_translate(\"Dialog\", \"Дата 1 начала отчета\"))\n",
    "        self.label_3.setText(_translate(\"Dialog\", \"Дата 2 завершения отчета\"))\n",
    "        self.btnBrowse.setText(_translate(\"Dialog\", \"Выберите папку с формами отчетности\"))\n",
    "        self.btnBrowse_2.setText(_translate(\"Dialog\", \"Выберите папку куда сохранить итоговый файл\"))\n"
   ]
  }
 ],
 "metadata": {
  "kernelspec": {
   "display_name": "Python 3",
   "language": "python",
   "name": "python3"
  },
  "language_info": {
   "codemirror_mode": {
    "name": "ipython",
    "version": 3
   },
   "file_extension": ".py",
   "mimetype": "text/x-python",
   "name": "python",
   "nbconvert_exporter": "python",
   "pygments_lexer": "ipython3",
   "version": "3.7.7"
  }
 },
 "nbformat": 4,
 "nbformat_minor": 4
}
