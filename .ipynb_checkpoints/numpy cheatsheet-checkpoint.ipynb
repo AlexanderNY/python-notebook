{
 "cells": [
  {
   "cell_type": "code",
   "execution_count": 3,
   "metadata": {},
   "outputs": [],
   "source": [
    "import numpy as np"
   ]
  },
  {
   "cell_type": "code",
   "execution_count": 4,
   "metadata": {},
   "outputs": [],
   "source": [
    "a = np.array([1,3,5,7,9,11], dtype=int)\n",
    "b_list=[2,4,6,8,10,12]\n",
    "b = np.array(b_list)\n",
    "c = np.array([[1.1,2.2,3.3,4.4,5.5,6.6], [7.7,8.8,9.9,10.10,11.11,12.12], [13.13,14.14,15.15,16.16,17.17,0]])"
   ]
  },
  {
   "cell_type": "code",
   "execution_count": 3,
   "metadata": {},
   "outputs": [],
   "source": [
    "d = np.zeros((4,6))\n",
    "e = np.ones((3,3,3))"
   ]
  },
  {
   "cell_type": "code",
   "execution_count": 4,
   "metadata": {},
   "outputs": [],
   "source": [
    "f = np.eye(5)\n",
    "g = np.empty((5,5))\n",
    "h = np.arange(0,1,0.1)\n",
    "h2 = np.arange(10)\n",
    "\n",
    "i = np.linspace(0,1,20)"
   ]
  },
  {
   "cell_type": "code",
   "execution_count": 42,
   "metadata": {},
   "outputs": [
    {
     "name": "stdout",
     "output_type": "stream",
     "text": [
      "[ 1  3  5  7  9 11]\n",
      "-----\n",
      "[ 2  4  6  8 10 12]\n",
      "-----\n",
      "[[[  10.1   10.2   10.3]\n",
      "  [  20.1   20.2   20.3]\n",
      "  [  30.1   30.2   30.3]\n",
      "  [  40.1   40.2   40.3]\n",
      "  [  50.1   50.2   50.3]]\n",
      "\n",
      " [[ 100.1  100.2  100.3]\n",
      "  [ 200.1  200.2  200.3]\n",
      "  [ 300.1  300.2  300.3]\n",
      "  [ 400.1  400.2  400.3]\n",
      "  [ 500.1  500.2  500.3]]\n",
      "\n",
      " [[1000.1 1000.2 1000.3]\n",
      "  [2000.1 2000.2 2000.3]\n",
      "  [3000.1 3000.2 3000.3]\n",
      "  [4000.1 4000.2 4000.3]\n",
      "  [5000.1 5000.2 5000.3]]]\n",
      "-----\n"
     ]
    },
    {
     "ename": "NameError",
     "evalue": "name 'd' is not defined",
     "output_type": "error",
     "traceback": [
      "\u001b[1;31m---------------------------------------------------------------------------\u001b[0m",
      "\u001b[1;31mNameError\u001b[0m                                 Traceback (most recent call last)",
      "\u001b[1;32m<ipython-input-42-6123a8626866>\u001b[0m in \u001b[0;36m<module>\u001b[1;34m\u001b[0m\n\u001b[0;32m      5\u001b[0m \u001b[0mprint\u001b[0m \u001b[1;33m(\u001b[0m\u001b[0mc\u001b[0m\u001b[1;33m)\u001b[0m\u001b[1;33m\u001b[0m\u001b[1;33m\u001b[0m\u001b[0m\n\u001b[0;32m      6\u001b[0m \u001b[0mprint\u001b[0m \u001b[1;33m(\u001b[0m\u001b[1;34m'-----'\u001b[0m\u001b[1;33m)\u001b[0m\u001b[1;33m\u001b[0m\u001b[1;33m\u001b[0m\u001b[0m\n\u001b[1;32m----> 7\u001b[1;33m \u001b[0mprint\u001b[0m \u001b[1;33m(\u001b[0m\u001b[0md\u001b[0m\u001b[1;33m)\u001b[0m\u001b[1;33m\u001b[0m\u001b[1;33m\u001b[0m\u001b[0m\n\u001b[0m\u001b[0;32m      8\u001b[0m \u001b[0mprint\u001b[0m \u001b[1;33m(\u001b[0m\u001b[1;34m'-----'\u001b[0m\u001b[1;33m)\u001b[0m\u001b[1;33m\u001b[0m\u001b[1;33m\u001b[0m\u001b[0m\n\u001b[0;32m      9\u001b[0m \u001b[0mprint\u001b[0m \u001b[1;33m(\u001b[0m\u001b[0me\u001b[0m\u001b[1;33m)\u001b[0m\u001b[1;33m\u001b[0m\u001b[1;33m\u001b[0m\u001b[0m\n",
      "\u001b[1;31mNameError\u001b[0m: name 'd' is not defined"
     ]
    }
   ],
   "source": [
    "print (a)\n",
    "print ('-----')\n",
    "print (b)\n",
    "print ('-----')\n",
    "print (c)\n",
    "print ('-----')\n",
    "print (d)\n",
    "print ('-----')\n",
    "print (e)\n",
    "print ('-----')\n",
    "print (f)\n",
    "print ('-----')\n",
    "print (g)\n",
    "print ('-----')\n",
    "print (h)\n",
    "print (h2)\n",
    "print ('-----')\n",
    "print (i)\n",
    "print ('-----')\n",
    "type(c)"
   ]
  },
  {
   "cell_type": "code",
   "execution_count": 6,
   "metadata": {},
   "outputs": [
    {
     "name": "stdout",
     "output_type": "stream",
     "text": [
      "[[ 0.  5. 10.]\n",
      " [ 5. 10. 15.]\n",
      " [10. 15. 20.]]\n"
     ]
    }
   ],
   "source": [
    "def func_sum_mul_5(i, j):\n",
    "    return 5 * (i + j)\n",
    "\n",
    "j = np.fromfunction(func_sum_mul_5, (3,3))\n",
    "\n",
    "print (j)"
   ]
  },
  {
   "cell_type": "code",
   "execution_count": null,
   "metadata": {},
   "outputs": [],
   "source": []
  },
  {
   "cell_type": "code",
   "execution_count": 7,
   "metadata": {
    "scrolled": true
   },
   "outputs": [
    {
     "name": "stdout",
     "output_type": "stream",
     "text": [
      "[   0    1    2 ... 2997 2998 2999]\n"
     ]
    }
   ],
   "source": [
    "print(np.arange(0, 3000, 1))"
   ]
  },
  {
   "cell_type": "code",
   "execution_count": 8,
   "metadata": {},
   "outputs": [],
   "source": [
    "np.set_printoptions(precision=2 ,threshold=1000, edgeitems=5)"
   ]
  },
  {
   "cell_type": "code",
   "execution_count": 9,
   "metadata": {},
   "outputs": [
    {
     "name": "stdout",
     "output_type": "stream",
     "text": [
      "[   0    1    2    3    4 ... 2995 2996 2997 2998 2999]\n"
     ]
    }
   ],
   "source": [
    "print(np.arange(0, 3000, 1))"
   ]
  },
  {
   "cell_type": "markdown",
   "metadata": {},
   "source": [
    "одного размера\n"
   ]
  },
  {
   "cell_type": "code",
   "execution_count": 10,
   "metadata": {},
   "outputs": [
    {
     "data": {
      "text/plain": [
       "array([ 3,  7, 11, 15, 19, 23])"
      ]
     },
     "execution_count": 10,
     "metadata": {},
     "output_type": "execute_result"
    }
   ],
   "source": [
    "a + b"
   ]
  },
  {
   "cell_type": "code",
   "execution_count": 11,
   "metadata": {},
   "outputs": [
    {
     "data": {
      "text/plain": [
       "array([1, 1, 1, 1, 1, 1])"
      ]
     },
     "execution_count": 11,
     "metadata": {},
     "output_type": "execute_result"
    }
   ],
   "source": [
    "b - a"
   ]
  },
  {
   "cell_type": "code",
   "execution_count": 12,
   "metadata": {},
   "outputs": [
    {
     "data": {
      "text/plain": [
       "array([  2,  12,  30,  56,  90, 132])"
      ]
     },
     "execution_count": 12,
     "metadata": {},
     "output_type": "execute_result"
    }
   ],
   "source": [
    "a * b"
   ]
  },
  {
   "cell_type": "code",
   "execution_count": 13,
   "metadata": {},
   "outputs": [
    {
     "data": {
      "text/plain": [
       "array([2.  , 1.33, 1.2 , 1.14, 1.11, 1.09])"
      ]
     },
     "execution_count": 13,
     "metadata": {},
     "output_type": "execute_result"
    }
   ],
   "source": [
    "b / a"
   ]
  },
  {
   "cell_type": "code",
   "execution_count": 5,
   "metadata": {},
   "outputs": [
    {
     "data": {
      "text/plain": [
       "array([          1,          81,       15625,     5764801,  -808182895,\n",
       "       -1192716655], dtype=int32)"
      ]
     },
     "execution_count": 5,
     "metadata": {},
     "output_type": "execute_result"
    }
   ],
   "source": [
    "a ** b"
   ]
  },
  {
   "cell_type": "code",
   "execution_count": 15,
   "metadata": {},
   "outputs": [
    {
     "data": {
      "text/plain": [
       "array([0, 1, 1, 1, 1, 1], dtype=int32)"
      ]
     },
     "execution_count": 15,
     "metadata": {},
     "output_type": "execute_result"
    }
   ],
   "source": [
    "b % a # При взятии остатка от деления на 0 возвращается 0"
   ]
  },
  {
   "cell_type": "code",
   "execution_count": 16,
   "metadata": {},
   "outputs": [
    {
     "data": {
      "text/plain": [
       "array([2, 1, 1, 1, 1, 1], dtype=int32)"
      ]
     },
     "execution_count": 16,
     "metadata": {},
     "output_type": "execute_result"
    }
   ],
   "source": [
    "b // a"
   ]
  },
  {
   "cell_type": "markdown",
   "metadata": {},
   "source": [
    "элемент и число"
   ]
  },
  {
   "cell_type": "code",
   "execution_count": 17,
   "metadata": {},
   "outputs": [
    {
     "data": {
      "text/plain": [
       "array([ 2,  4,  6,  8, 10, 12])"
      ]
     },
     "execution_count": 17,
     "metadata": {},
     "output_type": "execute_result"
    }
   ],
   "source": [
    "a + 1"
   ]
  },
  {
   "cell_type": "code",
   "execution_count": 18,
   "metadata": {},
   "outputs": [
    {
     "data": {
      "text/plain": [
       "array([ True,  True, False, False, False, False])"
      ]
     },
     "execution_count": 18,
     "metadata": {},
     "output_type": "execute_result"
    }
   ],
   "source": [
    "a < 5"
   ]
  },
  {
   "cell_type": "code",
   "execution_count": 19,
   "metadata": {},
   "outputs": [
    {
     "data": {
      "text/plain": [
       "array([1, 3])"
      ]
     },
     "execution_count": 19,
     "metadata": {},
     "output_type": "execute_result"
    }
   ],
   "source": [
    "a[a<5]"
   ]
  },
  {
   "cell_type": "code",
   "execution_count": 20,
   "metadata": {},
   "outputs": [
    {
     "data": {
      "text/plain": [
       "36"
      ]
     },
     "execution_count": 20,
     "metadata": {},
     "output_type": "execute_result"
    }
   ],
   "source": [
    "a.sum()\n",
    "np.sum(a)"
   ]
  },
  {
   "cell_type": "markdown",
   "metadata": {},
   "source": [
    "slice"
   ]
  },
  {
   "cell_type": "code",
   "execution_count": 41,
   "metadata": {},
   "outputs": [
    {
     "name": "stdout",
     "output_type": "stream",
     "text": [
      "1\n",
      "9\n",
      "25\n",
      "49\n",
      "81\n",
      "121\n"
     ]
    }
   ],
   "source": [
    "a[0]\n",
    "a[0:2]\n",
    "a[::-1]\n",
    "\n",
    "for i in a:\n",
    "     print(i ** 2)\n"
   ]
  },
  {
   "cell_type": "code",
   "execution_count": 28,
   "metadata": {},
   "outputs": [
    {
     "data": {
      "text/plain": [
       "(3, 6)"
      ]
     },
     "execution_count": 28,
     "metadata": {},
     "output_type": "execute_result"
    }
   ],
   "source": [
    "c.shape"
   ]
  },
  {
   "cell_type": "code",
   "execution_count": 44,
   "metadata": {},
   "outputs": [
    {
     "data": {
      "text/plain": [
       "array([[ 1.1 ,  2.2 ,  3.3 ,  4.4 ,  5.5 ,  6.6 ],\n",
       "       [ 7.7 ,  8.8 ,  9.9 , 10.1 , 11.11, 12.12],\n",
       "       [13.13, 14.14, 15.15, 16.16, 17.17,  0.  ]])"
      ]
     },
     "execution_count": 44,
     "metadata": {},
     "output_type": "execute_result"
    }
   ],
   "source": [
    "c"
   ]
  },
  {
   "cell_type": "code",
   "execution_count": null,
   "metadata": {},
   "outputs": [],
   "source": []
  },
  {
   "cell_type": "code",
   "execution_count": 29,
   "metadata": {
    "scrolled": true
   },
   "outputs": [
    {
     "data": {
      "text/plain": [
       "array([1.1, 7.7, 0. ])"
      ]
     },
     "execution_count": 29,
     "metadata": {},
     "output_type": "execute_result"
    }
   ],
   "source": [
    "c.min(axis=0)  # Наименьшее число в каждом столбце\n",
    "c.min(axis=1)  # Наименьшее число в каждой строке"
   ]
  },
  {
   "cell_type": "code",
   "execution_count": 9,
   "metadata": {},
   "outputs": [
    {
     "name": "stdout",
     "output_type": "stream",
     "text": [
      "[[13.13 14.14 15.15 16.16 17.17  0.  ]\n",
      " [ 7.7   8.8   9.9  10.1  11.11 12.12]\n",
      " [ 1.1   2.2   3.3   4.4   5.5   6.6 ]]\n",
      "-----\n",
      "[13.13 14.14 15.15 16.16 17.17  0.  ]\n"
     ]
    }
   ],
   "source": [
    "print(c[::-1])\n",
    "print('-----')\n",
    "print(c[-1])"
   ]
  },
  {
   "cell_type": "code",
   "execution_count": 32,
   "metadata": {},
   "outputs": [
    {
     "data": {
      "text/plain": [
       "array([[ 7.7 ,  8.8 ,  9.9 , 10.1 , 11.11, 12.12],\n",
       "       [13.13, 14.14, 15.15, 16.16, 17.17,  0.  ]])"
      ]
     },
     "execution_count": 32,
     "metadata": {},
     "output_type": "execute_result"
    }
   ],
   "source": [
    "c[1:3:1]"
   ]
  },
  {
   "cell_type": "code",
   "execution_count": 43,
   "metadata": {},
   "outputs": [
    {
     "name": "stdout",
     "output_type": "stream",
     "text": [
      "16.16\n",
      "16.16\n",
      "16.16\n"
     ]
    }
   ],
   "source": [
    "print(c[2,3])\n",
    "print(c[(2,3)])\n",
    "print(c[2][3])"
   ]
  },
  {
   "cell_type": "code",
   "execution_count": 45,
   "metadata": {},
   "outputs": [
    {
     "data": {
      "text/plain": [
       "array([ 3.3 ,  9.9 , 15.15])"
      ]
     },
     "execution_count": 45,
     "metadata": {},
     "output_type": "execute_result"
    }
   ],
   "source": [
    "c[:,2]"
   ]
  },
  {
   "cell_type": "code",
   "execution_count": 46,
   "metadata": {},
   "outputs": [
    {
     "data": {
      "text/plain": [
       "array([[ 1.1 ,  2.2 ,  3.3 ,  4.4 ,  5.5 ,  6.6 ],\n",
       "       [ 7.7 ,  8.8 ,  9.9 , 10.1 , 11.11, 12.12]])"
      ]
     },
     "execution_count": 46,
     "metadata": {},
     "output_type": "execute_result"
    }
   ],
   "source": [
    "c[:2]"
   ]
  },
  {
   "cell_type": "code",
   "execution_count": 50,
   "metadata": {},
   "outputs": [
    {
     "data": {
      "text/plain": [
       "array([[ 8.8 ,  9.9 ],\n",
       "       [14.14, 15.15]])"
      ]
     },
     "execution_count": 50,
     "metadata": {},
     "output_type": "execute_result"
    }
   ],
   "source": [
    "c[1:3,1:3]"
   ]
  },
  {
   "cell_type": "code",
   "execution_count": 10,
   "metadata": {},
   "outputs": [
    {
     "data": {
      "text/plain": [
       "array([[ 1.1 ,  2.2 ,  3.3 ,  4.4 ,  5.5 ,  6.6 ],\n",
       "       [ 7.7 ,  8.8 ,  9.9 , 10.1 , 11.11, 12.12],\n",
       "       [13.13, 14.14, 15.15, 16.16, 17.17,  0.  ]])"
      ]
     },
     "execution_count": 10,
     "metadata": {},
     "output_type": "execute_result"
    }
   ],
   "source": [
    "c"
   ]
  },
  {
   "cell_type": "code",
   "execution_count": null,
   "metadata": {},
   "outputs": [],
   "source": [
    "\n"
   ]
  },
  {
   "cell_type": "code",
   "execution_count": 4,
   "metadata": {},
   "outputs": [],
   "source": [
    "k = np.array([[[10.1,10.2,10.3],[20.1,20.2,20.3],[30.1,30.2,30.3],[40.1,40.2,40.3],[50.1,50.2,50.3]],\n",
    "              [[100.1,100.2,100.3],[200.1,200.2,200.3],[300.1,300.2,300.3],[400.1,400.2,400.3],[500.1,500.2,500.3]],\n",
    "              [[1000.1,1000.2,1000.3],[2000.1,2000.2,2000.3],[3000.1,3000.2,3000.3],[4000.1,4000.2,4000.3],[5000.1,5000.2,5000.3]]])"
   ]
  },
  {
   "cell_type": "code",
   "execution_count": 5,
   "metadata": {},
   "outputs": [
    {
     "data": {
      "text/plain": [
       "(3, 5, 3)"
      ]
     },
     "execution_count": 5,
     "metadata": {},
     "output_type": "execute_result"
    }
   ],
   "source": [
    "k.shape"
   ]
  },
  {
   "cell_type": "markdown",
   "metadata": {},
   "source": [
    "..."
   ]
  },
  {
   "cell_type": "code",
   "execution_count": 38,
   "metadata": {},
   "outputs": [
    {
     "data": {
      "text/plain": [
       "array([[[ 10.1,  10.2,  10.3],\n",
       "        [ 20.1,  20.2,  20.3],\n",
       "        [ 30.1,  30.2,  30.3],\n",
       "        [ 40.1,  40.2,  40.3],\n",
       "        [ 50.1,  50.2,  50.3]],\n",
       "\n",
       "       [[100.1, 100.2, 100.3],\n",
       "        [200.1, 200.2, 200.3],\n",
       "        [300.1, 300.2, 300.3],\n",
       "        [400.1, 400.2, 400.3],\n",
       "        [500.1, 500.2, 500.3]]])"
      ]
     },
     "execution_count": 38,
     "metadata": {},
     "output_type": "execute_result"
    }
   ],
   "source": [
    "k[0:2,:,:]\n",
    "k[0:2,...]"
   ]
  },
  {
   "cell_type": "code",
   "execution_count": 47,
   "metadata": {},
   "outputs": [
    {
     "name": "stdout",
     "output_type": "stream",
     "text": [
      "[[10.1 10.2 10.3]\n",
      " [20.1 20.2 20.3]\n",
      " [30.1 30.2 30.3]\n",
      " [40.1 40.2 40.3]\n",
      " [50.1 50.2 50.3]]\n",
      "-----\n",
      "[10.1 10.2 10.3]\n",
      "-----\n",
      "10.1\n",
      "-----\n",
      "10.2\n",
      "-----\n",
      "10.3\n",
      "-----\n",
      "[20.1 20.2 20.3]\n",
      "-----\n",
      "20.1\n",
      "-----\n",
      "20.2\n",
      "-----\n",
      "20.3\n",
      "-----\n",
      "[30.1 30.2 30.3]\n",
      "-----\n",
      "30.1\n",
      "-----\n",
      "30.2\n",
      "-----\n",
      "30.3\n",
      "-----\n",
      "[40.1 40.2 40.3]\n",
      "-----\n",
      "40.1\n",
      "-----\n",
      "40.2\n",
      "-----\n",
      "40.3\n",
      "-----\n",
      "[50.1 50.2 50.3]\n",
      "-----\n",
      "50.1\n",
      "-----\n",
      "50.2\n",
      "-----\n",
      "50.3\n",
      "-----\n",
      "[[100.1 100.2 100.3]\n",
      " [200.1 200.2 200.3]\n",
      " [300.1 300.2 300.3]\n",
      " [400.1 400.2 400.3]\n",
      " [500.1 500.2 500.3]]\n",
      "-----\n",
      "[100.1 100.2 100.3]\n",
      "-----\n",
      "100.1\n",
      "-----\n",
      "100.2\n",
      "-----\n",
      "100.3\n",
      "-----\n",
      "[200.1 200.2 200.3]\n",
      "-----\n",
      "200.1\n",
      "-----\n",
      "200.2\n",
      "-----\n",
      "200.3\n",
      "-----\n",
      "[300.1 300.2 300.3]\n",
      "-----\n",
      "300.1\n",
      "-----\n",
      "300.2\n",
      "-----\n",
      "300.3\n",
      "-----\n",
      "[400.1 400.2 400.3]\n",
      "-----\n",
      "400.1\n",
      "-----\n",
      "400.2\n",
      "-----\n",
      "400.3\n",
      "-----\n",
      "[500.1 500.2 500.3]\n",
      "-----\n",
      "500.1\n",
      "-----\n",
      "500.2\n",
      "-----\n",
      "500.3\n",
      "-----\n",
      "[[1000.1 1000.2 1000.3]\n",
      " [2000.1 2000.2 2000.3]\n",
      " [3000.1 3000.2 3000.3]\n",
      " [4000.1 4000.2 4000.3]\n",
      " [5000.1 5000.2 5000.3]]\n",
      "-----\n",
      "[1000.1 1000.2 1000.3]\n",
      "-----\n",
      "1000.1\n",
      "-----\n",
      "1000.2\n",
      "-----\n",
      "1000.3\n",
      "-----\n",
      "[2000.1 2000.2 2000.3]\n",
      "-----\n",
      "2000.1\n",
      "-----\n",
      "2000.2\n",
      "-----\n",
      "2000.3\n",
      "-----\n",
      "[3000.1 3000.2 3000.3]\n",
      "-----\n",
      "3000.1\n",
      "-----\n",
      "3000.2\n",
      "-----\n",
      "3000.3\n",
      "-----\n",
      "[4000.1 4000.2 4000.3]\n",
      "-----\n",
      "4000.1\n",
      "-----\n",
      "4000.2\n",
      "-----\n",
      "4000.3\n",
      "-----\n",
      "[5000.1 5000.2 5000.3]\n",
      "-----\n",
      "5000.1\n",
      "-----\n",
      "5000.2\n",
      "-----\n",
      "5000.3\n",
      "-----\n"
     ]
    }
   ],
   "source": [
    "for i in k:\n",
    "    print (i)\n",
    "    print ('-----')\n",
    "    for i2 in i:\n",
    "        print (i2)\n",
    "        print ('-----')\n",
    "        for i3 in i2:\n",
    "            print (i3)\n",
    "            print ('-----')\n"
   ]
  },
  {
   "cell_type": "code",
   "execution_count": 51,
   "metadata": {},
   "outputs": [
    {
     "name": "stdout",
     "output_type": "stream",
     "text": [
      "10.1\n",
      "10.2\n",
      "10.3\n",
      "20.1\n",
      "20.2\n",
      "20.3\n",
      "30.1\n",
      "30.2\n",
      "30.3\n",
      "40.1\n",
      "40.2\n",
      "40.3\n",
      "50.1\n",
      "50.2\n",
      "50.3\n",
      "100.1\n",
      "100.2\n",
      "100.3\n",
      "200.1\n",
      "200.2\n",
      "200.3\n",
      "300.1\n",
      "300.2\n",
      "300.3\n",
      "400.1\n",
      "400.2\n",
      "400.3\n",
      "500.1\n",
      "500.2\n",
      "500.3\n",
      "1000.1\n",
      "1000.2\n",
      "1000.3\n",
      "2000.1\n",
      "2000.2\n",
      "2000.3\n",
      "3000.1\n",
      "3000.2\n",
      "3000.3\n",
      "4000.1\n",
      "4000.2\n",
      "4000.3\n",
      "5000.1\n",
      "5000.2\n",
      "5000.3\n"
     ]
    }
   ],
   "source": [
    "for i in k.flat:\n",
    "    print (i)"
   ]
  },
  {
   "cell_type": "code",
   "execution_count": 8,
   "metadata": {},
   "outputs": [
    {
     "data": {
      "text/plain": [
       "'(3, 5, 3)'"
      ]
     },
     "execution_count": 8,
     "metadata": {},
     "output_type": "execute_result"
    }
   ],
   "source": [
    "k.shape\n",
    "'''(3, 5, 3)'''"
   ]
  },
  {
   "cell_type": "code",
   "execution_count": 9,
   "metadata": {},
   "outputs": [
    {
     "data": {
      "text/plain": [
       "array([  10.1,   10.2,   10.3,   20.1,   20.2,   20.3,   30.1,   30.2,\n",
       "         30.3,   40.1,   40.2,   40.3,   50.1,   50.2,   50.3,  100.1,\n",
       "        100.2,  100.3,  200.1,  200.2,  200.3,  300.1,  300.2,  300.3,\n",
       "        400.1,  400.2,  400.3,  500.1,  500.2,  500.3, 1000.1, 1000.2,\n",
       "       1000.3, 2000.1, 2000.2, 2000.3, 3000.1, 3000.2, 3000.3, 4000.1,\n",
       "       4000.2, 4000.3, 5000.1, 5000.2, 5000.3])"
      ]
     },
     "execution_count": 9,
     "metadata": {},
     "output_type": "execute_result"
    }
   ],
   "source": [
    "k.ravel()"
   ]
  },
  {
   "cell_type": "code",
   "execution_count": 12,
   "metadata": {},
   "outputs": [
    {
     "data": {
      "text/plain": [
       "array([[  10.1,   10.2,   10.3,   20.1,   20.2,   20.3,   30.1,   30.2,\n",
       "          30.3],\n",
       "       [  40.1,   40.2,   40.3,   50.1,   50.2,   50.3,  100.1,  100.2,\n",
       "         100.3],\n",
       "       [ 200.1,  200.2,  200.3,  300.1,  300.2,  300.3,  400.1,  400.2,\n",
       "         400.3],\n",
       "       [ 500.1,  500.2,  500.3, 1000.1, 1000.2, 1000.3, 2000.1, 2000.2,\n",
       "        2000.3],\n",
       "       [3000.1, 3000.2, 3000.3, 4000.1, 4000.2, 4000.3, 5000.1, 5000.2,\n",
       "        5000.3]])"
      ]
     },
     "execution_count": 12,
     "metadata": {},
     "output_type": "execute_result"
    }
   ],
   "source": [
    "k.shape = (5, 9)\n",
    "k"
   ]
  },
  {
   "cell_type": "code",
   "execution_count": 13,
   "metadata": {},
   "outputs": [
    {
     "data": {
      "text/plain": [
       "array([[  10.1,   40.1,  200.1,  500.1, 3000.1],\n",
       "       [  10.2,   40.2,  200.2,  500.2, 3000.2],\n",
       "       [  10.3,   40.3,  200.3,  500.3, 3000.3],\n",
       "       [  20.1,   50.1,  300.1, 1000.1, 4000.1],\n",
       "       [  20.2,   50.2,  300.2, 1000.2, 4000.2],\n",
       "       [  20.3,   50.3,  300.3, 1000.3, 4000.3],\n",
       "       [  30.1,  100.1,  400.1, 2000.1, 5000.1],\n",
       "       [  30.2,  100.2,  400.2, 2000.2, 5000.2],\n",
       "       [  30.3,  100.3,  400.3, 2000.3, 5000.3]])"
      ]
     },
     "execution_count": 13,
     "metadata": {},
     "output_type": "execute_result"
    }
   ],
   "source": [
    "k.transpose()"
   ]
  },
  {
   "cell_type": "code",
   "execution_count": 20,
   "metadata": {},
   "outputs": [
    {
     "data": {
      "text/plain": [
       "array([[  10.1,   10.2,   10.3,   20.1,   20.2,   20.3,   30.1,   30.2,\n",
       "          30.3],\n",
       "       [  40.1,   40.2,   40.3,   50.1,   50.2,   50.3,  100.1,  100.2,\n",
       "         100.3],\n",
       "       [ 200.1,  200.2,  200.3,  300.1,  300.2,  300.3,  400.1,  400.2,\n",
       "         400.3],\n",
       "       [ 500.1,  500.2,  500.3, 1000.1, 1000.2, 1000.3, 2000.1, 2000.2,\n",
       "        2000.3],\n",
       "       [3000.1, 3000.2, 3000.3, 4000.1, 4000.2, 4000.3, 5000.1, 5000.2,\n",
       "        5000.3]])"
      ]
     },
     "execution_count": 20,
     "metadata": {},
     "output_type": "execute_result"
    }
   ],
   "source": [
    "k.reshape((5, 9), order='F')\n"
   ]
  },
  {
   "cell_type": "code",
   "execution_count": null,
   "metadata": {},
   "outputs": [],
   "source": [
    "b"
   ]
  },
  {
   "cell_type": "code",
   "execution_count": 21,
   "metadata": {},
   "outputs": [
    {
     "data": {
      "text/plain": [
       "array([[1, 2, 5, 6],\n",
       "       [3, 4, 7, 8]])"
      ]
     },
     "execution_count": 21,
     "metadata": {},
     "output_type": "execute_result"
    }
   ],
   "source": [
    "a = np.array([[1, 2], [3, 4]])\n",
    "b = np.array([[5, 6], [7, 8]])\n",
    "np.vstack((a, b))\n",
    "np.hstack((a, b))"
   ]
  },
  {
   "cell_type": "code",
   "execution_count": 23,
   "metadata": {},
   "outputs": [
    {
     "data": {
      "text/plain": [
       "array([[1, 2, 5, 6],\n",
       "       [3, 4, 7, 8]])"
      ]
     },
     "execution_count": 23,
     "metadata": {},
     "output_type": "execute_result"
    }
   ],
   "source": [
    "np.column_stack((a, b))\n"
   ]
  },
  {
   "cell_type": "code",
   "execution_count": 24,
   "metadata": {},
   "outputs": [
    {
     "data": {
      "text/plain": [
       "array([[1, 2],\n",
       "       [3, 4],\n",
       "       [5, 6],\n",
       "       [7, 8]])"
      ]
     },
     "execution_count": 24,
     "metadata": {},
     "output_type": "execute_result"
    }
   ],
   "source": [
    "np.row_stack((a, b))"
   ]
  },
  {
   "cell_type": "code",
   "execution_count": null,
   "metadata": {},
   "outputs": [],
   "source": []
  },
  {
   "cell_type": "code",
   "execution_count": 25,
   "metadata": {},
   "outputs": [
    {
     "data": {
      "text/plain": [
       "[array([[  10.1,   10.2,   10.3],\n",
       "        [  40.1,   40.2,   40.3],\n",
       "        [ 200.1,  200.2,  200.3],\n",
       "        [ 500.1,  500.2,  500.3],\n",
       "        [3000.1, 3000.2, 3000.3]]),\n",
       " array([[  20.1,   20.2,   20.3],\n",
       "        [  50.1,   50.2,   50.3],\n",
       "        [ 300.1,  300.2,  300.3],\n",
       "        [1000.1, 1000.2, 1000.3],\n",
       "        [4000.1, 4000.2, 4000.3]]),\n",
       " array([[  30.1,   30.2,   30.3],\n",
       "        [ 100.1,  100.2,  100.3],\n",
       "        [ 400.1,  400.2,  400.3],\n",
       "        [2000.1, 2000.2, 2000.3],\n",
       "        [5000.1, 5000.2, 5000.3]])]"
      ]
     },
     "execution_count": 25,
     "metadata": {},
     "output_type": "execute_result"
    }
   ],
   "source": [
    "np.hsplit(k, 3)  # Разбить на 3 части условной вертикальной линией"
   ]
  },
  {
   "cell_type": "code",
   "execution_count": 27,
   "metadata": {},
   "outputs": [
    {
     "data": {
      "text/plain": [
       "array([[  10.1,   10.2,   10.3,   20.1,   20.2,   20.3,   30.1,   30.2,\n",
       "          30.3],\n",
       "       [  40.1,   40.2,   40.3,   50.1,   50.2,   50.3,  100.1,  100.2,\n",
       "         100.3],\n",
       "       [ 200.1,  200.2,  200.3,  300.1,  300.2,  300.3,  400.1,  400.2,\n",
       "         400.3],\n",
       "       [ 500.1,  500.2,  500.3, 1000.1, 1000.2, 1000.3, 2000.1, 2000.2,\n",
       "        2000.3],\n",
       "       [3000.1, 3000.2, 3000.3, 4000.1, 4000.2, 4000.3, 5000.1, 5000.2,\n",
       "        5000.3]])"
      ]
     },
     "execution_count": 27,
     "metadata": {},
     "output_type": "execute_result"
    }
   ],
   "source": [
    "k"
   ]
  },
  {
   "cell_type": "code",
   "execution_count": 26,
   "metadata": {},
   "outputs": [
    {
     "data": {
      "text/plain": [
       "[array([[  10.1,   10.2,   10.3],\n",
       "        [  40.1,   40.2,   40.3],\n",
       "        [ 200.1,  200.2,  200.3],\n",
       "        [ 500.1,  500.2,  500.3],\n",
       "        [3000.1, 3000.2, 3000.3]]),\n",
       " array([[  20.1],\n",
       "        [  50.1],\n",
       "        [ 300.1],\n",
       "        [1000.1],\n",
       "        [4000.1]]),\n",
       " array([[  20.2,   20.3,   30.1,   30.2,   30.3],\n",
       "        [  50.2,   50.3,  100.1,  100.2,  100.3],\n",
       "        [ 300.2,  300.3,  400.1,  400.2,  400.3],\n",
       "        [1000.2, 1000.3, 2000.1, 2000.2, 2000.3],\n",
       "        [4000.2, 4000.3, 5000.1, 5000.2, 5000.3]])]"
      ]
     },
     "execution_count": 26,
     "metadata": {},
     "output_type": "execute_result"
    }
   ],
   "source": [
    "np.hsplit(k, (3, 4)) # Разбить на части условными вертикальными линиями после 3 и 4 столбца"
   ]
  },
  {
   "cell_type": "code",
   "execution_count": 29,
   "metadata": {},
   "outputs": [
    {
     "data": {
      "text/plain": [
       "[array([[10.1, 10.2, 10.3, 20.1, 20.2, 20.3, 30.1, 30.2, 30.3]]),\n",
       " array([[ 40.1,  40.2,  40.3,  50.1,  50.2,  50.3, 100.1, 100.2, 100.3]]),\n",
       " array([[ 200.1,  200.2,  200.3,  300.1,  300.2,  300.3,  400.1,  400.2,\n",
       "          400.3],\n",
       "        [ 500.1,  500.2,  500.3, 1000.1, 1000.2, 1000.3, 2000.1, 2000.2,\n",
       "         2000.3],\n",
       "        [3000.1, 3000.2, 3000.3, 4000.1, 4000.2, 4000.3, 5000.1, 5000.2,\n",
       "         5000.3]])]"
      ]
     },
     "execution_count": 29,
     "metadata": {},
     "output_type": "execute_result"
    }
   ],
   "source": [
    "np.vsplit(k, (1, 2)) # Разбить на части условными горизонтальными линиями после 1 и 2 строки"
   ]
  },
  {
   "cell_type": "code",
   "execution_count": 31,
   "metadata": {},
   "outputs": [
    {
     "data": {
      "text/plain": [
       "[array([[10.1, 10.2, 10.3, 20.1, 20.2, 20.3, 30.1, 30.2, 30.3]]),\n",
       " array([[ 40.1,  40.2,  40.3,  50.1,  50.2,  50.3, 100.1, 100.2, 100.3]]),\n",
       " array([[200.1, 200.2, 200.3, 300.1, 300.2, 300.3, 400.1, 400.2, 400.3]]),\n",
       " array([[ 500.1,  500.2,  500.3, 1000.1, 1000.2, 1000.3, 2000.1, 2000.2,\n",
       "         2000.3]]),\n",
       " array([[3000.1, 3000.2, 3000.3, 4000.1, 4000.2, 4000.3, 5000.1, 5000.2,\n",
       "         5000.3]])]"
      ]
     },
     "execution_count": 31,
     "metadata": {},
     "output_type": "execute_result"
    }
   ],
   "source": [
    "np.vsplit(k, 5) # Разбить на 5 частей условной горизонтальной линией"
   ]
  },
  {
   "cell_type": "code",
   "execution_count": null,
   "metadata": {},
   "outputs": [],
   "source": []
  },
  {
   "cell_type": "code",
   "execution_count": 32,
   "metadata": {},
   "outputs": [
    {
     "data": {
      "text/plain": [
       "array([[  10.1,   10.2,   10.3,   20.1,   20.2,   20.3,   30.1,   30.2,\n",
       "          30.3],\n",
       "       [  40.1,   40.2,   40.3,   50.1,   50.2,   50.3,  100.1,  100.2,\n",
       "         100.3],\n",
       "       [ 200.1,  200.2,  200.3,  300.1,  300.2,  300.3,  400.1,  400.2,\n",
       "         400.3],\n",
       "       [ 500.1,  500.2,  500.3, 1000.1, 1000.2, 1000.3, 2000.1, 2000.2,\n",
       "        2000.3],\n",
       "       [3000.1, 3000.2, 3000.3, 4000.1, 4000.2, 4000.3, 5000.1, 5000.2,\n",
       "        5000.3]])"
      ]
     },
     "execution_count": 32,
     "metadata": {},
     "output_type": "execute_result"
    }
   ],
   "source": [
    "k"
   ]
  },
  {
   "cell_type": "code",
   "execution_count": 33,
   "metadata": {},
   "outputs": [],
   "source": [
    "l=k # l и k это два имени для одного и того же"
   ]
  },
  {
   "cell_type": "code",
   "execution_count": 36,
   "metadata": {},
   "outputs": [],
   "source": [
    "l[0,0]=0"
   ]
  },
  {
   "cell_type": "code",
   "execution_count": 37,
   "metadata": {},
   "outputs": [
    {
     "data": {
      "text/plain": [
       "array([[   0. ,   10.2,   10.3,   20.1,   20.2,   20.3,   30.1,   30.2,\n",
       "          30.3],\n",
       "       [  40.1,   40.2,   40.3,   50.1,   50.2,   50.3,  100.1,  100.2,\n",
       "         100.3],\n",
       "       [ 200.1,  200.2,  200.3,  300.1,  300.2,  300.3,  400.1,  400.2,\n",
       "         400.3],\n",
       "       [ 500.1,  500.2,  500.3, 1000.1, 1000.2, 1000.3, 2000.1, 2000.2,\n",
       "        2000.3],\n",
       "       [3000.1, 3000.2, 3000.3, 4000.1, 4000.2, 4000.3, 5000.1, 5000.2,\n",
       "        5000.3]])"
      ]
     },
     "execution_count": 37,
     "metadata": {},
     "output_type": "execute_result"
    }
   ],
   "source": [
    "k"
   ]
  },
  {
   "cell_type": "code",
   "execution_count": 38,
   "metadata": {},
   "outputs": [],
   "source": [
    "m=k.view() # те е данные, но изменяется представление"
   ]
  },
  {
   "cell_type": "code",
   "execution_count": 41,
   "metadata": {},
   "outputs": [],
   "source": [
    "m=m.transpose()"
   ]
  },
  {
   "cell_type": "code",
   "execution_count": 42,
   "metadata": {},
   "outputs": [
    {
     "data": {
      "text/plain": [
       "array([[   0. ,   40.1,  200.1,  500.1, 3000.1],\n",
       "       [  10.2,   40.2,  200.2,  500.2, 3000.2],\n",
       "       [  10.3,   40.3,  200.3,  500.3, 3000.3],\n",
       "       [  20.1,   50.1,  300.1, 1000.1, 4000.1],\n",
       "       [  20.2,   50.2,  300.2, 1000.2, 4000.2],\n",
       "       [  20.3,   50.3,  300.3, 1000.3, 4000.3],\n",
       "       [  30.1,  100.1,  400.1, 2000.1, 5000.1],\n",
       "       [  30.2,  100.2,  400.2, 2000.2, 5000.2],\n",
       "       [  30.3,  100.3,  400.3, 2000.3, 5000.3]])"
      ]
     },
     "execution_count": 42,
     "metadata": {},
     "output_type": "execute_result"
    }
   ],
   "source": [
    "m"
   ]
  },
  {
   "cell_type": "code",
   "execution_count": 43,
   "metadata": {},
   "outputs": [
    {
     "data": {
      "text/plain": [
       "array([[   0. ,   10.2,   10.3,   20.1,   20.2,   20.3,   30.1,   30.2,\n",
       "          30.3],\n",
       "       [  40.1,   40.2,   40.3,   50.1,   50.2,   50.3,  100.1,  100.2,\n",
       "         100.3],\n",
       "       [ 200.1,  200.2,  200.3,  300.1,  300.2,  300.3,  400.1,  400.2,\n",
       "         400.3],\n",
       "       [ 500.1,  500.2,  500.3, 1000.1, 1000.2, 1000.3, 2000.1, 2000.2,\n",
       "        2000.3],\n",
       "       [3000.1, 3000.2, 3000.3, 4000.1, 4000.2, 4000.3, 5000.1, 5000.2,\n",
       "        5000.3]])"
      ]
     },
     "execution_count": 43,
     "metadata": {},
     "output_type": "execute_result"
    }
   ],
   "source": [
    "k"
   ]
  },
  {
   "cell_type": "code",
   "execution_count": null,
   "metadata": {},
   "outputs": [],
   "source": [
    "однако"
   ]
  },
  {
   "cell_type": "code",
   "execution_count": 44,
   "metadata": {},
   "outputs": [],
   "source": [
    "k [0,0]=1111"
   ]
  },
  {
   "cell_type": "code",
   "execution_count": 45,
   "metadata": {},
   "outputs": [
    {
     "data": {
      "text/plain": [
       "array([[1111. ,   40.1,  200.1,  500.1, 3000.1],\n",
       "       [  10.2,   40.2,  200.2,  500.2, 3000.2],\n",
       "       [  10.3,   40.3,  200.3,  500.3, 3000.3],\n",
       "       [  20.1,   50.1,  300.1, 1000.1, 4000.1],\n",
       "       [  20.2,   50.2,  300.2, 1000.2, 4000.2],\n",
       "       [  20.3,   50.3,  300.3, 1000.3, 4000.3],\n",
       "       [  30.1,  100.1,  400.1, 2000.1, 5000.1],\n",
       "       [  30.2,  100.2,  400.2, 2000.2, 5000.2],\n",
       "       [  30.3,  100.3,  400.3, 2000.3, 5000.3]])"
      ]
     },
     "execution_count": 45,
     "metadata": {},
     "output_type": "execute_result"
    }
   ],
   "source": [
    "m"
   ]
  },
  {
   "cell_type": "code",
   "execution_count": 46,
   "metadata": {},
   "outputs": [],
   "source": [
    "n = k.copy() # настоящая копия, изменение n не влияет на k"
   ]
  },
  {
   "cell_type": "markdown",
   "metadata": {},
   "source": [
    "random"
   ]
  },
  {
   "cell_type": "code",
   "execution_count": 47,
   "metadata": {},
   "outputs": [
    {
     "data": {
      "text/plain": [
       "array([0.39086193, 0.99955652, 0.98869254, 0.84080264, 0.36947805,\n",
       "       0.49606058, 0.16962996, 0.93474207, 0.40140866, 0.3783412 ])"
      ]
     },
     "execution_count": 47,
     "metadata": {},
     "output_type": "execute_result"
    }
   ],
   "source": [
    "\n",
    "import random\n",
    "\n",
    "np.random.seed(1000) # фиксируем сид для одинаковой генерации рандома\n",
    "\n",
    "np.array([random.random() for i in range(10)])\n"
   ]
  },
  {
   "cell_type": "code",
   "execution_count": 48,
   "metadata": {},
   "outputs": [
    {
     "data": {
      "text/plain": [
       "array([0.77331551, 0.23902777, 0.10785891, 0.40948567, 0.89169188,\n",
       "       0.85024264, 0.68437677, 0.6515998 , 0.0686975 , 0.9392416 ])"
      ]
     },
     "execution_count": 48,
     "metadata": {},
     "output_type": "execute_result"
    }
   ],
   "source": [
    "np.random.sample(10) # средствами numpy без аргументов возвращает просто число в промежутке [0, 1)"
   ]
  },
  {
   "cell_type": "code",
   "execution_count": 51,
   "metadata": {},
   "outputs": [
    {
     "data": {
      "text/plain": [
       "array([1.29195211, 2.01820229, 0.3554289 , 0.3159395 , 1.20610171,\n",
       "       0.10921304, 0.61941303, 2.26278322, 1.9784222 , 0.17581402])"
      ]
     },
     "execution_count": 51,
     "metadata": {},
     "output_type": "execute_result"
    }
   ],
   "source": [
    "np.random.randint(0, 3, 10)\n",
    "#np.random.random_integers(0, 3, 10) # устарела\n",
    "np.random.uniform(0, 3, 10)"
   ]
  },
  {
   "cell_type": "code",
   "execution_count": 60,
   "metadata": {},
   "outputs": [],
   "source": [
    "o=np.random.randint(0, 7, 100)"
   ]
  },
  {
   "cell_type": "code",
   "execution_count": 62,
   "metadata": {},
   "outputs": [
    {
     "data": {
      "text/plain": [
       "array([3, 6, 3, 3, 5, 5, 3, 6, 2, 4, 1, 5, 5, 1, 2, 1, 2, 1, 3, 6, 3, 5,\n",
       "       1, 1, 5, 5, 1, 4, 6, 3, 5, 3, 6, 5, 2, 3, 5, 1, 1, 5, 2, 4, 4, 5,\n",
       "       2, 1, 3, 3, 3, 0, 0, 2, 2, 6, 4, 1, 3, 3, 3, 3, 2, 0, 3, 3, 5, 3,\n",
       "       4, 0, 4, 2, 0, 3, 2, 2, 3, 6, 6, 1, 3, 0, 0, 6, 3, 5, 5, 2, 6, 5,\n",
       "       6, 6, 6, 4, 0, 3, 3, 4, 4, 5, 4, 3])"
      ]
     },
     "execution_count": 62,
     "metadata": {},
     "output_type": "execute_result"
    }
   ],
   "source": [
    "o"
   ]
  },
  {
   "cell_type": "code",
   "execution_count": null,
   "metadata": {},
   "outputs": [],
   "source": []
  },
  {
   "cell_type": "code",
   "execution_count": 67,
   "metadata": {},
   "outputs": [
    {
     "name": "stdout",
     "output_type": "stream",
     "text": [
      "None\n"
     ]
    }
   ],
   "source": [
    "print(np.random.shuffle(o)) # изменяет массив"
   ]
  },
  {
   "cell_type": "code",
   "execution_count": 68,
   "metadata": {},
   "outputs": [
    {
     "data": {
      "text/plain": [
       "array([6, 0, 4, 2, 2, 4, 5, 4, 3, 1, 6, 5, 6, 3, 3, 0, 5, 4, 6, 5, 3, 3,\n",
       "       5, 1, 3, 3, 4, 4, 2, 2, 3, 2, 3, 3, 1, 3, 3, 1, 5, 5, 6, 1, 1, 3,\n",
       "       6, 5, 4, 5, 6, 5, 1, 5, 6, 1, 1, 3, 3, 3, 5, 6, 4, 5, 3, 0, 2, 4,\n",
       "       0, 3, 3, 0, 1, 3, 3, 0, 0, 2, 3, 4, 4, 2, 3, 3, 6, 6, 2, 2, 1, 2,\n",
       "       5, 3, 6, 5, 5, 1, 3, 2, 6, 5, 0, 2])"
      ]
     },
     "execution_count": 68,
     "metadata": {},
     "output_type": "execute_result"
    }
   ],
   "source": [
    "o"
   ]
  },
  {
   "cell_type": "code",
   "execution_count": null,
   "metadata": {},
   "outputs": [],
   "source": []
  },
  {
   "cell_type": "markdown",
   "metadata": {},
   "source": [
    "numpy.random.choice(a, size=None, replace=True, p=None)\n",
    "\n",
    "a : одномерный массив или число. Если массив, будет производиться выборка из него. Если число, то выборка будет производиться из np.arange(a).\n",
    "size : размерности массива. Если None, возвращается одно значение.\n",
    "replace : если True, то одно значение может выбираться более одного раза.\n",
    "p : вероятности. Это означает, что элементы можно выбирать с неравными вероятностями. Если не заданы, используется равномерное распределение"
   ]
  },
  {
   "cell_type": "code",
   "execution_count": 71,
   "metadata": {},
   "outputs": [
    {
     "data": {
      "text/plain": [
       "array([6, 6, 6, 0, 6, 4, 6, 4, 4, 4])"
      ]
     },
     "execution_count": 71,
     "metadata": {},
     "output_type": "execute_result"
    }
   ],
   "source": [
    "np.random.choice(o[0:10], 10, p=[0.5, 0.25, 0.25, 0, 0, 0, 0, 0, 0, 0])"
   ]
  },
  {
   "cell_type": "code",
   "execution_count": null,
   "metadata": {},
   "outputs": [],
   "source": []
  }
 ],
 "metadata": {
  "kernelspec": {
   "display_name": "Python 3",
   "language": "python",
   "name": "python3"
  },
  "language_info": {
   "codemirror_mode": {
    "name": "ipython",
    "version": 3
   },
   "file_extension": ".py",
   "mimetype": "text/x-python",
   "name": "python",
   "nbconvert_exporter": "python",
   "pygments_lexer": "ipython3",
   "version": "3.7.7"
  }
 },
 "nbformat": 4,
 "nbformat_minor": 4
}
