{
 "cells": [
  {
   "cell_type": "code",
   "execution_count": 2,
   "metadata": {},
   "outputs": [],
   "source": [
    "import numpy as np"
   ]
  },
  {
   "cell_type": "code",
   "execution_count": 4,
   "metadata": {},
   "outputs": [],
   "source": [
    "a = np.array([1,3,5,7,9,11], dtype=int)\n",
    "b_list=[2,4,6,8,10,12]\n",
    "b = np.array(b_list)\n",
    "c = np.array([[1.1,2.2,3.3,4.4,5.5,6.6], [7.7,8.8,9.9,10.10,11.11,12.12], [13.13,14.14,15.15,16.16,17.17,0]])"
   ]
  },
  {
   "cell_type": "code",
   "execution_count": 3,
   "metadata": {},
   "outputs": [],
   "source": [
    "d = np.zeros((4,6))\n",
    "e = np.ones((3,3,3))"
   ]
  },
  {
   "cell_type": "code",
   "execution_count": 4,
   "metadata": {},
   "outputs": [],
   "source": [
    "f = np.eye(5)\n",
    "g = np.empty((5,5))\n",
    "h = np.arange(0,1,0.1)\n",
    "h2 = np.arange(10)\n",
    "\n",
    "i = np.linspace(0,1,20)"
   ]
  },
  {
   "cell_type": "code",
   "execution_count": 42,
   "metadata": {},
   "outputs": [
    {
     "name": "stdout",
     "output_type": "stream",
     "text": [
      "[ 1  3  5  7  9 11]\n",
      "-----\n",
      "[ 2  4  6  8 10 12]\n",
      "-----\n",
      "[[[  10.1   10.2   10.3]\n",
      "  [  20.1   20.2   20.3]\n",
      "  [  30.1   30.2   30.3]\n",
      "  [  40.1   40.2   40.3]\n",
      "  [  50.1   50.2   50.3]]\n",
      "\n",
      " [[ 100.1  100.2  100.3]\n",
      "  [ 200.1  200.2  200.3]\n",
      "  [ 300.1  300.2  300.3]\n",
      "  [ 400.1  400.2  400.3]\n",
      "  [ 500.1  500.2  500.3]]\n",
      "\n",
      " [[1000.1 1000.2 1000.3]\n",
      "  [2000.1 2000.2 2000.3]\n",
      "  [3000.1 3000.2 3000.3]\n",
      "  [4000.1 4000.2 4000.3]\n",
      "  [5000.1 5000.2 5000.3]]]\n",
      "-----\n"
     ]
    },
    {
     "ename": "NameError",
     "evalue": "name 'd' is not defined",
     "output_type": "error",
     "traceback": [
      "\u001b[1;31m---------------------------------------------------------------------------\u001b[0m",
      "\u001b[1;31mNameError\u001b[0m                                 Traceback (most recent call last)",
      "\u001b[1;32m<ipython-input-42-6123a8626866>\u001b[0m in \u001b[0;36m<module>\u001b[1;34m\u001b[0m\n\u001b[0;32m      5\u001b[0m \u001b[0mprint\u001b[0m \u001b[1;33m(\u001b[0m\u001b[0mc\u001b[0m\u001b[1;33m)\u001b[0m\u001b[1;33m\u001b[0m\u001b[1;33m\u001b[0m\u001b[0m\n\u001b[0;32m      6\u001b[0m \u001b[0mprint\u001b[0m \u001b[1;33m(\u001b[0m\u001b[1;34m'-----'\u001b[0m\u001b[1;33m)\u001b[0m\u001b[1;33m\u001b[0m\u001b[1;33m\u001b[0m\u001b[0m\n\u001b[1;32m----> 7\u001b[1;33m \u001b[0mprint\u001b[0m \u001b[1;33m(\u001b[0m\u001b[0md\u001b[0m\u001b[1;33m)\u001b[0m\u001b[1;33m\u001b[0m\u001b[1;33m\u001b[0m\u001b[0m\n\u001b[0m\u001b[0;32m      8\u001b[0m \u001b[0mprint\u001b[0m \u001b[1;33m(\u001b[0m\u001b[1;34m'-----'\u001b[0m\u001b[1;33m)\u001b[0m\u001b[1;33m\u001b[0m\u001b[1;33m\u001b[0m\u001b[0m\n\u001b[0;32m      9\u001b[0m \u001b[0mprint\u001b[0m \u001b[1;33m(\u001b[0m\u001b[0me\u001b[0m\u001b[1;33m)\u001b[0m\u001b[1;33m\u001b[0m\u001b[1;33m\u001b[0m\u001b[0m\n",
      "\u001b[1;31mNameError\u001b[0m: name 'd' is not defined"
     ]
    }
   ],
   "source": [
    "print (a)\n",
    "print ('-----')\n",
    "print (b)\n",
    "print ('-----')\n",
    "print (c)\n",
    "print ('-----')\n",
    "print (d)\n",
    "print ('-----')\n",
    "print (e)\n",
    "print ('-----')\n",
    "print (f)\n",
    "print ('-----')\n",
    "print (g)\n",
    "print ('-----')\n",
    "print (h)\n",
    "print (h2)\n",
    "print ('-----')\n",
    "print (i)\n",
    "print ('-----')\n",
    "type(c)"
   ]
  },
  {
   "cell_type": "code",
   "execution_count": 6,
   "metadata": {},
   "outputs": [
    {
     "name": "stdout",
     "output_type": "stream",
     "text": [
      "[[ 0.  5. 10.]\n",
      " [ 5. 10. 15.]\n",
      " [10. 15. 20.]]\n"
     ]
    }
   ],
   "source": [
    "def func_sum_mul_5(i, j):\n",
    "    return 5 * (i + j)\n",
    "\n",
    "j = np.fromfunction(func_sum_mul_5, (3,3))\n",
    "\n",
    "print (j)"
   ]
  },
  {
   "cell_type": "code",
   "execution_count": null,
   "metadata": {},
   "outputs": [],
   "source": []
  },
  {
   "cell_type": "code",
   "execution_count": 7,
   "metadata": {
    "scrolled": true
   },
   "outputs": [
    {
     "name": "stdout",
     "output_type": "stream",
     "text": [
      "[   0    1    2 ... 2997 2998 2999]\n"
     ]
    }
   ],
   "source": [
    "print(np.arange(0, 3000, 1))"
   ]
  },
  {
   "cell_type": "code",
   "execution_count": 8,
   "metadata": {},
   "outputs": [],
   "source": [
    "np.set_printoptions(precision=2 ,threshold=1000, edgeitems=5)"
   ]
  },
  {
   "cell_type": "code",
   "execution_count": 9,
   "metadata": {},
   "outputs": [
    {
     "name": "stdout",
     "output_type": "stream",
     "text": [
      "[   0    1    2    3    4 ... 2995 2996 2997 2998 2999]\n"
     ]
    }
   ],
   "source": [
    "print(np.arange(0, 3000, 1))"
   ]
  },
  {
   "cell_type": "markdown",
   "metadata": {},
   "source": [
    "одного размера\n"
   ]
  },
  {
   "cell_type": "code",
   "execution_count": 10,
   "metadata": {},
   "outputs": [
    {
     "data": {
      "text/plain": [
       "array([ 3,  7, 11, 15, 19, 23])"
      ]
     },
     "execution_count": 10,
     "metadata": {},
     "output_type": "execute_result"
    }
   ],
   "source": [
    "a + b"
   ]
  },
  {
   "cell_type": "code",
   "execution_count": 11,
   "metadata": {},
   "outputs": [
    {
     "data": {
      "text/plain": [
       "array([1, 1, 1, 1, 1, 1])"
      ]
     },
     "execution_count": 11,
     "metadata": {},
     "output_type": "execute_result"
    }
   ],
   "source": [
    "b - a"
   ]
  },
  {
   "cell_type": "code",
   "execution_count": 12,
   "metadata": {},
   "outputs": [
    {
     "data": {
      "text/plain": [
       "array([  2,  12,  30,  56,  90, 132])"
      ]
     },
     "execution_count": 12,
     "metadata": {},
     "output_type": "execute_result"
    }
   ],
   "source": [
    "a * b"
   ]
  },
  {
   "cell_type": "code",
   "execution_count": 13,
   "metadata": {},
   "outputs": [
    {
     "data": {
      "text/plain": [
       "array([2.  , 1.33, 1.2 , 1.14, 1.11, 1.09])"
      ]
     },
     "execution_count": 13,
     "metadata": {},
     "output_type": "execute_result"
    }
   ],
   "source": [
    "b / a"
   ]
  },
  {
   "cell_type": "code",
   "execution_count": 5,
   "metadata": {},
   "outputs": [
    {
     "data": {
      "text/plain": [
       "array([          1,          81,       15625,     5764801,  -808182895,\n",
       "       -1192716655], dtype=int32)"
      ]
     },
     "execution_count": 5,
     "metadata": {},
     "output_type": "execute_result"
    }
   ],
   "source": [
    "a ** b"
   ]
  },
  {
   "cell_type": "code",
   "execution_count": 15,
   "metadata": {},
   "outputs": [
    {
     "data": {
      "text/plain": [
       "array([0, 1, 1, 1, 1, 1], dtype=int32)"
      ]
     },
     "execution_count": 15,
     "metadata": {},
     "output_type": "execute_result"
    }
   ],
   "source": [
    "b % a # При взятии остатка от деления на 0 возвращается 0"
   ]
  },
  {
   "cell_type": "code",
   "execution_count": 16,
   "metadata": {},
   "outputs": [
    {
     "data": {
      "text/plain": [
       "array([2, 1, 1, 1, 1, 1], dtype=int32)"
      ]
     },
     "execution_count": 16,
     "metadata": {},
     "output_type": "execute_result"
    }
   ],
   "source": [
    "b // a"
   ]
  },
  {
   "cell_type": "markdown",
   "metadata": {},
   "source": [
    "элемент и число"
   ]
  },
  {
   "cell_type": "code",
   "execution_count": 17,
   "metadata": {},
   "outputs": [
    {
     "data": {
      "text/plain": [
       "array([ 2,  4,  6,  8, 10, 12])"
      ]
     },
     "execution_count": 17,
     "metadata": {},
     "output_type": "execute_result"
    }
   ],
   "source": [
    "a + 1"
   ]
  },
  {
   "cell_type": "code",
   "execution_count": 18,
   "metadata": {},
   "outputs": [
    {
     "data": {
      "text/plain": [
       "array([ True,  True, False, False, False, False])"
      ]
     },
     "execution_count": 18,
     "metadata": {},
     "output_type": "execute_result"
    }
   ],
   "source": [
    "a < 5"
   ]
  },
  {
   "cell_type": "code",
   "execution_count": 19,
   "metadata": {},
   "outputs": [
    {
     "data": {
      "text/plain": [
       "array([1, 3])"
      ]
     },
     "execution_count": 19,
     "metadata": {},
     "output_type": "execute_result"
    }
   ],
   "source": [
    "a[a<5]"
   ]
  },
  {
   "cell_type": "code",
   "execution_count": 20,
   "metadata": {},
   "outputs": [
    {
     "data": {
      "text/plain": [
       "36"
      ]
     },
     "execution_count": 20,
     "metadata": {},
     "output_type": "execute_result"
    }
   ],
   "source": [
    "a.sum()\n",
    "np.sum(a)"
   ]
  },
  {
   "cell_type": "markdown",
   "metadata": {},
   "source": [
    "slice"
   ]
  },
  {
   "cell_type": "code",
   "execution_count": 41,
   "metadata": {},
   "outputs": [
    {
     "name": "stdout",
     "output_type": "stream",
     "text": [
      "1\n",
      "9\n",
      "25\n",
      "49\n",
      "81\n",
      "121\n"
     ]
    }
   ],
   "source": [
    "a[0]\n",
    "a[0:2]\n",
    "a[::-1]\n",
    "\n",
    "for i in a:\n",
    "     print(i ** 2)\n"
   ]
  },
  {
   "cell_type": "code",
   "execution_count": 28,
   "metadata": {},
   "outputs": [
    {
     "data": {
      "text/plain": [
       "(3, 6)"
      ]
     },
     "execution_count": 28,
     "metadata": {},
     "output_type": "execute_result"
    }
   ],
   "source": [
    "c.shape"
   ]
  },
  {
   "cell_type": "code",
   "execution_count": 44,
   "metadata": {},
   "outputs": [
    {
     "data": {
      "text/plain": [
       "array([[ 1.1 ,  2.2 ,  3.3 ,  4.4 ,  5.5 ,  6.6 ],\n",
       "       [ 7.7 ,  8.8 ,  9.9 , 10.1 , 11.11, 12.12],\n",
       "       [13.13, 14.14, 15.15, 16.16, 17.17,  0.  ]])"
      ]
     },
     "execution_count": 44,
     "metadata": {},
     "output_type": "execute_result"
    }
   ],
   "source": [
    "c"
   ]
  },
  {
   "cell_type": "code",
   "execution_count": null,
   "metadata": {},
   "outputs": [],
   "source": []
  },
  {
   "cell_type": "code",
   "execution_count": 29,
   "metadata": {
    "scrolled": true
   },
   "outputs": [
    {
     "data": {
      "text/plain": [
       "array([1.1, 7.7, 0. ])"
      ]
     },
     "execution_count": 29,
     "metadata": {},
     "output_type": "execute_result"
    }
   ],
   "source": [
    "c.min(axis=0)  # Наименьшее число в каждом столбце\n",
    "c.min(axis=1)  # Наименьшее число в каждой строке"
   ]
  },
  {
   "cell_type": "code",
   "execution_count": 9,
   "metadata": {},
   "outputs": [
    {
     "name": "stdout",
     "output_type": "stream",
     "text": [
      "[[13.13 14.14 15.15 16.16 17.17  0.  ]\n",
      " [ 7.7   8.8   9.9  10.1  11.11 12.12]\n",
      " [ 1.1   2.2   3.3   4.4   5.5   6.6 ]]\n",
      "-----\n",
      "[13.13 14.14 15.15 16.16 17.17  0.  ]\n"
     ]
    }
   ],
   "source": [
    "print(c[::-1])\n",
    "print('-----')\n",
    "print(c[-1])"
   ]
  },
  {
   "cell_type": "code",
   "execution_count": 32,
   "metadata": {},
   "outputs": [
    {
     "data": {
      "text/plain": [
       "array([[ 7.7 ,  8.8 ,  9.9 , 10.1 , 11.11, 12.12],\n",
       "       [13.13, 14.14, 15.15, 16.16, 17.17,  0.  ]])"
      ]
     },
     "execution_count": 32,
     "metadata": {},
     "output_type": "execute_result"
    }
   ],
   "source": [
    "c[1:3:1]"
   ]
  },
  {
   "cell_type": "code",
   "execution_count": 43,
   "metadata": {},
   "outputs": [
    {
     "name": "stdout",
     "output_type": "stream",
     "text": [
      "16.16\n",
      "16.16\n",
      "16.16\n"
     ]
    }
   ],
   "source": [
    "print(c[2,3])\n",
    "print(c[(2,3)])\n",
    "print(c[2][3])"
   ]
  },
  {
   "cell_type": "code",
   "execution_count": 45,
   "metadata": {},
   "outputs": [
    {
     "data": {
      "text/plain": [
       "array([ 3.3 ,  9.9 , 15.15])"
      ]
     },
     "execution_count": 45,
     "metadata": {},
     "output_type": "execute_result"
    }
   ],
   "source": [
    "c[:,2]"
   ]
  },
  {
   "cell_type": "code",
   "execution_count": 46,
   "metadata": {},
   "outputs": [
    {
     "data": {
      "text/plain": [
       "array([[ 1.1 ,  2.2 ,  3.3 ,  4.4 ,  5.5 ,  6.6 ],\n",
       "       [ 7.7 ,  8.8 ,  9.9 , 10.1 , 11.11, 12.12]])"
      ]
     },
     "execution_count": 46,
     "metadata": {},
     "output_type": "execute_result"
    }
   ],
   "source": [
    "c[:2]"
   ]
  },
  {
   "cell_type": "code",
   "execution_count": 50,
   "metadata": {},
   "outputs": [
    {
     "data": {
      "text/plain": [
       "array([[ 8.8 ,  9.9 ],\n",
       "       [14.14, 15.15]])"
      ]
     },
     "execution_count": 50,
     "metadata": {},
     "output_type": "execute_result"
    }
   ],
   "source": [
    "c[1:3,1:3]"
   ]
  },
  {
   "cell_type": "code",
   "execution_count": 10,
   "metadata": {},
   "outputs": [
    {
     "data": {
      "text/plain": [
       "array([[ 1.1 ,  2.2 ,  3.3 ,  4.4 ,  5.5 ,  6.6 ],\n",
       "       [ 7.7 ,  8.8 ,  9.9 , 10.1 , 11.11, 12.12],\n",
       "       [13.13, 14.14, 15.15, 16.16, 17.17,  0.  ]])"
      ]
     },
     "execution_count": 10,
     "metadata": {},
     "output_type": "execute_result"
    }
   ],
   "source": [
    "c"
   ]
  },
  {
   "cell_type": "code",
   "execution_count": null,
   "metadata": {},
   "outputs": [],
   "source": [
    "\n"
   ]
  },
  {
   "cell_type": "code",
   "execution_count": 20,
   "metadata": {},
   "outputs": [],
   "source": [
    "k = np.array([[[10.1,10.2,10.3],[20.1,20.2,20.3],[30.1,30.2,30.3],[40.1,40.2,40.3],[50.1,50.2,50.3]],\n",
    "              [[100.1,100.2,100.3],[200.1,200.2,200.3],[300.1,300.2,300.3],[400.1,400.2,400.3],[500.1,500.2,500.3]],\n",
    "              [[1000.1,1000.2,1000.3],[2000.1,2000.2,2000.3],[3000.1,3000.2,3000.3],[4000.1,4000.2,4000.3],[5000.1,5000.2,5000.3]]])"
   ]
  },
  {
   "cell_type": "code",
   "execution_count": 24,
   "metadata": {},
   "outputs": [
    {
     "data": {
      "text/plain": [
       "(3, 5, 3)"
      ]
     },
     "execution_count": 24,
     "metadata": {},
     "output_type": "execute_result"
    }
   ],
   "source": [
    "k.shape"
   ]
  },
  {
   "cell_type": "markdown",
   "metadata": {},
   "source": [
    "..."
   ]
  },
  {
   "cell_type": "code",
   "execution_count": 38,
   "metadata": {},
   "outputs": [
    {
     "data": {
      "text/plain": [
       "array([[[ 10.1,  10.2,  10.3],\n",
       "        [ 20.1,  20.2,  20.3],\n",
       "        [ 30.1,  30.2,  30.3],\n",
       "        [ 40.1,  40.2,  40.3],\n",
       "        [ 50.1,  50.2,  50.3]],\n",
       "\n",
       "       [[100.1, 100.2, 100.3],\n",
       "        [200.1, 200.2, 200.3],\n",
       "        [300.1, 300.2, 300.3],\n",
       "        [400.1, 400.2, 400.3],\n",
       "        [500.1, 500.2, 500.3]]])"
      ]
     },
     "execution_count": 38,
     "metadata": {},
     "output_type": "execute_result"
    }
   ],
   "source": [
    "k[0:2,:,:]\n",
    "k[0:2,...]"
   ]
  },
  {
   "cell_type": "code",
   "execution_count": 47,
   "metadata": {},
   "outputs": [
    {
     "name": "stdout",
     "output_type": "stream",
     "text": [
      "[[10.1 10.2 10.3]\n",
      " [20.1 20.2 20.3]\n",
      " [30.1 30.2 30.3]\n",
      " [40.1 40.2 40.3]\n",
      " [50.1 50.2 50.3]]\n",
      "-----\n",
      "[10.1 10.2 10.3]\n",
      "-----\n",
      "10.1\n",
      "-----\n",
      "10.2\n",
      "-----\n",
      "10.3\n",
      "-----\n",
      "[20.1 20.2 20.3]\n",
      "-----\n",
      "20.1\n",
      "-----\n",
      "20.2\n",
      "-----\n",
      "20.3\n",
      "-----\n",
      "[30.1 30.2 30.3]\n",
      "-----\n",
      "30.1\n",
      "-----\n",
      "30.2\n",
      "-----\n",
      "30.3\n",
      "-----\n",
      "[40.1 40.2 40.3]\n",
      "-----\n",
      "40.1\n",
      "-----\n",
      "40.2\n",
      "-----\n",
      "40.3\n",
      "-----\n",
      "[50.1 50.2 50.3]\n",
      "-----\n",
      "50.1\n",
      "-----\n",
      "50.2\n",
      "-----\n",
      "50.3\n",
      "-----\n",
      "[[100.1 100.2 100.3]\n",
      " [200.1 200.2 200.3]\n",
      " [300.1 300.2 300.3]\n",
      " [400.1 400.2 400.3]\n",
      " [500.1 500.2 500.3]]\n",
      "-----\n",
      "[100.1 100.2 100.3]\n",
      "-----\n",
      "100.1\n",
      "-----\n",
      "100.2\n",
      "-----\n",
      "100.3\n",
      "-----\n",
      "[200.1 200.2 200.3]\n",
      "-----\n",
      "200.1\n",
      "-----\n",
      "200.2\n",
      "-----\n",
      "200.3\n",
      "-----\n",
      "[300.1 300.2 300.3]\n",
      "-----\n",
      "300.1\n",
      "-----\n",
      "300.2\n",
      "-----\n",
      "300.3\n",
      "-----\n",
      "[400.1 400.2 400.3]\n",
      "-----\n",
      "400.1\n",
      "-----\n",
      "400.2\n",
      "-----\n",
      "400.3\n",
      "-----\n",
      "[500.1 500.2 500.3]\n",
      "-----\n",
      "500.1\n",
      "-----\n",
      "500.2\n",
      "-----\n",
      "500.3\n",
      "-----\n",
      "[[1000.1 1000.2 1000.3]\n",
      " [2000.1 2000.2 2000.3]\n",
      " [3000.1 3000.2 3000.3]\n",
      " [4000.1 4000.2 4000.3]\n",
      " [5000.1 5000.2 5000.3]]\n",
      "-----\n",
      "[1000.1 1000.2 1000.3]\n",
      "-----\n",
      "1000.1\n",
      "-----\n",
      "1000.2\n",
      "-----\n",
      "1000.3\n",
      "-----\n",
      "[2000.1 2000.2 2000.3]\n",
      "-----\n",
      "2000.1\n",
      "-----\n",
      "2000.2\n",
      "-----\n",
      "2000.3\n",
      "-----\n",
      "[3000.1 3000.2 3000.3]\n",
      "-----\n",
      "3000.1\n",
      "-----\n",
      "3000.2\n",
      "-----\n",
      "3000.3\n",
      "-----\n",
      "[4000.1 4000.2 4000.3]\n",
      "-----\n",
      "4000.1\n",
      "-----\n",
      "4000.2\n",
      "-----\n",
      "4000.3\n",
      "-----\n",
      "[5000.1 5000.2 5000.3]\n",
      "-----\n",
      "5000.1\n",
      "-----\n",
      "5000.2\n",
      "-----\n",
      "5000.3\n",
      "-----\n"
     ]
    }
   ],
   "source": [
    "for i in k:\n",
    "    print (i)\n",
    "    print ('-----')\n",
    "    for i2 in i:\n",
    "        print (i2)\n",
    "        print ('-----')\n",
    "        for i3 in i2:\n",
    "            print (i3)\n",
    "            print ('-----')\n"
   ]
  },
  {
   "cell_type": "code",
   "execution_count": 51,
   "metadata": {},
   "outputs": [
    {
     "name": "stdout",
     "output_type": "stream",
     "text": [
      "10.1\n",
      "10.2\n",
      "10.3\n",
      "20.1\n",
      "20.2\n",
      "20.3\n",
      "30.1\n",
      "30.2\n",
      "30.3\n",
      "40.1\n",
      "40.2\n",
      "40.3\n",
      "50.1\n",
      "50.2\n",
      "50.3\n",
      "100.1\n",
      "100.2\n",
      "100.3\n",
      "200.1\n",
      "200.2\n",
      "200.3\n",
      "300.1\n",
      "300.2\n",
      "300.3\n",
      "400.1\n",
      "400.2\n",
      "400.3\n",
      "500.1\n",
      "500.2\n",
      "500.3\n",
      "1000.1\n",
      "1000.2\n",
      "1000.3\n",
      "2000.1\n",
      "2000.2\n",
      "2000.3\n",
      "3000.1\n",
      "3000.2\n",
      "3000.3\n",
      "4000.1\n",
      "4000.2\n",
      "4000.3\n",
      "5000.1\n",
      "5000.2\n",
      "5000.3\n"
     ]
    }
   ],
   "source": [
    "for i in k.flat:\n",
    "    print (i)"
   ]
  },
  {
   "cell_type": "code",
   "execution_count": null,
   "metadata": {},
   "outputs": [],
   "source": []
  }
 ],
 "metadata": {
  "kernelspec": {
   "display_name": "Python 3",
   "language": "python",
   "name": "python3"
  },
  "language_info": {
   "codemirror_mode": {
    "name": "ipython",
    "version": 3
   },
   "file_extension": ".py",
   "mimetype": "text/x-python",
   "name": "python",
   "nbconvert_exporter": "python",
   "pygments_lexer": "ipython3",
   "version": "3.7.7"
  }
 },
 "nbformat": 4,
 "nbformat_minor": 4
}
