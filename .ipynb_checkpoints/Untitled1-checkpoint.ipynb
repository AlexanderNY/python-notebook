{
 "cells": [
  {
   "cell_type": "code",
   "execution_count": 1,
   "id": "200ddc72",
   "metadata": {},
   "outputs": [
    {
     "name": "stdout",
     "output_type": "stream",
     "text": [
      "<class 'str'>\n"
     ]
    }
   ],
   "source": [
    "a = '3.14'\n",
    "print(type(a))\n",
    "# <class 'str'>"
   ]
  },
  {
   "cell_type": "code",
   "execution_count": 10,
   "id": "9a16b866",
   "metadata": {},
   "outputs": [
    {
     "name": "stdout",
     "output_type": "stream",
     "text": [
      "-6\n"
     ]
    }
   ],
   "source": [
    "print (13 %-3 * 3)"
   ]
  },
  {
   "cell_type": "code",
   "execution_count": 13,
   "id": "b3d8752a",
   "metadata": {},
   "outputs": [
    {
     "name": "stdout",
     "output_type": "stream",
     "text": [
      "1\n",
      "2\n",
      "3\n",
      "4\n",
      "5\n",
      "6\n",
      "7\n"
     ]
    }
   ],
   "source": [
    "numbers = '1 2 3 4 5 6 7'\n",
    "numbers_2=numbers.split()\n",
    "numbers_3=\"\\n\".join(numbers_2)\n",
    "print(numbers_3) "
   ]
  },
  {
   "cell_type": "code",
   "execution_count": null,
   "id": "c7098028",
   "metadata": {},
   "outputs": [],
   "source": [
    "\n",
    "cur_date = input('Enter date: ')\n",
    "currency = input('Enter currency: ')\n",
    "rate = 10\n",
    "print('The', currency, 'currency rate on the date', cur_date,'is', rate)\n",
    "print('The {0} currency rate on the date {2} is {1:.3f}'.format(currency, rate, cur_date))\n"
   ]
  },
  {
   "cell_type": "code",
   "execution_count": 3,
   "id": "12520b93",
   "metadata": {},
   "outputs": [
    {
     "name": "stdout",
     "output_type": "stream",
     "text": [
      "['book1', 'book2', 'book3', 'book4', 'book5'] ['book1', 'book2', 'book3', 'book4', 'book5']\n"
     ]
    }
   ],
   "source": [
    "my_books=['book1', 'book2', 'book3', 'book4', 'book5']\n",
    "tom_books=my_books.copy()\n",
    "print(my_books,tom_books)"
   ]
  },
  {
   "cell_type": "code",
   "execution_count": 4,
   "id": "43be526c",
   "metadata": {
    "scrolled": true
   },
   "outputs": [
    {
     "name": "stdout",
     "output_type": "stream",
     "text": [
      "['order1', 'order2', 'order3', 'order4', 'order5'] ['order1', 'order2', 'order3', 'order4', 'order5']\n"
     ]
    }
   ],
   "source": [
    "my_orders = ['order1', 'order2', 'order3', 'order4', 'order5']\n",
    "anne_orders= my_orders[:]\n",
    "print(my_orders,anne_orders)"
   ]
  },
  {
   "cell_type": "code",
   "execution_count": 6,
   "id": "c7af1e69",
   "metadata": {},
   "outputs": [
    {
     "name": "stdout",
     "output_type": "stream",
     "text": [
      "['order1', 'order2', 'order3', 'book1', 'book2']\n"
     ]
    }
   ],
   "source": [
    "all_things = ['order1', 'order2', 'order3']\n",
    "only_books=['book1', 'book2']\n",
    "all_things.extend(only_books)\n",
    "print(all_things)"
   ]
  },
  {
   "cell_type": "code",
   "execution_count": 10,
   "id": "fa67195a",
   "metadata": {},
   "outputs": [
    {
     "name": "stdout",
     "output_type": "stream",
     "text": [
      "[10, 9, 8, 7, 6, 5, 4, 3, 2, 1]\n"
     ]
    }
   ],
   "source": [
    "nums=list(range(1,11,1))\n",
    "nums.reverse()\n",
    "print(nums)"
   ]
  },
  {
   "cell_type": "code",
   "execution_count": 11,
   "id": "e5a400f3",
   "metadata": {},
   "outputs": [
    {
     "name": "stdout",
     "output_type": "stream",
     "text": [
      "[-5, -1, 0, 2, 3, 5, 10, 15]\n"
     ]
    }
   ],
   "source": [
    "random_values = [3, 5, 0, -1, 2, 10, 15, -5]\n",
    "random_values.sort()\n",
    "print(random_values)"
   ]
  },
  {
   "cell_type": "code",
   "execution_count": 13,
   "id": "e601d658",
   "metadata": {},
   "outputs": [
    {
     "name": "stdout",
     "output_type": "stream",
     "text": [
      "[5, 0.2, 'hello there', [1, 2, 3, 4], 'bye']\n"
     ]
    }
   ],
   "source": [
    "list1=[]\n",
    "list1.append(5)\n",
    "list1.append(0.2)\n",
    "list1.append('hello there')\n",
    "list1.append([1,2,3,4])\n",
    "list1.append('bye')\n",
    "print(list1)"
   ]
  },
  {
   "cell_type": "code",
   "execution_count": 14,
   "id": "d569e4aa",
   "metadata": {},
   "outputs": [
    {
     "name": "stdout",
     "output_type": "stream",
     "text": [
      "()\n"
     ]
    }
   ],
   "source": [
    "tpl=tuple()\n",
    "print(tpl)"
   ]
  },
  {
   "cell_type": "code",
   "execution_count": 28,
   "id": "7c905f58",
   "metadata": {},
   "outputs": [
    {
     "name": "stdout",
     "output_type": "stream",
     "text": [
      "(255,)\n",
      "('2', '5', '5')\n",
      "(15, 22, 0)\n"
     ]
    }
   ],
   "source": [
    "tpl2=255,\n",
    "tpl3=tuple('255')\n",
    "\n",
    "\n",
    "print(tpl2)\n",
    "print(tpl3)\n",
    "tpl4=(15,22,0)\n",
    "print(tpl4)"
   ]
  },
  {
   "cell_type": "code",
   "execution_count": 34,
   "id": "ff172760",
   "metadata": {},
   "outputs": [
    {
     "name": "stdout",
     "output_type": "stream",
     "text": [
      "{} {}\n"
     ]
    }
   ],
   "source": [
    "empty_dict=dict()\n",
    "#print(empty_dict)\n",
    "empty_dict2={}\n",
    "print(empty_dict,empty_dict2)"
   ]
  },
  {
   "cell_type": "code",
   "execution_count": 37,
   "id": "3ff5563e",
   "metadata": {
    "scrolled": true
   },
   "outputs": [
    {
     "name": "stdout",
     "output_type": "stream",
     "text": [
      "4\n"
     ]
    }
   ],
   "source": [
    "alphabet_dict={'a':1,'b':2,'c':3,'d':4,'e':5}\n",
    "print(alphabet_dict['d'])"
   ]
  },
  {
   "cell_type": "code",
   "execution_count": 60,
   "id": "26607a98",
   "metadata": {},
   "outputs": [
    {
     "name": "stdout",
     "output_type": "stream",
     "text": [
      "{1: 100, 2: 50, 3: 10}\n"
     ]
    }
   ],
   "source": [
    "place_and_money = {1: 100, 2: 50, 3: 10}\n",
    "place_and_money.setdefault(2,1)\n",
    "#place_and_money[4]=5\n",
    "#place_and_money.update({5:1})\n",
    "#result=place_and_money.pop(3)\n",
    "#result=place_and_money.pop(3)\n",
    "#print(result)\n",
    "print(place_and_money)"
   ]
  },
  {
   "cell_type": "code",
   "execution_count": 55,
   "id": "00cbabe5",
   "metadata": {},
   "outputs": [
    {
     "name": "stdout",
     "output_type": "stream",
     "text": [
      "{'Anne': 23, 'Anton': 27, 'Phillip': 29}\n",
      "dict_values([23, 27, 29])\n",
      "-1\n"
     ]
    }
   ],
   "source": [
    "place_and_money =  {'Anne': 22, 'Anton': 27, 'Phillip': 30}\n",
    "place_and_money.update({'Anne': 23, 'Phillip': 29})\n",
    "print(place_and_money)\n",
    "print(place_and_money.values())\n",
    "print(place_and_money.get('Danny',-1))"
   ]
  },
  {
   "cell_type": "code",
   "execution_count": 62,
   "id": "8a7feb83",
   "metadata": {},
   "outputs": [
    {
     "name": "stdout",
     "output_type": "stream",
     "text": [
      "{5: [3, 4, 5], (3, 4, 5): 'strong man'}\n"
     ]
    }
   ],
   "source": [
    "test_dict={5:[3,4,5],(3,4,5):'strong man'}\n",
    "print(test_dict)"
   ]
  },
  {
   "cell_type": "code",
   "execution_count": 63,
   "id": "59f67888",
   "metadata": {},
   "outputs": [
    {
     "name": "stdout",
     "output_type": "stream",
     "text": [
      "{'name': 'Sancho', 'surname': 'Panso', 'info': {'age': 35, 'country': 'Mexico'}}\n"
     ]
    }
   ],
   "source": [
    "test_dict2={'name':'Sancho','surname':'Panso','info':{'age': 35, 'country': 'Mexico'}}\n",
    "print(test_dict2)"
   ]
  },
  {
   "cell_type": "code",
   "execution_count": 65,
   "id": "5dbbe4d9",
   "metadata": {},
   "outputs": [
    {
     "name": "stdout",
     "output_type": "stream",
     "text": [
      "{'info': [10, 15, 27], 'about': 'dont know'}\n"
     ]
    }
   ],
   "source": [
    "test_dict3={'info':[10, 15, 27],'about':{'game': 'football', 'period': 5}}\n",
    "test_dict3.update({'about':'dont know'})\n",
    "print(test_dict3)"
   ]
  },
  {
   "cell_type": "code",
   "execution_count": 81,
   "id": "822ea032",
   "metadata": {
    "scrolled": true
   },
   "outputs": [
    {
     "name": "stdout",
     "output_type": "stream",
     "text": [
      "{'c', 'e', 'd', 'a', 'b'}\n",
      "{2, 3, 5, 10, 11}\n",
      "{'o', 's', 'c', 't', 'a', 'l', ' ', 'w', 'h'}\n"
     ]
    }
   ],
   "source": [
    "#s1 = set('a')\n",
    "s1={'a','b','c','d','e','f'}\n",
    "s1.remove('f')\n",
    "#s1.discard('f')\n",
    "\n",
    "#s1.add('hello')\n",
    "print(s1)\n",
    "s2={5, 10, 3, 2, 11}\n",
    "print(s2)\n",
    "s3=set('wow thats cool')\n",
    "print(s3)"
   ]
  },
  {
   "cell_type": "code",
   "execution_count": 94,
   "id": "09771e90",
   "metadata": {},
   "outputs": [
    {
     "data": {
      "text/plain": [
       "{'c', 'e'}"
      ]
     },
     "execution_count": 94,
     "metadata": {},
     "output_type": "execute_result"
    }
   ],
   "source": [
    "alpha_set={'a','b','c','d','e'}\n",
    "name=set('bad boy')\n",
    "#name.union(alpha_set)\n",
    "#name.intersection(alpha_set)\n",
    "alpha_set.difference(name)"
   ]
  },
  {
   "cell_type": "code",
   "execution_count": 95,
   "id": "c068ebc1",
   "metadata": {},
   "outputs": [
    {
     "name": "stdout",
     "output_type": "stream",
     "text": [
      "{0, 2, 3, 5, 6, 7, 10}\n"
     ]
    }
   ],
   "source": [
    "num_set={0,1,2,3,4,5,6,7,8,9,10}\n",
    "date_num=set([1,9,4,8])\n",
    "#print(num_set.union(date_num))\n",
    "#print(num_set.intersection(date_num))\n",
    "print(num_set.difference(date_num))\n"
   ]
  },
  {
   "cell_type": "code",
   "execution_count": 89,
   "id": "627dd5ce",
   "metadata": {},
   "outputs": [
    {
     "name": "stdout",
     "output_type": "stream",
     "text": [
      "{0, 1, 2, 3, 4, 5, 6, 7, 8, 9, 10}\n"
     ]
    }
   ],
   "source": [
    "num_set = {0, 1, 2, 3, 4, 5, 6, 7, 8, 9, 10}\n",
    "date_num = set([1, 9, 4, 8])\n",
    "print(num_set.union(date_num))"
   ]
  },
  {
   "cell_type": "code",
   "execution_count": 97,
   "id": "348b9d56",
   "metadata": {},
   "outputs": [
    {
     "name": "stdout",
     "output_type": "stream",
     "text": [
      "3.0\n"
     ]
    }
   ],
   "source": [
    "a=3\n",
    "b=float(a)\n",
    "print(b)"
   ]
  },
  {
   "cell_type": "code",
   "execution_count": 98,
   "id": "aed1e881",
   "metadata": {},
   "outputs": [
    {
     "name": "stdout",
     "output_type": "stream",
     "text": [
      "6.5 6.5\n"
     ]
    }
   ],
   "source": [
    "num1=3\n",
    "num2=3.5\n",
    "sum1=num1+num2\n",
    "sum2=float(num1)+num2\n",
    "print(sum1,sum2)"
   ]
  },
  {
   "cell_type": "code",
   "execution_count": 102,
   "id": "a975d999",
   "metadata": {},
   "outputs": [
    {
     "name": "stdout",
     "output_type": "stream",
     "text": [
      "1\n"
     ]
    }
   ],
   "source": [
    "int_one=1\n",
    "str_one=str(int_one)\n",
    "print(str_one)"
   ]
  },
  {
   "cell_type": "code",
   "execution_count": 103,
   "id": "6c4fc65e",
   "metadata": {},
   "outputs": [
    {
     "name": "stdout",
     "output_type": "stream",
     "text": [
      "my age is 18\n"
     ]
    }
   ],
   "source": [
    "str_age_begin='my age is '\n",
    "int_age=18\n",
    "result_string=str_age_begin+str(int_age)\n",
    "print(result_string)"
   ]
  },
  {
   "cell_type": "code",
   "execution_count": 104,
   "id": "48d9284b",
   "metadata": {},
   "outputs": [
    {
     "name": "stdout",
     "output_type": "stream",
     "text": [
      "I have 5 brothers\n"
     ]
    }
   ],
   "source": [
    "str_brothers_begin='I have '\n",
    "count=5\n",
    "str_brothers_end=' brothers'\n",
    "result_sentence=str_brothers_begin + str(count) + str_brothers_end\n",
    "print(result_sentence)"
   ]
  },
  {
   "cell_type": "code",
   "execution_count": 105,
   "id": "a6e3b179",
   "metadata": {},
   "outputs": [
    {
     "ename": "ValueError",
     "evalue": "invalid literal for int() with base 10: 'hello world'",
     "output_type": "error",
     "traceback": [
      "\u001b[1;31m---------------------------------------------------------------------------\u001b[0m",
      "\u001b[1;31mValueError\u001b[0m                                Traceback (most recent call last)",
      "Input \u001b[1;32mIn [105]\u001b[0m, in \u001b[0;36m<cell line: 1>\u001b[1;34m()\u001b[0m\n\u001b[1;32m----> 1\u001b[0m \u001b[38;5;28;43mint\u001b[39;49m\u001b[43m(\u001b[49m\u001b[38;5;124;43m'\u001b[39;49m\u001b[38;5;124;43mhello world\u001b[39;49m\u001b[38;5;124;43m'\u001b[39;49m\u001b[43m)\u001b[49m\n",
      "\u001b[1;31mValueError\u001b[0m: invalid literal for int() with base 10: 'hello world'"
     ]
    }
   ],
   "source": [
    "int('hello world')"
   ]
  },
  {
   "cell_type": "code",
   "execution_count": 107,
   "id": "4f5c8a17",
   "metadata": {},
   "outputs": [
    {
     "ename": "ValueError",
     "evalue": "invalid literal for int() with base 10: '50.4'",
     "output_type": "error",
     "traceback": [
      "\u001b[1;31m---------------------------------------------------------------------------\u001b[0m",
      "\u001b[1;31mValueError\u001b[0m                                Traceback (most recent call last)",
      "Input \u001b[1;32mIn [107]\u001b[0m, in \u001b[0;36m<cell line: 1>\u001b[1;34m()\u001b[0m\n\u001b[1;32m----> 1\u001b[0m \u001b[38;5;28mprint\u001b[39m(\u001b[38;5;28;43mint\u001b[39;49m\u001b[43m(\u001b[49m\u001b[38;5;124;43m'\u001b[39;49m\u001b[38;5;124;43m50.4\u001b[39;49m\u001b[38;5;124;43m'\u001b[39;49m\u001b[43m)\u001b[49m)\n",
      "\u001b[1;31mValueError\u001b[0m: invalid literal for int() with base 10: '50.4'"
     ]
    }
   ],
   "source": [
    "print(int('50.4'))"
   ]
  },
  {
   "cell_type": "code",
   "execution_count": 110,
   "id": "85a51835",
   "metadata": {
    "scrolled": true
   },
   "outputs": [
    {
     "name": "stdout",
     "output_type": "stream",
     "text": [
      "['a', 'b', 'c', 'd', 'e']\n"
     ]
    }
   ],
   "source": [
    "print(list(('a','b','c','d','e')))"
   ]
  },
  {
   "cell_type": "code",
   "execution_count": 112,
   "id": "ca3aff5c",
   "metadata": {},
   "outputs": [
    {
     "name": "stdout",
     "output_type": "stream",
     "text": [
      "[1, 2, 3, 4, -5, -3, -1, 1, 3, 5, 7, 9, 11, 13]\n"
     ]
    }
   ],
   "source": [
    "list2=list(range(-5,15,2))\n",
    "list3= [1,2,3,4]\n",
    "list3.extend(list2)\n",
    "print(list3)"
   ]
  },
  {
   "cell_type": "code",
   "execution_count": 121,
   "id": "5b1ef83b",
   "metadata": {},
   "outputs": [
    {
     "name": "stdout",
     "output_type": "stream",
     "text": [
      "[3, 1, -10, 5, 11, 20, 1, -10]\n",
      "[-10, -10, 1, 1, 3, 5, 11, 20]\n",
      "[3, 1, -10, 5, 11, 20, 1, -10] [20, 11, 5, 3, 1, 1, -10, -10]\n"
     ]
    }
   ],
   "source": [
    "list6=[3, 1, -10, 5, 11, 20, 1, -10]\n",
    "list7=list6[:]\n",
    "print(list7)\n",
    "list6.sort()\n",
    "print(list6)\n",
    "list_result=list6[::-1]\n",
    "print(list7,list_result)"
   ]
  },
  {
   "cell_type": "code",
   "execution_count": 123,
   "id": "b791da62",
   "metadata": {},
   "outputs": [
    {
     "name": "stdout",
     "output_type": "stream",
     "text": [
      "{(10, 15): 'hello'}\n"
     ]
    }
   ],
   "source": [
    "list1=[10,15]\n",
    "tpl1=tuple(list1)\n",
    "dict1={}\n",
    "dict1.update({tpl1:'hello'})\n",
    "print(dict1)"
   ]
  },
  {
   "cell_type": "code",
   "execution_count": 124,
   "id": "aef3dde8",
   "metadata": {
    "scrolled": true
   },
   "outputs": [
    {
     "name": "stdout",
     "output_type": "stream",
     "text": [
      "{'name': 'unknown'} {'name': 'Tom'} dict_keys(['name']) dict_values(['unknown'])\n"
     ]
    }
   ],
   "source": [
    "dict1={'name':'unknown'} \n",
    "dict2={'name':'Tom'}\n",
    "print(dict1,dict2,dict1.keys(),dict1.values())"
   ]
  },
  {
   "cell_type": "code",
   "execution_count": 125,
   "id": "57e2e2d9",
   "metadata": {
    "scrolled": true
   },
   "outputs": [
    {
     "name": "stdout",
     "output_type": "stream",
     "text": [
      "{'o', 'e', 'l', 'w', 'h'} {'o'} {'e', 'l', 'h'}\n"
     ]
    }
   ],
   "source": [
    "s1=set('hello')\n",
    "s2=set(['w', 'o', 'w'])\n",
    "print(s1.union(s2),s1.intersection(s2),s1.difference(s2))"
   ]
  },
  {
   "cell_type": "code",
   "execution_count": 127,
   "id": "f70dfa45",
   "metadata": {
    "scrolled": true
   },
   "outputs": [
    {
     "name": "stdout",
     "output_type": "stream",
     "text": [
      "age is 15\n"
     ]
    }
   ],
   "source": [
    "result='age is '+str(15)\n",
    "print(result)"
   ]
  },
  {
   "cell_type": "code",
   "execution_count": 129,
   "id": "19c34016",
   "metadata": {},
   "outputs": [
    {
     "data": {
      "text/plain": [
       "True"
      ]
     },
     "execution_count": 129,
     "metadata": {},
     "output_type": "execute_result"
    }
   ],
   "source": [
    "var = ('a' in ['a', 'b', 'c'])\n",
    "var"
   ]
  },
  {
   "cell_type": "code",
   "execution_count": 131,
   "id": "cbee661f",
   "metadata": {},
   "outputs": [
    {
     "name": "stdout",
     "output_type": "stream",
     "text": [
      "True\n"
     ]
    }
   ],
   "source": [
    "print(not False and True or False and not True)"
   ]
  },
  {
   "cell_type": "code",
   "execution_count": 7,
   "id": "ffc93eb6",
   "metadata": {},
   "outputs": [
    {
     "name": "stdout",
     "output_type": "stream",
     "text": [
      "t\n"
     ]
    }
   ],
   "source": [
    "x=2020\n",
    "\n",
    "if (x % 4 == 0 or x % 400 == 0) and not(x % 400 !=0 and x % 100 == 0 ):\n",
    "         x='t'\n",
    "print(x)\n"
   ]
  },
  {
   "cell_type": "code",
   "execution_count": 10,
   "id": "f73c1512",
   "metadata": {},
   "outputs": [
    {
     "data": {
      "text/plain": [
       "[1, 1, 1, 0]"
      ]
     },
     "execution_count": 10,
     "metadata": {},
     "output_type": "execute_result"
    }
   ],
   "source": [
    "list(map(lambda x, y: x - y, [2, 4, 6,6], [1, 3, 5,6]))"
   ]
  },
  {
   "cell_type": "code",
   "execution_count": 1,
   "id": "34f4c0a6",
   "metadata": {},
   "outputs": [
    {
     "name": "stdout",
     "output_type": "stream",
     "text": [
      "True\n"
     ]
    }
   ],
   "source": [
    "list_1 = [1, 2]\n",
    " \n",
    "list_2 = [1, 2, 3]\n",
    "val = list_2.pop()\n",
    " \n",
    "print(list_1 == list_2)"
   ]
  },
  {
   "cell_type": "code",
   "execution_count": 2,
   "id": "f721873f",
   "metadata": {},
   "outputs": [
    {
     "name": "stdout",
     "output_type": "stream",
     "text": [
      "False\n"
     ]
    }
   ],
   "source": [
    "list_1 = [1, 2]\n",
    " \n",
    "list_2 = [1, 2, 3]\n",
    "val = list_2.pop()\n",
    " \n",
    "print(id(list_1) == id(list_2))"
   ]
  },
  {
   "cell_type": "code",
   "execution_count": 3,
   "id": "8bcfae58",
   "metadata": {},
   "outputs": [
    {
     "name": "stdout",
     "output_type": "stream",
     "text": [
      "!\n"
     ]
    }
   ],
   "source": [
    "phone='1'\n",
    "if phone!=None:\n",
    "    print('!')\n",
    "else:\n",
    "    print('x')"
   ]
  },
  {
   "cell_type": "code",
   "execution_count": 14,
   "id": "aa789d58",
   "metadata": {},
   "outputs": [
    {
     "name": "stdout",
     "output_type": "stream",
     "text": [
      "input a number5\n",
      "1.0  number is correct\n",
      "1.0 that is all, folks\n"
     ]
    }
   ],
   "source": [
    "x=input(\"input a number\")\n",
    "try:\n",
    "    x=5/int(x)     \n",
    "except ValueError:\n",
    "    print(x, \" number is from tula\")\n",
    "except ZeroDivisionError:\n",
    "    print(x, \" number is 0\")\n",
    "else:\n",
    "    print(x, \" number is correct\")\n",
    "finally:\n",
    "    print(x, \"that is all, folks\")"
   ]
  },
  {
   "cell_type": "code",
   "execution_count": 4,
   "id": "b2ea4d9c",
   "metadata": {},
   "outputs": [
    {
     "name": "stdout",
     "output_type": "stream",
     "text": [
      "True\n"
     ]
    }
   ],
   "source": [
    "\n",
    "user_database = {\n",
    "    'user': 'password',\n",
    "    'iseedeadpeople': 'greedisgood',\n",
    "    'hesoyam': 'tgm'\n",
    "}\n",
    "\n",
    "def check_user(username, password):\n",
    "    if user_database.get(username, None):\n",
    "        if user_database[username]==password:\n",
    "            return True\n",
    "    else:\n",
    "        return False\n",
    "    \n",
    "    \n",
    "print(check_user('user', 'password'))    \n"
   ]
  },
  {
   "cell_type": "code",
   "execution_count": 6,
   "id": "60c2a787",
   "metadata": {},
   "outputs": [
    {
     "name": "stdout",
     "output_type": "stream",
     "text": [
      "6\n",
      "6\n"
     ]
    }
   ],
   "source": [
    "a=5\n",
    "b=6\n",
    "\n",
    "result = a if a > b else b\n",
    "print(result)\n",
    "#ИЛИ\n",
    "result = (b, a)[a > b]\n",
    "print(result)"
   ]
  },
  {
   "cell_type": "code",
   "execution_count": 7,
   "id": "404bb616",
   "metadata": {},
   "outputs": [
    {
     "name": "stdout",
     "output_type": "stream",
     "text": [
      "Product 1, weight: 10 -passenger car\n",
      "Product 2, weight: 42.4 -passenger car\n",
      "Product 3, weight: 240.1 -truck\n",
      "Product 4, weight: 101.5 -truck\n",
      "Product 5, weight: 98 -passenger car\n",
      "Product 6, weight: 0.4 -passenger car\n",
      "Product 7, weight: 0.3 -passenger car\n",
      "Product 8, weight: 15 -passenger car\n"
     ]
    }
   ],
   "source": [
    "weight_of_products = [10, 42.4, 240.1, 101.5, 98, 0.4, 0.3, 15] #список масс товаров\n",
    "\n",
    "max_weight = 100 #задаём максимальное значение веса груза\n",
    "num = 1 #задаём начальный номер груза\n",
    "#создаём цикл по элементам списка с массами товаров\n",
    "for weight in weight_of_products: #weight — текущее значение веса\n",
    "    if weight < max_weight: #если текущий вес меньше максимального,\n",
    "        #выводим номер груза, его вес и отправляем его в легковую машину\n",
    "        print('Product {}, weight: {} -passenger car'.format(num, weight)) \n",
    "    else:\n",
    "        #выводим номер груза, его вес и отправляем его в грузовую машину\n",
    "        print('Product {}, weight: {} -truck'.format(num, weight))\n",
    "    num += 1 #увеличиваем значение номера груза на 1"
   ]
  },
  {
   "cell_type": "code",
   "execution_count": 9,
   "id": "e366b09e",
   "metadata": {
    "scrolled": true
   },
   "outputs": [
    {
     "name": "stdout",
     "output_type": "stream",
     "text": [
      "[1, 2, 4, 8, 16, 32, 64, 128, 256, 512, 1024]\n"
     ]
    }
   ],
   "source": [
    "my_list = [1]\n",
    "for i in range(10):\n",
    "    my_list.append(my_list[i] * 2)\n",
    "print(my_list)"
   ]
  },
  {
   "cell_type": "code",
   "execution_count": 30,
   "id": "3868c13d",
   "metadata": {},
   "outputs": [
    {
     "name": "stdout",
     "output_type": "stream",
     "text": [
      "My name is Alexander \n"
     ]
    }
   ],
   "source": [
    "string=\"\"\n",
    "word_list = ['My', 'name', 'is', 'Alexander']\n",
    "for word in word_list:\n",
    "    string+=word\n",
    "    string+=\" \"\n",
    "print(string)"
   ]
  },
  {
   "cell_type": "code",
   "execution_count": 13,
   "id": "3edd784d",
   "metadata": {},
   "outputs": [
    {
     "name": "stdout",
     "output_type": "stream",
     "text": [
      "[-5, 1, 3, 10]\n"
     ]
    }
   ],
   "source": [
    "num_list = [1, 10, 3, -5]\n",
    "num_list.sort()\n",
    "print(num_list)"
   ]
  },
  {
   "cell_type": "code",
   "execution_count": 2,
   "id": "868908bc",
   "metadata": {},
   "outputs": [
    {
     "name": "stdout",
     "output_type": "stream",
     "text": [
      "<class 'str'>\n",
      "0\n",
      "True\n",
      "<class 'bool'>\n",
      "1\n",
      "1\n",
      "<class 'int'>\n",
      "2\n",
      "-10\n",
      "<class 'int'>\n",
      "3\n",
      "hello\n",
      "<class 'str'>\n",
      "4\n",
      "False\n",
      "<class 'bool'>\n",
      "5\n",
      "string_1\n",
      "<class 'str'>\n",
      "6\n",
      "123\n",
      "<class 'int'>\n",
      "7\n",
      "2.5\n",
      "<class 'float'>\n",
      "8\n",
      "[1, 2]\n",
      "<class 'list'>\n",
      "9\n",
      "another\n",
      "<class 'str'>\n",
      "3\n"
     ]
    }
   ],
   "source": [
    "counter=0\n",
    "#my_list = list(range(0, 100, 3))\n",
    "my_list = [True, 1, -10, 'hello', False, 'string_1', 123, 2.5, [1, 2], 'another']\n",
    "print(str)\n",
    "for i in range(len(my_list)):\n",
    "    print(i)\n",
    "    print(my_list[i])\n",
    "    print(type(my_list[i]))\n",
    "    #if i%2==0:\n",
    "    if isinstance(my_list[i],str):\n",
    "        counter+=1\n",
    "print(counter)"
   ]
  },
  {
   "cell_type": "code",
   "execution_count": 15,
   "id": "3f38f156",
   "metadata": {
    "scrolled": true
   },
   "outputs": [
    {
     "data": {
      "text/plain": [
       "str"
      ]
     },
     "execution_count": 15,
     "metadata": {},
     "output_type": "execute_result"
    }
   ],
   "source": [
    "type(\"qs\")"
   ]
  },
  {
   "cell_type": "code",
   "execution_count": 3,
   "id": "93a8677b",
   "metadata": {
    "scrolled": true
   },
   "outputs": [
    {
     "name": "stdout",
     "output_type": "stream",
     "text": [
      "Current sum weight 67\n",
      "Current sum weight 134\n",
      "Current sum weight 201\n",
      "Current sum weight 268\n",
      "Current sum weight 335\n",
      "Current sum weight 402\n",
      "\n",
      "Overweight 2 kg\n"
     ]
    }
   ],
   "source": [
    "weight = 67 #заданный вес входящего в лифт человека\n",
    "max_weight = 400 #задаём грузоподъёмность\n",
    "S = 0 #задаём суммарный вес людей в лифте\n",
    "#создаём цикл, который будет работать, пока S не превысит max_weight \n",
    "while S < max_weight: #делай, пока...\n",
    "    S += weight #увеличиваем суммарный вес, равносильно S = S + weight \n",
    "    print('Current sum weight', S) #выводим значение суммарного веса после обновления\n",
    "print() #отделяем промежуточный вывод от результата пустой строкой\n",
    "print('Overweight {} kg'.format(S-max_weight)) #выводим итоговое значение перевеса\n"
   ]
  },
  {
   "cell_type": "code",
   "execution_count": 4,
   "id": "896e9c76",
   "metadata": {
    "scrolled": true
   },
   "outputs": [
    {
     "name": "stdout",
     "output_type": "stream",
     "text": [
      "Still counting ...\n",
      "Still counting ...\n",
      "Still counting ...\n",
      "Still counting ...\n",
      "Still counting ...\n",
      "Still counting ...\n",
      "Still counting ...\n",
      "Still counting ...\n",
      "Still counting ...\n",
      "Still counting ...\n",
      "Still counting ...\n",
      "Still counting ...\n",
      "Still counting ...\n",
      "Still counting ...\n",
      "Still counting ...\n",
      "Still counting ...\n",
      "Still counting ...\n",
      "Still counting ...\n",
      "Still counting ...\n",
      "Still counting ...\n",
      "Still counting ...\n",
      "Still counting ...\n",
      "Still counting ...\n",
      "Still counting ...\n",
      "Still counting ...\n",
      "Still counting ...\n",
      "Still counting ...\n",
      "Still counting ...\n",
      "Still counting ...\n",
      "Still counting ...\n",
      "Still counting ...\n",
      "Still counting ...\n",
      "\n",
      "Sum is:  528\n",
      "Numbers total:  32\n"
     ]
    }
   ],
   "source": [
    "S = 0  # создаём накопительную переменную, в которой будем считать сумму\n",
    "n = 1  # задаём текущее натуральное число\n",
    " \n",
    "# создаём цикл, который будет работать, пока сумма не превысит 500\n",
    "while S < 500:  # делай, пока ...\n",
    "    S += n  # увеличиваем сумму, равносильно S = S + n\n",
    "    n += 1  # увеличиваем значение натурального числа\n",
    "    print(\"Still counting ...\") #выводим строку ожидания\n",
    "print() #отделяем промежуточный вывод от результата пустой строкой\n",
    "print(\"Sum is: \", S) #выводим результирующую сумму\n",
    "print(\"Numbers total: \", n-1) #выводим результирующее количество чисел"
   ]
  },
  {
   "cell_type": "markdown",
   "id": "60fe1c50",
   "metadata": {},
   "source": [
    "Напишите бесконечный цикл while с условием выхода внутри цикла, который находит максимальное натуральное число, квадрат которого меньше 1000."
   ]
  },
  {
   "cell_type": "code",
   "execution_count": 7,
   "id": "3caefc25",
   "metadata": {},
   "outputs": [
    {
     "name": "stdout",
     "output_type": "stream",
     "text": [
      "0   0\n",
      "Продолжаем\n",
      "\n",
      "1   1\n",
      "Продолжаем\n",
      "\n",
      "2   4\n",
      "Продолжаем\n",
      "\n",
      "3   9\n",
      "Продолжаем\n",
      "\n",
      "4   16\n",
      "Продолжаем\n",
      "\n",
      "5   25\n",
      "Продолжаем\n",
      "\n",
      "6   36\n",
      "Продолжаем\n",
      "\n",
      "7   49\n",
      "Продолжаем\n",
      "\n",
      "8   64\n",
      "Продолжаем\n",
      "\n",
      "9   81\n",
      "Продолжаем\n",
      "\n",
      "10   100\n",
      "Продолжаем\n",
      "\n",
      "11   121\n",
      "Продолжаем\n",
      "\n",
      "12   144\n",
      "Продолжаем\n",
      "\n",
      "13   169\n",
      "Продолжаем\n",
      "\n",
      "14   196\n",
      "Продолжаем\n",
      "\n",
      "15   225\n",
      "Продолжаем\n",
      "\n",
      "16   256\n",
      "Продолжаем\n",
      "\n",
      "17   289\n",
      "Продолжаем\n",
      "\n",
      "18   324\n",
      "Продолжаем\n",
      "\n",
      "19   361\n",
      "Продолжаем\n",
      "\n",
      "20   400\n",
      "Продолжаем\n",
      "\n",
      "21   441\n",
      "Продолжаем\n",
      "\n",
      "22   484\n",
      "Продолжаем\n",
      "\n",
      "23   529\n",
      "Продолжаем\n",
      "\n",
      "24   576\n",
      "Продолжаем\n",
      "\n",
      "25   625\n",
      "Продолжаем\n",
      "\n",
      "26   676\n",
      "Продолжаем\n",
      "\n",
      "27   729\n",
      "Продолжаем\n",
      "\n",
      "28   784\n",
      "Продолжаем\n",
      "\n",
      "29   841\n",
      "Продолжаем\n",
      "\n",
      "30   900\n",
      "Продолжаем\n",
      "\n",
      "31   961\n",
      "Продолжаем\n",
      "\n",
      "32   1024\n",
      "Уже больше косаря! СТОП!\n"
     ]
    }
   ],
   "source": [
    "n=0\n",
    "while True:\n",
    "    print(n, \" \", n**2)\n",
    "    if n**2 > 1000:\n",
    "        print(\"Уже больше косаря! СТОП!\")\n",
    "        break\n",
    "    else:\n",
    "        print(\"Продолжаем\")\n",
    "        print()\n",
    "    n+=1"
   ]
  },
  {
   "cell_type": "code",
   "execution_count": 8,
   "id": "5b0b1124",
   "metadata": {},
   "outputs": [
    {
     "name": "stdout",
     "output_type": "stream",
     "text": [
      "5\n"
     ]
    }
   ],
   "source": [
    "i = 0\n",
    "while i < 5:\n",
    "    i += 1\n",
    "print(i)"
   ]
  },
  {
   "cell_type": "code",
   "execution_count": 9,
   "id": "034cae33",
   "metadata": {},
   "outputs": [
    {
     "name": "stdout",
     "output_type": "stream",
     "text": [
      "4\n"
     ]
    }
   ],
   "source": [
    "n = 10\n",
    "i = 1\n",
    "while i ** 2 < n:\n",
    "    i += 1\n",
    "print(i)"
   ]
  },
  {
   "cell_type": "markdown",
   "id": "94fc6a23",
   "metadata": {},
   "source": [
    "Напишите цикл while, который вычисляет произведение натуральных чисел (1*2*3*4*...). Цикл должен выполняться до тех пор, пока значение произведения не превысит 1 000. В ответ запишите полученное после цикла произведение."
   ]
  },
  {
   "cell_type": "code",
   "execution_count": 13,
   "id": "bd84e8e5",
   "metadata": {},
   "outputs": [
    {
     "name": "stdout",
     "output_type": "stream",
     "text": [
      "3   1   0  \n",
      "3\n",
      "9   2   1  \n",
      "9\n",
      "27   3   2  \n",
      "27\n",
      "81   4   3  \n",
      "81\n",
      "243   5   4  \n",
      "243\n",
      "729   6   5  \n",
      "729\n",
      "ну вот и все\n"
     ]
    }
   ],
   "source": [
    "S = 3\n",
    "n = 1\n",
    "i=0\n",
    "while 3**n < 1000:\n",
    "    S=3**n\n",
    "    print(S,\" \",n,\" \",i,\" \")\n",
    "    print(S)\n",
    "    n += 1\n",
    "    i += 1 \n",
    "print(\"ну вот и все\")\n"
   ]
  },
  {
   "cell_type": "code",
   "execution_count": 14,
   "id": "3aabfd9f",
   "metadata": {
    "scrolled": true
   },
   "outputs": [
    {
     "name": "stdout",
     "output_type": "stream",
     "text": [
      "1080.0   0\n",
      "1166.4   1\n",
      "1259.7120000000002   2\n",
      "1360.4889600000004   3\n",
      "1469.3280768000004   4\n",
      "1586.8743229440006   5\n",
      "1713.8242687795207   6\n",
      "1850.9302102818824   7\n",
      "1999.0046271044332   8\n",
      "2158.924997272788   9\n",
      "2331.638997054611   10\n",
      "2518.17011681898   11\n",
      "2719.6237261644987   12\n",
      "2937.193624257659   13\n",
      "3172.169114198272   14\n",
      "ну вот и все\n"
     ]
    }
   ],
   "source": [
    "S = 1000\n",
    "n = 0.08\n",
    "i=0\n",
    "while S < 3000:\n",
    "    S=S*(1+n)\n",
    "    print(S,\" \",i)\n",
    "    i += 1 \n",
    "print(\"ну вот и все\")"
   ]
  },
  {
   "cell_type": "markdown",
   "id": "a0259d83",
   "metadata": {},
   "source": [
    "Пусть пользователь заводит будильники на каждые два часа, начиная с 9 часов утра. Причём будильники должны звонить четырежды в указанный час (интервал 15 минут), например в 11:00, 11:15, 11:30 и 11:45.\n",
    "\n",
    "Напишите вложенный цикл, который будет выводить на экран время, в которое прозвенят будильники."
   ]
  },
  {
   "cell_type": "code",
   "execution_count": 2,
   "id": "fbe7453c",
   "metadata": {
    "scrolled": true
   },
   "outputs": [
    {
     "name": "stdout",
     "output_type": "stream",
     "text": [
      "Alarm is set 9:0\n",
      "Alarm is set 9:15\n",
      "Alarm is set 9:30\n",
      "Alarm is set 9:45\n",
      "Alarm is set 11:0\n",
      "Alarm is set 11:15\n",
      "Alarm is set 11:30\n",
      "Alarm is set 11:45\n",
      "Alarm is set 13:0\n",
      "Alarm is set 13:15\n",
      "Alarm is set 13:30\n",
      "Alarm is set 13:45\n",
      "Alarm is set 15:0\n",
      "Alarm is set 15:15\n",
      "Alarm is set 15:30\n",
      "Alarm is set 15:45\n",
      "Alarm is set 17:0\n",
      "Alarm is set 17:15\n",
      "Alarm is set 17:30\n",
      "Alarm is set 17:45\n",
      "Alarm is set 19:0\n",
      "Alarm is set 19:15\n",
      "Alarm is set 19:30\n",
      "Alarm is set 19:45\n",
      "Alarm is set 21:0\n",
      "Alarm is set 21:15\n",
      "Alarm is set 21:30\n",
      "Alarm is set 21:45\n",
      "Alarm is set 23:0\n",
      "Alarm is set 23:15\n",
      "Alarm is set 23:30\n",
      "Alarm is set 23:45\n"
     ]
    }
   ],
   "source": [
    "hours = list(range(9, 24, 2)) #создаём список часов\n",
    "minutes = list(range(0, 60, 15)) #создаём список минут\n",
    "#создаём цикл по элементам списка часов\n",
    "for hour in hours: #hour — текущее значение часа (10, 15, 20)\n",
    "    #создаём цикл по элементам списка минут\n",
    "    for minute in minutes: #second — текущее значение минуты\n",
    "        print('Alarm is set {}:{}'.format(hour, minute)) #выводим время\n"
   ]
  },
  {
   "cell_type": "code",
   "execution_count": 4,
   "id": "b2116c4a",
   "metadata": {},
   "outputs": [
    {
     "name": "stdout",
     "output_type": "stream",
     "text": [
      "10\n"
     ]
    }
   ],
   "source": [
    "text_list = [\n",
    "    'afbaad',\n",
    "    'faaf',\n",
    "    'afaga',\n",
    "    'agag'\n",
    "]\n",
    "n=0\n",
    "for i in text_list:\n",
    "    n=n+i.count('a')\n",
    "print(n)"
   ]
  },
  {
   "cell_type": "code",
   "execution_count": 7,
   "id": "84cdb328",
   "metadata": {},
   "outputs": [
    {
     "name": "stdout",
     "output_type": "stream",
     "text": [
      "[0.5, 0.6, 0.6, 0.65, 0.3, 0.55, 0.7, 0.9, 0.5, 0.5]\n"
     ]
    }
   ],
   "source": [
    "scores = [\n",
    "    [0.5, 0.6, 0.6, 0.65, 0.3],\n",
    "    [0.55, 0.7, 0.9, 0.5, 0.5]\n",
    "]\n",
    "scores_lst = []\n",
    "for row in scores:\n",
    "    for score in row:\n",
    "        scores_lst.append(score)\n",
    "print(scores_lst)"
   ]
  },
  {
   "cell_type": "code",
   "execution_count": 9,
   "id": "1a3d1da1",
   "metadata": {},
   "outputs": [
    {
     "name": "stdout",
     "output_type": "stream",
     "text": [
      "n - is not the power of the number 3!\n"
     ]
    }
   ],
   "source": [
    "n = 16 #задаём число\n",
    "#создаём бесконечный цикл\n",
    "while True:\n",
    "    #проверяем условие, что остаток от деления на 3 равен 0\n",
    "    if n % 3 == 0: #если условие выполняется,\n",
    "        n = n // 3 #новое число — результат целочисленного деления на 3\n",
    "        if n == 1: #если в результате деления получили 1,\n",
    "            print('n - is the power of the number 3!')#выводим утвердительное сообщение\n",
    "            break #выходим из цикла\n",
    "    else: #в противном случае\n",
    "        print('n - is not the power of the number 3!') #выводим сообщение-опровержение\n",
    "        break #выходим из цикла\n",
    "#Будет выведено\n",
    "#n - is the power of the number 3!"
   ]
  },
  {
   "cell_type": "code",
   "execution_count": 11,
   "id": "d183467d",
   "metadata": {},
   "outputs": [
    {
     "name": "stdout",
     "output_type": "stream",
     "text": [
      "11\n"
     ]
    }
   ],
   "source": [
    "i = 0\n",
    "while True:\n",
    "    if i > 10:\n",
    "        break\n",
    "    else:\n",
    "        i += 1\n",
    "        \n",
    "print(i)"
   ]
  },
  {
   "cell_type": "code",
   "execution_count": 19,
   "id": "781b51a3",
   "metadata": {},
   "outputs": [
    {
     "name": "stdout",
     "output_type": "stream",
     "text": [
      "0 a\n",
      "1 b\n",
      "2 c\n",
      "3 d\n",
      "4 e\n",
      "5 f\n",
      "4\n"
     ]
    }
   ],
   "source": [
    "my_dict = {'a': 15, 'b': 10.5, 'c': '15', 'd': 50, 'e': 15, 'f': '15'}\n",
    "count=0\n",
    "for i,a in enumerate(my_dict):\n",
    "    print(i,a)\n",
    "    if type(my_dict[a]) == int or type(my_dict[a]) == float:\n",
    "        count+=1\n",
    "        \n",
    "print(count)"
   ]
  },
  {
   "cell_type": "code",
   "execution_count": 21,
   "id": "9f82f1c5",
   "metadata": {},
   "outputs": [
    {
     "name": "stdout",
     "output_type": "stream",
     "text": [
      "{'t': 88, 'h': 63, 'e': 112, ' ': 227, 'r': 39, 'a': 70, 'b': 15, 'i': 47, '-': 2, 'o': 80, 'l': 55, 'w': 31, 'n': 57, 's': 60, 'g': 17, 'k': 14, 'u': 22, 'f': 28, 'm': 17, 'y': 18, ',': 13, 'd': 43, 'p': 23, 'c': 9, 'v': 8, '.': 5, 'x': 1, ';': 3, 'j': 2, '`': 3, \"'\": 5, ':': 1, '!': 4, '(': 1, ')': 1}\n"
     ]
    }
   ],
   "source": [
    "text = \"\"\"\n",
    "The rabbit-hole went straight on like a tunnel for some way, and then dipped suddenly down, so suddenly that Alice had not a moment to think about stopping herself before she found herself falling down a very deep well.\n",
    " \n",
    "Either the well was very deep, or she fell very slowly, for she had plenty of time as she went down to look about her and to wonder what was going to happen next. First, she tried to look down and make out what she was coming to, but it was too dark to see anything; then she looked at the sides of the well, and noticed that they were filled with cupboards and book-shelves; here and there she saw maps and pictures hung upon pegs. She took down a jar from one of the shelves as she passed; it was labelled `ORANGE MARMALADE', but to her great disappointment it was empty: she did not like to drop the jar for fear of killing somebody, so managed to put it into one of the cupboards as she fell past it.\n",
    " \n",
    "`Well!' thought Alice to herself, `after such a fall as this, I shall think nothing of tumbling down stairs! How brave they'll all think me at home! Why, I wouldn't say anything about it, even if I fell off the top of the house!' (Which was very likely true.)\n",
    "\"\"\"\n",
    "text = text.lower() #приводим текст к нижнему регистру\n",
    "#text = text.replace(\" \", \"\") #заменяем пробелы на пустые строки\n",
    "text = text.replace(\"\\n\", \"\") #заменяем символы переноса строки на пустые строки\n",
    "count_dict = {} #создаём пустой словарь для подсчёта количества символов\n",
    "#создаём цикл по символам в строке text\n",
    "for symbol in text: #symbol — текущий символ в тексте\n",
    "    #проверяем условие, что символа ещё нет среди ключей словаря\n",
    "    if symbol not in count_dict: #если условие выполняется,\n",
    "        count_dict[symbol] = 1 #заносим символ в словарь со значением 1\n",
    "    else: #в противном случае\n",
    "        count_dict[symbol] += 1 #увеличиваем частоту символа\n",
    "print(count_dict) #выводим результирующий словарь"
   ]
  },
  {
   "cell_type": "code",
   "execution_count": 24,
   "id": "8ab1f7ff",
   "metadata": {},
   "outputs": [
    {
     "name": "stdout",
     "output_type": "stream",
     "text": [
      "[8, 0, 6, 1, 2, 5, 10, 7, 10, 10]\n",
      "no  8\n",
      "no  0\n",
      "no  6\n",
      "no  1\n",
      "no  2\n",
      "no  5\n",
      "yes  10\n"
     ]
    }
   ],
   "source": [
    "import random\n",
    "my_list = []\n",
    "for i in range(0, 10):\n",
    "    my_list.append(random.randint(0, 10))\n",
    "    \n",
    "    \n",
    "print(my_list)\n",
    "for elem in my_list:\n",
    "    if my_list.count(elem) > 1:\n",
    "        print(\"yes \",elem)\n",
    "        break\n",
    "    else:\n",
    "        print(\"no \",elem)\n"
   ]
  },
  {
   "cell_type": "code",
   "execution_count": 2,
   "id": "59fcffb5",
   "metadata": {},
   "outputs": [
    {
     "name": "stdout",
     "output_type": "stream",
     "text": [
      "420\n",
      "340\n",
      "260\n",
      "180\n",
      "100\n",
      "20\n",
      "-60\n",
      "it lasted  7  seconds\n"
     ]
    }
   ],
   "source": [
    "current_health = 500\n",
    "attack=80\n",
    "seconds_num=0\n",
    "while current_health >= 0:\n",
    "    current_health -= attack\n",
    "    seconds_num+=1\n",
    "    print(current_health)\n",
    "print(\"it lasted \", seconds_num, \" seconds\")"
   ]
  },
  {
   "cell_type": "code",
   "execution_count": 6,
   "id": "cbdf49ac",
   "metadata": {},
   "outputs": [],
   "source": [
    "str_list = ['Hello', 'my', 'name', 'is', 'Ezeikel', 'I', 'like', 'knitting'] \n",
    "cut_str_list=[]\n",
    "for i,lst_str in enumerate(str_list): \n",
    "    cut_str_list.append([i, lst_str[:3]])\n",
    "    #print(i,lst_str[:3])\n",
    "#print(cut_str_list)"
   ]
  },
  {
   "cell_type": "code",
   "execution_count": 12,
   "id": "7d99e055",
   "metadata": {},
   "outputs": [
    {
     "name": "stdout",
     "output_type": "stream",
     "text": [
      "['a', 'robot', 'may', 'not', 'injure', 'a', 'human', 'being', 'or', 'through', 'inaction', 'allow', 'a', 'human', 'being', 'to', 'come', 'to', 'harm']\n",
      "{'a': 3, 'robot': 1, 'may': 1, 'not': 1, 'injure': 1, 'human': 2, 'being': 2, 'or': 1, 'through': 1, 'inaction': 1, 'allow': 1, 'to': 2, 'come': 1, 'harm': 1}\n"
     ]
    }
   ],
   "source": [
    "word_dict={}\n",
    "sentence = 'A roboT MAY Not injure a humAn BEING or, tHROugh INACtion, allow a human BEING to come to harm'\n",
    "sentence=sentence.lower()\n",
    "sentence=sentence.replace(\",\", \"\")\n",
    "list_words=sentence.split()\n",
    "#print(list_words)\n",
    "for word in list_words:\n",
    "        \n",
    "    if word in word_dict:\n",
    "        word_dict[word]+=1\n",
    "    else:\n",
    "        word_dict[word]=1\n",
    "#print(word_dict)    \n",
    "            "
   ]
  },
  {
   "cell_type": "code",
   "execution_count": 14,
   "id": "168dcf01",
   "metadata": {},
   "outputs": [],
   "source": [
    "str_list = ['text', 'morning', 'notepad', 'television', 'ornament']\n",
    "#symbol_to_check=\"t\"\n",
    "word_dict={}\n",
    "for word in str_list:\n",
    "    for letter in word:\n",
    "        if letter==symbol_to_check:\n",
    "            if word in word_dict:\n",
    "                word_dict[word]+=1\n",
    "            else:\n",
    "                word_dict[word]=1\n",
    "#print(word_dict)"
   ]
  },
  {
   "cell_type": "code",
   "execution_count": 16,
   "id": "521dd2b8",
   "metadata": {},
   "outputs": [
    {
     "name": "stdout",
     "output_type": "stream",
     "text": [
      "750\n"
     ]
    }
   ],
   "source": [
    "def get_total(units, price):\n",
    "    return(units*price)\n",
    "\n",
    "print(get_total(15, 50))"
   ]
  },
  {
   "cell_type": "code",
   "execution_count": 19,
   "id": "a19fb088",
   "metadata": {
    "scrolled": true
   },
   "outputs": [
    {
     "data": {
      "text/plain": [
       "10.0"
      ]
     },
     "execution_count": 19,
     "metadata": {},
     "output_type": "execute_result"
    }
   ],
   "source": [
    "def get_time(distance, speed):\n",
    "    if distance < 0 or speed < 0:\n",
    "        raise ValueError(\"Distance or speed cannot be below 0!\")\n",
    "    if speed == 0:\n",
    "        raise ValueError(\"Speed cannot be equal to 0!\")\n",
    "    result = distance / speed\n",
    "    return result\n",
    "\n",
    "get_time(100, 0)"
   ]
  },
  {
   "cell_type": "code",
   "execution_count": 1,
   "id": "a0b2e4ca",
   "metadata": {},
   "outputs": [
    {
     "name": "stdout",
     "output_type": "stream",
     "text": [
      "Student’s mark was not found!\n"
     ]
    }
   ],
   "source": [
    "grades = {'Ivanov': 5, 'Smirnov': 3, 'Kuznetsova': 4, 'Tihonova': 5}\n",
    "try:\n",
    "    print(grades['Pavlov'])\n",
    "except KeyError:\n",
    "    print(\"Student’s mark was not found!\")"
   ]
  },
  {
   "cell_type": "code",
   "execution_count": 2,
   "id": "bd2af96b",
   "metadata": {},
   "outputs": [],
   "source": [
    "def add_mark(name, mark, journal=None):\n",
    "   if mark not in [2, 3, 4, 5]:\n",
    "       raise ValueError(\"Invalid Mark!\") \n",
    "   if journal is None:\n",
    "       journal = {}\n",
    "   journal[name] = mark\n",
    "   return journal"
   ]
  },
  {
   "cell_type": "code",
   "execution_count": 3,
   "id": "9c384c77",
   "metadata": {},
   "outputs": [
    {
     "ename": "ValueError",
     "evalue": "Invalid Mark!",
     "output_type": "error",
     "traceback": [
      "\u001b[1;31m---------------------------------------------------------------------------\u001b[0m",
      "\u001b[1;31mValueError\u001b[0m                                Traceback (most recent call last)",
      "Input \u001b[1;32mIn [3]\u001b[0m, in \u001b[0;36m<cell line: 1>\u001b[1;34m()\u001b[0m\n\u001b[1;32m----> 1\u001b[0m \u001b[43madd_mark\u001b[49m\u001b[43m(\u001b[49m\u001b[38;5;124;43m'\u001b[39;49m\u001b[38;5;124;43mIvanov\u001b[39;49m\u001b[38;5;124;43m'\u001b[39;49m\u001b[43m,\u001b[49m\u001b[43m \u001b[49m\u001b[38;5;241;43m6\u001b[39;49m\u001b[43m)\u001b[49m\n",
      "Input \u001b[1;32mIn [2]\u001b[0m, in \u001b[0;36madd_mark\u001b[1;34m(name, mark, journal)\u001b[0m\n\u001b[0;32m      1\u001b[0m \u001b[38;5;28;01mdef\u001b[39;00m \u001b[38;5;21madd_mark\u001b[39m(name, mark, journal\u001b[38;5;241m=\u001b[39m\u001b[38;5;28;01mNone\u001b[39;00m):\n\u001b[0;32m      2\u001b[0m    \u001b[38;5;28;01mif\u001b[39;00m mark \u001b[38;5;129;01mnot\u001b[39;00m \u001b[38;5;129;01min\u001b[39;00m [\u001b[38;5;241m2\u001b[39m, \u001b[38;5;241m3\u001b[39m, \u001b[38;5;241m4\u001b[39m, \u001b[38;5;241m5\u001b[39m]:\n\u001b[1;32m----> 3\u001b[0m        \u001b[38;5;28;01mraise\u001b[39;00m \u001b[38;5;167;01mValueError\u001b[39;00m(\u001b[38;5;124m\"\u001b[39m\u001b[38;5;124mInvalid Mark!\u001b[39m\u001b[38;5;124m\"\u001b[39m) \n\u001b[0;32m      4\u001b[0m    \u001b[38;5;28;01mif\u001b[39;00m journal \u001b[38;5;129;01mis\u001b[39;00m \u001b[38;5;28;01mNone\u001b[39;00m:\n\u001b[0;32m      5\u001b[0m        journal \u001b[38;5;241m=\u001b[39m {}\n",
      "\u001b[1;31mValueError\u001b[0m: Invalid Mark!"
     ]
    }
   ],
   "source": [
    "add_mark('Ivanov', 6)"
   ]
  },
  {
   "cell_type": "code",
   "execution_count": 4,
   "id": "e3df486f",
   "metadata": {},
   "outputs": [],
   "source": [
    "def root(value, n=2, verbose=False):\n",
    "    result = value ** (1/n)\n",
    "    if verbose:\n",
    "        # Аргументы в функции print,\n",
    "        # перечисленные через запятую,\n",
    "        # печатаются через пробел\n",
    "        print('Root of power', n, 'from',\n",
    "            value, 'equals', result)\n",
    "    return result"
   ]
  },
  {
   "cell_type": "code",
   "execution_count": 7,
   "id": "76b9f576",
   "metadata": {},
   "outputs": [
    {
     "name": "stdout",
     "output_type": "stream",
     "text": [
      "Root of power 3 from 27 equals 3.0\n"
     ]
    },
    {
     "data": {
      "text/plain": [
       "3.0"
      ]
     },
     "execution_count": 7,
     "metadata": {},
     "output_type": "execute_result"
    }
   ],
   "source": [
    "root(27,3,True)"
   ]
  },
  {
   "cell_type": "code",
   "execution_count": null,
   "id": "4bebe039",
   "metadata": {},
   "outputs": [],
   "source": []
  }
 ],
 "metadata": {
  "kernelspec": {
   "display_name": "Python 3 (ipykernel)",
   "language": "python",
   "name": "python3"
  },
  "language_info": {
   "codemirror_mode": {
    "name": "ipython",
    "version": 3
   },
   "file_extension": ".py",
   "mimetype": "text/x-python",
   "name": "python",
   "nbconvert_exporter": "python",
   "pygments_lexer": "ipython3",
   "version": "3.8.13"
  }
 },
 "nbformat": 4,
 "nbformat_minor": 5
}
