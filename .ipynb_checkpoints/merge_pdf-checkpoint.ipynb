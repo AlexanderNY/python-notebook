{
 "cells": [
  {
   "cell_type": "code",
   "execution_count": 1,
   "metadata": {},
   "outputs": [
    {
     "ename": "ModuleNotFoundError",
     "evalue": "No module named 'PyPDF2'",
     "output_type": "error",
     "traceback": [
      "\u001b[1;31m---------------------------------------------------------------------------\u001b[0m",
      "\u001b[1;31mModuleNotFoundError\u001b[0m                       Traceback (most recent call last)",
      "\u001b[1;32m<ipython-input-1-0d14ba3c342f>\u001b[0m in \u001b[0;36m<module>\u001b[1;34m\u001b[0m\n\u001b[1;32m----> 1\u001b[1;33m \u001b[1;32mimport\u001b[0m \u001b[0mPyPDF2\u001b[0m\u001b[1;33m\u001b[0m\u001b[1;33m\u001b[0m\u001b[0m\n\u001b[0m\u001b[0;32m      2\u001b[0m \u001b[1;32mimport\u001b[0m \u001b[0mos\u001b[0m\u001b[1;33m\u001b[0m\u001b[1;33m\u001b[0m\u001b[0m\n\u001b[0;32m      3\u001b[0m \u001b[1;32mimport\u001b[0m \u001b[0measygui\u001b[0m\u001b[1;33m\u001b[0m\u001b[1;33m\u001b[0m\u001b[0m\n",
      "\u001b[1;31mModuleNotFoundError\u001b[0m: No module named 'PyPDF2'"
     ]
    }
   ],
   "source": [
    "import PyPDF2\n",
    "import os\n",
    "import easygui"
   ]
  },
  {
   "cell_type": "code",
   "execution_count": 37,
   "metadata": {},
   "outputs": [],
   "source": [
    "input_dir = easygui.diropenbox(msg=\"Укажите путь к папке с PDF файлами для склеивания\", title=\"Путь к папке с PDF\", default=None)"
   ]
  },
  {
   "cell_type": "code",
   "execution_count": 38,
   "metadata": {
    "scrolled": true
   },
   "outputs": [
    {
     "name": "stdout",
     "output_type": "stream",
     "text": [
      "D:\\Projects\\python\\test files\\pdf\n"
     ]
    }
   ],
   "source": [
    "print(input_dir)"
   ]
  },
  {
   "cell_type": "code",
   "execution_count": 39,
   "metadata": {},
   "outputs": [
    {
     "name": "stdout",
     "output_type": "stream",
     "text": [
      ".pdf\n"
     ]
    }
   ],
   "source": [
    "_,file_extension = os.path.splitext('D:\\Projects\\python\\test files\\pdf\\2.pdf')\n",
    "\n",
    "print(file_extension)"
   ]
  },
  {
   "cell_type": "code",
   "execution_count": 40,
   "metadata": {},
   "outputs": [],
   "source": [
    "def create_pdf(directory):\n",
    "    #Получаем список файлов в переменную files \n",
    "    files = os.listdir(directory) \n",
    "    merger = PyPDF2.PdfFileMerger()\n",
    "    \n",
    "    for filename in files:\n",
    "        _,file_extension = os.path.splitext(filename)\n",
    "        if file_extension=='.pdf':\n",
    "            merger.append(fileobj=open(os.path.join(directory,filename),'rb'))\n",
    "        print (filename)\n",
    "        print (file_extension)\n",
    "    merger.write(open(os.path.join(directory,'result.pdf'), 'wb'))"
   ]
  },
  {
   "cell_type": "code",
   "execution_count": 41,
   "metadata": {},
   "outputs": [
    {
     "name": "stdout",
     "output_type": "stream",
     "text": [
      "1.pdf\n",
      ".pdf\n",
      "2.pdf\n",
      ".pdf\n",
      "SomePDF1.pdf\n",
      ".pdf\n",
      "SomePDF2.pdf\n",
      ".pdf\n",
      "~$кумент Microsoft Word.docx\n",
      ".docx\n",
      "Документ Microsoft Word.docx\n",
      ".docx\n",
      "Документ Microsoft Word.pdf\n",
      ".pdf\n"
     ]
    }
   ],
   "source": [
    "create_pdf(input_dir)"
   ]
  },
  {
   "cell_type": "code",
   "execution_count": 3,
   "metadata": {},
   "outputs": [],
   "source": [
    "file_dir=easygui.fileopenbox(msg=\"Укажите путь к файлу с PDF\", title=\"Путь к файлу с PDF\", default='*', filetypes=[\"*.pdf\",\"*.PDF\"], multiple=False)"
   ]
  },
  {
   "cell_type": "code",
   "execution_count": 20,
   "metadata": {
    "scrolled": true
   },
   "outputs": [
    {
     "name": "stdout",
     "output_type": "stream",
     "text": [
      "D:\\Projects\\python\\test files\\pdf\\Документ Microsoft Word.pdf\n"
     ]
    }
   ],
   "source": [
    "print(file_dir)"
   ]
  },
  {
   "cell_type": "code",
   "execution_count": 22,
   "metadata": {},
   "outputs": [
    {
     "name": "stdout",
     "output_type": "stream",
     "text": [
      "D:\\Projects\\python\\test files\\pdf\\\n"
     ]
    }
   ],
   "source": [
    "print(file_dir[:file_dir.rfind(\"\\\\\"):]+'\\\\')"
   ]
  },
  {
   "cell_type": "code",
   "execution_count": 24,
   "metadata": {},
   "outputs": [],
   "source": [
    "#from  PyPDF2 import PdfFileWriter, PdfFileReader\n",
    " \n",
    "input_PDF = PyPDF2.PdfFileReader(open(file_dir, 'rb'))\n",
    " \n",
    "for i in range(input_PDF.getNumPages()):\n",
    "    output = PyPDF2.PdfFileWriter()    \n",
    "    new_File_PDF = input_PDF.getPage(i)\n",
    "    output.addPage(new_File_PDF)\n",
    "    output_Name_File = file_dir[:file_dir.rfind(\"\\\\\"):]+\"\\\\\"+\"SomePDF\"+str(i+1)+\".pdf\"\n",
    "    outputStream = open(output_Name_File, 'wb')\n",
    "    output.write(outputStream)\n",
    "    outputStream.close()"
   ]
  },
  {
   "cell_type": "code",
   "execution_count": null,
   "metadata": {},
   "outputs": [],
   "source": []
  }
 ],
 "metadata": {
  "kernelspec": {
   "display_name": "Python 3",
   "language": "python",
   "name": "python3"
  },
  "language_info": {
   "codemirror_mode": {
    "name": "ipython",
    "version": 3
   },
   "file_extension": ".py",
   "mimetype": "text/x-python",
   "name": "python",
   "nbconvert_exporter": "python",
   "pygments_lexer": "ipython3",
   "version": "3.6.8"
  }
 },
 "nbformat": 4,
 "nbformat_minor": 4
}
