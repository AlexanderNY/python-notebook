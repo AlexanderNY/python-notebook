{
 "cells": [
  {
   "cell_type": "markdown",
   "metadata": {},
   "source": [
    "https://cloud.google.com/automl-tables/docs/quickstart"
   ]
  },
  {
   "cell_type": "markdown",
   "metadata": {},
   "source": [
    "To do this, we'll use a Python class that calls on AutoML Tables. To use this code, you need only define the following variables:\n",
    "<ul>\n",
    "    <li><b>PROJECT_ID</b> - The name of your Google Cloud project. All of the work that you'll do in Google Cloud is organized in \"projects\".</li>\n",
    "    <li><b>BUCKET_NAME</b> - The name of your Google Cloud storage bucket. In order to work with AutoML, we'll need to create a storage bucket, where we'll upload the Kaggle dataset.</li>\n",
    "    <li><b>DATASET_DISPLAY_NAME</b> - The name of your dataset.</li>\n",
    "    <li><b>TRAIN_FILEPATH</b> - The filepath for the training data (train.csv file) from the competition.</li>\n",
    "    <li><b>TEST_FILEPATH</b> - The filepath for the test data (test.csv file) from the competition.</li>\n",
    "    <li><b>TARGET_COLUMN</b> - The name of the column in your training data that contains the values you'd like to predict.</li>\n",
    "    <li><b>ID_COLUMN</b> - The name of the column containing IDs.</li>\n",
    "    <li><b>MODEL_DISPLAY_NAME</b> - The name of your model.</li>\n",
    "    <li><b>TRAIN_BUDGET</b> - How long you want your model to train (use 1000 for 1 hour, 2000 for 2 hours, and so on).</li>\n",
    "<ul>"
   ]
  },
  {
   "cell_type": "code",
   "execution_count": null,
   "metadata": {},
   "outputs": [],
   "source": []
  }
 ],
 "metadata": {
  "kernelspec": {
   "display_name": "Python 3",
   "language": "python",
   "name": "python3"
  },
  "language_info": {
   "codemirror_mode": {
    "name": "ipython",
    "version": 3
   },
   "file_extension": ".py",
   "mimetype": "text/x-python",
   "name": "python",
   "nbconvert_exporter": "python",
   "pygments_lexer": "ipython3",
   "version": "3.7.7"
  }
 },
 "nbformat": 4,
 "nbformat_minor": 4
}
