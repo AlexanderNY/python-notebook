{
 "cells": [
  {
   "cell_type": "code",
   "execution_count": 1,
   "metadata": {},
   "outputs": [
    {
     "data": {
      "text/plain": [
       "2"
      ]
     },
     "execution_count": 1,
     "metadata": {},
     "output_type": "execute_result"
    }
   ],
   "source": [
    "# run simple addition\n",
    "1 + 1"
   ]
  },
  {
   "cell_type": "code",
   "execution_count": 17,
   "metadata": {},
   "outputs": [
    {
     "ename": "ModuleNotFoundError",
     "evalue": "No module named 'torchvision'",
     "output_type": "error",
     "traceback": [
      "\u001b[1;31m---------------------------------------------------------------------------\u001b[0m",
      "\u001b[1;31mModuleNotFoundError\u001b[0m                       Traceback (most recent call last)",
      "\u001b[1;32m<ipython-input-17-349b80e9c5e5>\u001b[0m in \u001b[0;36m<module>\u001b[1;34m\u001b[0m\n\u001b[0;32m      9\u001b[0m \u001b[1;32mimport\u001b[0m \u001b[0mtorch\u001b[0m\u001b[1;33m\u001b[0m\u001b[1;33m\u001b[0m\u001b[0m\n\u001b[0;32m     10\u001b[0m \u001b[1;32mimport\u001b[0m \u001b[0msys\u001b[0m\u001b[1;33m\u001b[0m\u001b[1;33m\u001b[0m\u001b[0m\n\u001b[1;32m---> 11\u001b[1;33m \u001b[1;32mimport\u001b[0m \u001b[0mtorchvision\u001b[0m\u001b[1;33m\u001b[0m\u001b[1;33m\u001b[0m\u001b[0m\n\u001b[0m",
      "\u001b[1;31mModuleNotFoundError\u001b[0m: No module named 'torchvision'"
     ]
    }
   ],
   "source": [
    "# import additional python libraries\n",
    "import numpy\n",
    "import scipy\n",
    "import pandas\n",
    "import pandas_datareader\n",
    "import matplotlib\n",
    "import seaborn\n",
    "import sklearn\n",
    "import torch\n",
    "import sys\n",
    "import torchvision"
   ]
  },
  {
   "cell_type": "code",
   "execution_count": 20,
   "metadata": {},
   "outputs": [
    {
     "name": "stderr",
     "output_type": "stream",
     "text": [
      "\"conda\" ­Ґ пў«пҐвбп ў­гваҐ­­Ґ© Ё«Ё ў­Ґи­Ґ©\n",
      "Є®¬ ­¤®©, ЁбЇ®«­пҐ¬®© Їа®Ја ¬¬®© Ё«Ё Ї ЄҐв­л¬ д ©«®¬.\n"
     ]
    }
   ],
   "source": [
    "# Install a conda package in the current Jupyter kernel\n",
    "\n",
    "!conda install --yes torchvision -c pytorch\n"
   ]
  },
  {
   "cell_type": "code",
   "execution_count": 24,
   "metadata": {},
   "outputs": [
    {
     "name": "stderr",
     "output_type": "stream",
     "text": [
      "ЌҐ г¤ Ґвбп ­ ©вЁ гЄ § ­­л© д ©«.\n",
      "ЋиЁЎЄ  ў® ўаҐ¬п ®Ўа Ў®вЄЁ: -a.\n",
      "ЌҐ г¤ Ґвбп ­ ©вЁ гЄ § ­­л© д ©«.\n",
      "ЋиЁЎЄ  ў® ўаҐ¬п ®Ўа Ў®вЄЁ: pip.\n"
     ]
    }
   ],
   "source": [
    "!type -a pip"
   ]
  },
  {
   "cell_type": "code",
   "execution_count": 25,
   "metadata": {},
   "outputs": [
    {
     "name": "stderr",
     "output_type": "stream",
     "text": [
      "\"conda\" ­Ґ пў«пҐвбп ў­гваҐ­­Ґ© Ё«Ё ў­Ґи­Ґ©\n",
      "Є®¬ ­¤®©, ЁбЇ®«­пҐ¬®© Їа®Ја ¬¬®© Ё«Ё Ї ЄҐв­л¬ д ©«®¬.\n"
     ]
    }
   ],
   "source": [
    "!conda env list"
   ]
  },
  {
   "cell_type": "code",
   "execution_count": 27,
   "metadata": {},
   "outputs": [
    {
     "name": "stdout",
     "output_type": "stream",
     "text": [
      "Collecting ffn\n",
      "  Downloading ffn-0.3.4.tar.gz (21 kB)\n",
      "Requirement already satisfied: decorator>=4 in c:\\users\\a2\\.conda\\envs\\ml\\lib\\site-packages (from ffn) (4.4.2)\n",
      "Requirement already satisfied: numpy>=1.5 in c:\\users\\a2\\.conda\\envs\\ml\\lib\\site-packages (from ffn) (1.18.5)\n",
      "Requirement already satisfied: pandas>=0.19 in c:\\users\\a2\\.conda\\envs\\ml\\lib\\site-packages (from ffn) (1.0.5)\n",
      "Requirement already satisfied: pandas-datareader>=0.2 in c:\\users\\a2\\.conda\\envs\\ml\\lib\\site-packages (from ffn) (0.9.0)\n",
      "Collecting tabulate>=0.7.5\n",
      "  Downloading tabulate-0.8.7-py3-none-any.whl (24 kB)\n",
      "Requirement already satisfied: matplotlib>=1 in c:\\users\\a2\\.conda\\envs\\ml\\lib\\site-packages (from ffn) (3.2.2)\n",
      "Requirement already satisfied: scikit-learn>=0.15 in c:\\users\\a2\\.conda\\envs\\ml\\lib\\site-packages (from ffn) (0.23.2)\n",
      "Requirement already satisfied: scipy>=0.15 in c:\\users\\a2\\.conda\\envs\\ml\\lib\\site-packages (from ffn) (1.5.0)\n",
      "Collecting future>=0.15\n",
      "  Downloading future-0.18.2.tar.gz (829 kB)\n",
      "Requirement already satisfied: pytz>=2017.2 in c:\\users\\a2\\.conda\\envs\\ml\\lib\\site-packages (from pandas>=0.19->ffn) (2020.1)\n",
      "Requirement already satisfied: python-dateutil>=2.6.1 in c:\\users\\a2\\.conda\\envs\\ml\\lib\\site-packages (from pandas>=0.19->ffn) (2.8.1)\n",
      "Requirement already satisfied: requests>=2.19.0 in c:\\users\\a2\\.conda\\envs\\ml\\lib\\site-packages (from pandas-datareader>=0.2->ffn) (2.24.0)\n",
      "Requirement already satisfied: lxml in c:\\users\\a2\\.conda\\envs\\ml\\lib\\site-packages (from pandas-datareader>=0.2->ffn) (4.5.2)\n",
      "Requirement already satisfied: cycler>=0.10 in c:\\users\\a2\\.conda\\envs\\ml\\lib\\site-packages (from matplotlib>=1->ffn) (0.10.0)\n",
      "Requirement already satisfied: kiwisolver>=1.0.1 in c:\\users\\a2\\.conda\\envs\\ml\\lib\\site-packages (from matplotlib>=1->ffn) (1.2.0)\n",
      "Requirement already satisfied: pyparsing!=2.0.4,!=2.1.2,!=2.1.6,>=2.0.1 in c:\\users\\a2\\.conda\\envs\\ml\\lib\\site-packages (from matplotlib>=1->ffn) (2.4.7)\n",
      "Requirement already satisfied: threadpoolctl>=2.0.0 in c:\\users\\a2\\.conda\\envs\\ml\\lib\\site-packages (from scikit-learn>=0.15->ffn) (2.1.0)\n",
      "Requirement already satisfied: joblib>=0.11 in c:\\users\\a2\\.conda\\envs\\ml\\lib\\site-packages (from scikit-learn>=0.15->ffn) (0.16.0)\n",
      "Requirement already satisfied: six>=1.5 in c:\\users\\a2\\.conda\\envs\\ml\\lib\\site-packages (from python-dateutil>=2.6.1->pandas>=0.19->ffn) (1.15.0)\n",
      "Requirement already satisfied: chardet<4,>=3.0.2 in c:\\users\\a2\\.conda\\envs\\ml\\lib\\site-packages (from requests>=2.19.0->pandas-datareader>=0.2->ffn) (3.0.4)\n",
      "Requirement already satisfied: idna<3,>=2.5 in c:\\users\\a2\\.conda\\envs\\ml\\lib\\site-packages (from requests>=2.19.0->pandas-datareader>=0.2->ffn) (2.10)\n",
      "Requirement already satisfied: urllib3!=1.25.0,!=1.25.1,<1.26,>=1.21.1 in c:\\users\\a2\\.conda\\envs\\ml\\lib\\site-packages (from requests>=2.19.0->pandas-datareader>=0.2->ffn) (1.25.9)\n",
      "Requirement already satisfied: certifi>=2017.4.17 in c:\\users\\a2\\.conda\\envs\\ml\\lib\\site-packages (from requests>=2.19.0->pandas-datareader>=0.2->ffn) (2020.6.20)\n",
      "Building wheels for collected packages: ffn, future\n",
      "  Building wheel for ffn (setup.py): started\n",
      "  Building wheel for ffn (setup.py): finished with status 'done'\n",
      "  Created wheel for ffn: filename=ffn-0.3.4-py3-none-any.whl size=22818 sha256=63e08fb2cd9f1e397a6787a8167a4cc6516dc0c5ba9048f4fba6c3ca689f491a\n",
      "  Stored in directory: c:\\users\\a2\\appdata\\local\\pip\\cache\\wheels\\5b\\ab\\a9\\458054188a9702eff6a3e41529b66bd035edeb43296a3b3cd2\n",
      "  Building wheel for future (setup.py): started\n",
      "  Building wheel for future (setup.py): finished with status 'done'\n",
      "  Created wheel for future: filename=future-0.18.2-py3-none-any.whl size=491062 sha256=7bd3061e506786edc22dfc961c4e03101d3b8519ddf70b2ca3508bae8b999fdb\n",
      "  Stored in directory: c:\\users\\a2\\appdata\\local\\pip\\cache\\wheels\\56\\b0\\fe\\4410d17b32f1f0c3cf54cdfb2bc04d7b4b8f4ae377e2229ba0\n",
      "Successfully built ffn future\n",
      "Installing collected packages: tabulate, future, ffn\n",
      "Successfully installed ffn-0.3.4 future-0.18.2 tabulate-0.8.7\n",
      "Collecting bt\n",
      "  Downloading bt-0.2.7.tar.gz (2.7 MB)\n",
      "Requirement already satisfied: ffn in c:\\users\\a2\\.conda\\envs\\ml\\lib\\site-packages (from bt) (0.3.4)\n",
      "Collecting pyprind>=2.10\n",
      "  Downloading PyPrind-2.11.2-py3-none-any.whl (8.6 kB)\n",
      "Requirement already satisfied: decorator>=4 in c:\\users\\a2\\.conda\\envs\\ml\\lib\\site-packages (from ffn->bt) (4.4.2)\n",
      "Requirement already satisfied: scikit-learn>=0.15 in c:\\users\\a2\\.conda\\envs\\ml\\lib\\site-packages (from ffn->bt) (0.23.2)\n",
      "Requirement already satisfied: matplotlib>=1 in c:\\users\\a2\\.conda\\envs\\ml\\lib\\site-packages (from ffn->bt) (3.2.2)\n",
      "Requirement already satisfied: numpy>=1.5 in c:\\users\\a2\\.conda\\envs\\ml\\lib\\site-packages (from ffn->bt) (1.18.5)\n",
      "Requirement already satisfied: tabulate>=0.7.5 in c:\\users\\a2\\.conda\\envs\\ml\\lib\\site-packages (from ffn->bt) (0.8.7)\n",
      "Requirement already satisfied: future>=0.15 in c:\\users\\a2\\.conda\\envs\\ml\\lib\\site-packages (from ffn->bt) (0.18.2)\n",
      "Requirement already satisfied: pandas>=0.19 in c:\\users\\a2\\.conda\\envs\\ml\\lib\\site-packages (from ffn->bt) (1.0.5)\n",
      "Requirement already satisfied: scipy>=0.15 in c:\\users\\a2\\.conda\\envs\\ml\\lib\\site-packages (from ffn->bt) (1.5.0)\n",
      "Requirement already satisfied: pandas-datareader>=0.2 in c:\\users\\a2\\.conda\\envs\\ml\\lib\\site-packages (from ffn->bt) (0.9.0)\n",
      "Requirement already satisfied: threadpoolctl>=2.0.0 in c:\\users\\a2\\.conda\\envs\\ml\\lib\\site-packages (from scikit-learn>=0.15->ffn->bt) (2.1.0)\n",
      "Requirement already satisfied: joblib>=0.11 in c:\\users\\a2\\.conda\\envs\\ml\\lib\\site-packages (from scikit-learn>=0.15->ffn->bt) (0.16.0)\n",
      "Requirement already satisfied: pyparsing!=2.0.4,!=2.1.2,!=2.1.6,>=2.0.1 in c:\\users\\a2\\.conda\\envs\\ml\\lib\\site-packages (from matplotlib>=1->ffn->bt) (2.4.7)\n",
      "Requirement already satisfied: cycler>=0.10 in c:\\users\\a2\\.conda\\envs\\ml\\lib\\site-packages (from matplotlib>=1->ffn->bt) (0.10.0)\n",
      "Requirement already satisfied: kiwisolver>=1.0.1 in c:\\users\\a2\\.conda\\envs\\ml\\lib\\site-packages (from matplotlib>=1->ffn->bt) (1.2.0)\n",
      "Requirement already satisfied: python-dateutil>=2.1 in c:\\users\\a2\\.conda\\envs\\ml\\lib\\site-packages (from matplotlib>=1->ffn->bt) (2.8.1)\n",
      "Requirement already satisfied: pytz>=2017.2 in c:\\users\\a2\\.conda\\envs\\ml\\lib\\site-packages (from pandas>=0.19->ffn->bt) (2020.1)\n",
      "Requirement already satisfied: requests>=2.19.0 in c:\\users\\a2\\.conda\\envs\\ml\\lib\\site-packages (from pandas-datareader>=0.2->ffn->bt) (2.24.0)\n",
      "Requirement already satisfied: lxml in c:\\users\\a2\\.conda\\envs\\ml\\lib\\site-packages (from pandas-datareader>=0.2->ffn->bt) (4.5.2)\n",
      "Requirement already satisfied: six in c:\\users\\a2\\.conda\\envs\\ml\\lib\\site-packages (from cycler>=0.10->matplotlib>=1->ffn->bt) (1.15.0)\n",
      "Requirement already satisfied: chardet<4,>=3.0.2 in c:\\users\\a2\\.conda\\envs\\ml\\lib\\site-packages (from requests>=2.19.0->pandas-datareader>=0.2->ffn->bt) (3.0.4)\n",
      "Requirement already satisfied: idna<3,>=2.5 in c:\\users\\a2\\.conda\\envs\\ml\\lib\\site-packages (from requests>=2.19.0->pandas-datareader>=0.2->ffn->bt) (2.10)\n",
      "Requirement already satisfied: urllib3!=1.25.0,!=1.25.1,<1.26,>=1.21.1 in c:\\users\\a2\\.conda\\envs\\ml\\lib\\site-packages (from requests>=2.19.0->pandas-datareader>=0.2->ffn->bt) (1.25.9)\n",
      "Requirement already satisfied: certifi>=2017.4.17 in c:\\users\\a2\\.conda\\envs\\ml\\lib\\site-packages (from requests>=2.19.0->pandas-datareader>=0.2->ffn->bt) (2020.6.20)\n",
      "Building wheels for collected packages: bt\n",
      "  Building wheel for bt (setup.py): started\n",
      "  Building wheel for bt (setup.py): finished with status 'error'\n",
      "  Running setup.py clean for bt\n",
      "Failed to build bt\n",
      "Installing collected packages: pyprind, bt\n",
      "    Running setup.py install for bt: started\n",
      "    Running setup.py install for bt: finished with status 'error'\n"
     ]
    },
    {
     "name": "stderr",
     "output_type": "stream",
     "text": [
      "  ERROR: Command errored out with exit status 1:\n",
      "   command: 'C:\\Users\\A2\\.conda\\envs\\ML\\python.exe' -u -c 'import sys, setuptools, tokenize; sys.argv[0] = '\"'\"'C:\\\\Users\\\\A2\\\\AppData\\\\Local\\\\Temp\\\\pip-install-lnmkymi7\\\\bt\\\\setup.py'\"'\"'; __file__='\"'\"'C:\\\\Users\\\\A2\\\\AppData\\\\Local\\\\Temp\\\\pip-install-lnmkymi7\\\\bt\\\\setup.py'\"'\"';f=getattr(tokenize, '\"'\"'open'\"'\"', open)(__file__);code=f.read().replace('\"'\"'\\r\\n'\"'\"', '\"'\"'\\n'\"'\"');f.close();exec(compile(code, __file__, '\"'\"'exec'\"'\"'))' bdist_wheel -d 'C:\\Users\\A2\\AppData\\Local\\Temp\\pip-wheel-68eqh_pn'\n",
      "       cwd: C:\\Users\\A2\\AppData\\Local\\Temp\\pip-install-lnmkymi7\\bt\\\n",
      "  Complete output (13 lines):\n",
      "  running bdist_wheel\n",
      "  running build\n",
      "  running build_py\n",
      "  creating build\n",
      "  creating build\\lib.win-amd64-3.7\n",
      "  creating build\\lib.win-amd64-3.7\\bt\n",
      "  copying bt\\algos.py -> build\\lib.win-amd64-3.7\\bt\n",
      "  copying bt\\backtest.py -> build\\lib.win-amd64-3.7\\bt\n",
      "  copying bt\\core.py -> build\\lib.win-amd64-3.7\\bt\n",
      "  copying bt\\__init__.py -> build\\lib.win-amd64-3.7\\bt\n",
      "  running build_ext\n",
      "  building 'bt.core' extension\n",
      "  error: Microsoft Visual C++ 14.0 is required. Get it with \"Build Tools for Visual Studio\": https://visualstudio.microsoft.com/downloads/\n",
      "  ----------------------------------------\n",
      "  ERROR: Failed building wheel for bt\n",
      "    ERROR: Command errored out with exit status 1:\n",
      "     command: 'C:\\Users\\A2\\.conda\\envs\\ML\\python.exe' -u -c 'import sys, setuptools, tokenize; sys.argv[0] = '\"'\"'C:\\\\Users\\\\A2\\\\AppData\\\\Local\\\\Temp\\\\pip-install-lnmkymi7\\\\bt\\\\setup.py'\"'\"'; __file__='\"'\"'C:\\\\Users\\\\A2\\\\AppData\\\\Local\\\\Temp\\\\pip-install-lnmkymi7\\\\bt\\\\setup.py'\"'\"';f=getattr(tokenize, '\"'\"'open'\"'\"', open)(__file__);code=f.read().replace('\"'\"'\\r\\n'\"'\"', '\"'\"'\\n'\"'\"');f.close();exec(compile(code, __file__, '\"'\"'exec'\"'\"'))' install --record 'C:\\Users\\A2\\AppData\\Local\\Temp\\pip-record-a0dae4eb\\install-record.txt' --single-version-externally-managed --compile --install-headers 'C:\\Users\\A2\\.conda\\envs\\ML\\Include\\bt'\n",
      "         cwd: C:\\Users\\A2\\AppData\\Local\\Temp\\pip-install-lnmkymi7\\bt\\\n",
      "    Complete output (13 lines):\n",
      "    running install\n",
      "    running build\n",
      "    running build_py\n",
      "    creating build\n",
      "    creating build\\lib.win-amd64-3.7\n",
      "    creating build\\lib.win-amd64-3.7\\bt\n",
      "    copying bt\\algos.py -> build\\lib.win-amd64-3.7\\bt\n",
      "    copying bt\\backtest.py -> build\\lib.win-amd64-3.7\\bt\n",
      "    copying bt\\core.py -> build\\lib.win-amd64-3.7\\bt\n",
      "    copying bt\\__init__.py -> build\\lib.win-amd64-3.7\\bt\n",
      "    running build_ext\n",
      "    building 'bt.core' extension\n",
      "    error: Microsoft Visual C++ 14.0 is required. Get it with \"Build Tools for Visual Studio\": https://visualstudio.microsoft.com/downloads/\n",
      "    ----------------------------------------\n",
      "ERROR: Command errored out with exit status 1: 'C:\\Users\\A2\\.conda\\envs\\ML\\python.exe' -u -c 'import sys, setuptools, tokenize; sys.argv[0] = '\"'\"'C:\\\\Users\\\\A2\\\\AppData\\\\Local\\\\Temp\\\\pip-install-lnmkymi7\\\\bt\\\\setup.py'\"'\"'; __file__='\"'\"'C:\\\\Users\\\\A2\\\\AppData\\\\Local\\\\Temp\\\\pip-install-lnmkymi7\\\\bt\\\\setup.py'\"'\"';f=getattr(tokenize, '\"'\"'open'\"'\"', open)(__file__);code=f.read().replace('\"'\"'\\r\\n'\"'\"', '\"'\"'\\n'\"'\"');f.close();exec(compile(code, __file__, '\"'\"'exec'\"'\"'))' install --record 'C:\\Users\\A2\\AppData\\Local\\Temp\\pip-record-a0dae4eb\\install-record.txt' --single-version-externally-managed --compile --install-headers 'C:\\Users\\A2\\.conda\\envs\\ML\\Include\\bt' Check the logs for full command output.\n",
      "C:\\Users\\A2\\.conda\\envs\\ML\\lib\\site-packages\\ffn\\core.py:27: MatplotlibDeprecationWarning: The 'warn' parameter of use() is deprecated since Matplotlib 3.1 and will be removed in 3.3.  If any parameter follows 'warn', they should be pass as keyword, not positionally.\n",
      "  matplotlib.use('agg', warn=False)\n"
     ]
    },
    {
     "ename": "ModuleNotFoundError",
     "evalue": "No module named 'bt'",
     "output_type": "error",
     "traceback": [
      "\u001b[1;31m---------------------------------------------------------------------------\u001b[0m",
      "\u001b[1;31mModuleNotFoundError\u001b[0m                       Traceback (most recent call last)",
      "\u001b[1;32m<ipython-input-27-135cdd0269f0>\u001b[0m in \u001b[0;36m<module>\u001b[1;34m\u001b[0m\n\u001b[0;32m      2\u001b[0m \u001b[0mget_ipython\u001b[0m\u001b[1;33m(\u001b[0m\u001b[1;33m)\u001b[0m\u001b[1;33m.\u001b[0m\u001b[0msystem\u001b[0m\u001b[1;33m(\u001b[0m\u001b[1;34m'pip install bt'\u001b[0m\u001b[1;33m)\u001b[0m\u001b[1;33m\u001b[0m\u001b[1;33m\u001b[0m\u001b[0m\n\u001b[0;32m      3\u001b[0m \u001b[1;32mimport\u001b[0m \u001b[0mffn\u001b[0m\u001b[1;33m\u001b[0m\u001b[1;33m\u001b[0m\u001b[0m\n\u001b[1;32m----> 4\u001b[1;33m \u001b[1;32mimport\u001b[0m \u001b[0mbt\u001b[0m\u001b[1;33m\u001b[0m\u001b[1;33m\u001b[0m\u001b[0m\n\u001b[0m",
      "\u001b[1;31mModuleNotFoundError\u001b[0m: No module named 'bt'"
     ]
    }
   ],
   "source": [
    "!pip install ffn\n",
    "!pip install bt\n",
    "import ffn\n",
    "import bt"
   ]
  }
 ],
 "metadata": {
  "kernelspec": {
   "display_name": "Python 3",
   "language": "python",
   "name": "python3"
  },
  "language_info": {
   "codemirror_mode": {
    "name": "ipython",
    "version": 3
   },
   "file_extension": ".py",
   "mimetype": "text/x-python",
   "name": "python",
   "nbconvert_exporter": "python",
   "pygments_lexer": "ipython3",
   "version": "3.7.7"
  }
 },
 "nbformat": 4,
 "nbformat_minor": 4
}
