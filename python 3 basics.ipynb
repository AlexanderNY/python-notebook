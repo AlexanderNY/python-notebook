{
 "cells": [
  {
   "cell_type": "markdown",
   "metadata": {},
   "source": [
    "Типы данных в Python:\n",
    "None - эквивалент null, None - тоже объект, и имеет свой тип 'NoneType'\n",
    "int - целые числа\n",
    "float - вещественные числа\n",
    "complex - комплексные числа"
   ]
  },
  {
   "cell_type": "code",
   "execution_count": 4,
   "metadata": {},
   "outputs": [
    {
     "name": "stdout",
     "output_type": "stream",
     "text": [
      "is None\n",
      "not_n is not None\n"
     ]
    }
   ],
   "source": [
    "n = None\n",
    "not_n = 'Not None'\n",
    "type(n)\n",
    "# проверка на None\n",
    "if n is None:\n",
    "    print('is None')\n",
    "else:\n",
    "    print('is not None')\n",
    "\n",
    "if not_n is None:\n",
    "    print('not_n is None')\n",
    "else:\n",
    "    print('not_n is not None')"
   ]
  },
  {
   "cell_type": "code",
   "execution_count": null,
   "metadata": {},
   "outputs": [],
   "source": [
    "x = int(7)\n",
    "y = 3\n",
    "sum = x + y #Сложение\n",
    "sub = x - y #Вычитание\n",
    "\n",
    "mul = x * y #Умножение\n",
    "div = x / y #Деление\n",
    "ipd = x // y #Получение целой части от деления\n",
    "rod = x % y #Остаток от деления\n",
    "csn = -x #Смена знака числа\n",
    "abs = abs(x) #Модуль числа\n",
    "divmod(x, y) #Пара (x // y, x % y)\n",
    "pow = x ** y #Возведение в степень\n",
    "pow(x, y[, z])\txy по модулю (если модуль задан)"
   ]
  },
  {
   "cell_type": "code",
   "execution_count": 3,
   "metadata": {},
   "outputs": [
    {
     "name": "stdout",
     "output_type": "stream",
     "text": [
      "(1+2j)\n",
      "(4+6j)\n",
      "(-5+10j)\n",
      "(0.44+0.08j)\n",
      "(1-2j)\n",
      "2.0\n",
      "1.0\n",
      "False\n"
     ]
    },
    {
     "ename": "TypeError",
     "evalue": "'>' not supported between instances of 'complex' and 'complex'",
     "output_type": "error",
     "traceback": [
      "\u001b[1;31m---------------------------------------------------------------------------\u001b[0m",
      "\u001b[1;31mTypeError\u001b[0m                                 Traceback (most recent call last)",
      "\u001b[1;32m<ipython-input-3-762099c5d27a>\u001b[0m in \u001b[0;36m<module>\u001b[1;34m\u001b[0m\n\u001b[0;32m     15\u001b[0m \u001b[0mabs\u001b[0m\u001b[1;33m(\u001b[0m\u001b[1;36m3\u001b[0m \u001b[1;33m+\u001b[0m \u001b[1;36m4j\u001b[0m\u001b[1;33m)\u001b[0m  \u001b[1;31m# Модуль комплексного числа\u001b[0m\u001b[1;33m\u001b[0m\u001b[1;33m\u001b[0m\u001b[0m\n\u001b[0;32m     16\u001b[0m \u001b[0mpow\u001b[0m\u001b[1;33m(\u001b[0m\u001b[1;36m3\u001b[0m \u001b[1;33m+\u001b[0m \u001b[1;36m4j\u001b[0m\u001b[1;33m,\u001b[0m \u001b[1;36m2\u001b[0m\u001b[1;33m)\u001b[0m  \u001b[1;31m# Возведение в степень\u001b[0m\u001b[1;33m\u001b[0m\u001b[1;33m\u001b[0m\u001b[0m\n\u001b[1;32m---> 17\u001b[1;33m \u001b[0mprint\u001b[0m\u001b[1;33m(\u001b[0m\u001b[0mx\u001b[0m \u001b[1;33m>\u001b[0m \u001b[0my\u001b[0m\u001b[1;33m)\u001b[0m  \u001b[1;31m# Комплексные числа нельзя сравнить\u001b[0m\u001b[1;33m\u001b[0m\u001b[1;33m\u001b[0m\u001b[0m\n\u001b[0m",
      "\u001b[1;31mTypeError\u001b[0m: '>' not supported between instances of 'complex' and 'complex'"
     ]
    }
   ],
   "source": [
    "x = complex(1, 2)\n",
    "y = complex(3, 4)\n",
    "print(x)\n",
    "s = x + y\n",
    "m = x * y\n",
    "d = x / y\n",
    "print(s)\n",
    "print(m)\n",
    "print(d)\n",
    "\n",
    "print(x.conjugate())  # Сопряжённое число\n",
    "print(x.imag)  # Мнимая часть\n",
    "print(x.real)  # Действительная часть\n",
    "print(x == y)  # Можно проверить на равенство\n",
    "abs(3 + 4j)  # Модуль комплексного числа\n",
    "pow(3 + 4j, 2)  # Возведение в степень\n",
    "print(x > y)  # Комплексные числа нельзя сравнить"
   ]
  }
 ],
 "metadata": {
  "kernelspec": {
   "display_name": "Python 3",
   "language": "python",
   "name": "python3"
  },
  "language_info": {
   "codemirror_mode": {
    "name": "ipython",
    "version": 3
   },
   "file_extension": ".py",
   "mimetype": "text/x-python",
   "name": "python",
   "nbconvert_exporter": "python",
   "pygments_lexer": "ipython3",
   "version": "3.7.7"
  }
 },
 "nbformat": 4,
 "nbformat_minor": 4
}
