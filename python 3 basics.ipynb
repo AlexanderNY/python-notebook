{
 "cells": [
  {
   "cell_type": "markdown",
   "metadata": {},
   "source": [
    "Типы данных в Python:\n",
    "None - эквивалент null, None - тоже объект, и имеет свой тип 'NoneType'\n",
    "int - целые числа\n",
    "float - вещественные числа\n",
    "complex - комплексные числа"
   ]
  },
  {
   "cell_type": "code",
   "execution_count": 4,
   "metadata": {},
   "outputs": [
    {
     "name": "stdout",
     "output_type": "stream",
     "text": [
      "is None\n",
      "not_n is not None\n"
     ]
    }
   ],
   "source": [
    "n = None\n",
    "not_n = 'Not None'\n",
    "type(n)\n",
    "# проверка на None\n",
    "if n is None:\n",
    "    print('is None')\n",
    "else:\n",
    "    print('is not None')\n",
    "\n",
    "if not_n is None:\n",
    "    print('not_n is None')\n",
    "else:\n",
    "    print('not_n is not None')"
   ]
  },
  {
   "cell_type": "code",
   "execution_count": null,
   "metadata": {},
   "outputs": [],
   "source": [
    "x = int(7)\n",
    "y = 3\n",
    "sum = x + y #Сложение\n",
    "sub = x - y #Вычитание\n",
    "\n",
    "mul = x * y #Умножение\n",
    "div = x / y #Деление\n",
    "ipd = x // y #Получение целой части от деления\n",
    "rod = x % y #Остаток от деления\n",
    "csn = -x #Смена знака числа\n",
    "abs = abs(x) #Модуль числа\n",
    "divmod(x, y) #Пара (x // y, x % y)\n",
    "pow = x ** y #Возведение в степень\n",
    "pow(x, y[, z])#xy по модулю (если модуль задан)\n"
   ]
  },
  {
   "cell_type": "code",
   "execution_count": null,
   "metadata": {},
   "outputs": [],
   "source": [
    "bor = x | y #Побитовое или\n",
    "bnor = x ^ y #Побитовое исключающее или\n",
    "band = x & y #Побитовое и\n",
    "bleft = x << n #Битовый сдвиг влево\n",
    "bright = x >> y #Битовый сдвиг вправо\n",
    "inv = ~x #Инверсия битов"
   ]
  },
  {
   "cell_type": "code",
   "execution_count": null,
   "metadata": {},
   "outputs": [],
   "source": [
    "int([x], [10]) #преобразование к целому числу в десятичной системе счисления. По умолчанию система счисления десятичная, но можно задать любое основание от 2 до 36 включительно.\n",
    "bin(x) #преобразование целого числа в двоичную строку.\n",
    "hex(х) #преобразование целого числа в шестнадцатеричную строку.\n",
    "oct(х) #преобразование целого числа в восьмеричную строку.\n",
    " "
   ]
  },
  {
   "cell_type": "code",
   "execution_count": 3,
   "metadata": {},
   "outputs": [
    {
     "name": "stdout",
     "output_type": "stream",
     "text": [
      "(1+2j)\n",
      "(4+6j)\n",
      "(-5+10j)\n",
      "(0.44+0.08j)\n",
      "(1-2j)\n",
      "2.0\n",
      "1.0\n",
      "False\n"
     ]
    },
    {
     "ename": "TypeError",
     "evalue": "'>' not supported between instances of 'complex' and 'complex'",
     "output_type": "error",
     "traceback": [
      "\u001b[1;31m---------------------------------------------------------------------------\u001b[0m",
      "\u001b[1;31mTypeError\u001b[0m                                 Traceback (most recent call last)",
      "\u001b[1;32m<ipython-input-3-762099c5d27a>\u001b[0m in \u001b[0;36m<module>\u001b[1;34m\u001b[0m\n\u001b[0;32m     15\u001b[0m \u001b[0mabs\u001b[0m\u001b[1;33m(\u001b[0m\u001b[1;36m3\u001b[0m \u001b[1;33m+\u001b[0m \u001b[1;36m4j\u001b[0m\u001b[1;33m)\u001b[0m  \u001b[1;31m# Модуль комплексного числа\u001b[0m\u001b[1;33m\u001b[0m\u001b[1;33m\u001b[0m\u001b[0m\n\u001b[0;32m     16\u001b[0m \u001b[0mpow\u001b[0m\u001b[1;33m(\u001b[0m\u001b[1;36m3\u001b[0m \u001b[1;33m+\u001b[0m \u001b[1;36m4j\u001b[0m\u001b[1;33m,\u001b[0m \u001b[1;36m2\u001b[0m\u001b[1;33m)\u001b[0m  \u001b[1;31m# Возведение в степень\u001b[0m\u001b[1;33m\u001b[0m\u001b[1;33m\u001b[0m\u001b[0m\n\u001b[1;32m---> 17\u001b[1;33m \u001b[0mprint\u001b[0m\u001b[1;33m(\u001b[0m\u001b[0mx\u001b[0m \u001b[1;33m>\u001b[0m \u001b[0my\u001b[0m\u001b[1;33m)\u001b[0m  \u001b[1;31m# Комплексные числа нельзя сравнить\u001b[0m\u001b[1;33m\u001b[0m\u001b[1;33m\u001b[0m\u001b[0m\n\u001b[0m",
      "\u001b[1;31mTypeError\u001b[0m: '>' not supported between instances of 'complex' and 'complex'"
     ]
    }
   ],
   "source": [
    "x = complex(1, 2)\n",
    "y = complex(3, 4)\n",
    "print(x)\n",
    "s = x + y\n",
    "m = x * y\n",
    "d = x / y\n",
    "print(s)\n",
    "print(m)\n",
    "print(d)\n",
    "\n",
    "print(x.conjugate())  # Сопряжённое число\n",
    "print(x.imag)  # Мнимая часть\n",
    "print(x.real)  # Действительная часть\n",
    "print(x == y)  # Можно проверить на равенство\n",
    "abs(3 + 4j)  # Модуль комплексного числа\n",
    "pow(3 + 4j, 2)  # Возведение в степень\n",
    "print(x > y)  # Комплексные числа нельзя сравнить"
   ]
  },
  {
   "cell_type": "markdown",
   "metadata": {},
   "source": [
    "Cписок \"магических\" методов:\n",
    "\n",
    "__new__(cls[, ...]) — управляет созданием экземпляра. В качестве обязательного аргумента принимает класс (не путать с экземпляром). Должен возвращать экземпляр класса для его последующей его передачи методу __init__.\n",
    "\n",
    "__init__(self[, ...]) - как уже было сказано выше, конструктор.\n",
    "\n",
    "__del__(self) - вызывается при удалении объекта сборщиком мусора.\n",
    "\n",
    "__repr__(self) - вызывается встроенной функцией repr; возвращает \"сырые\" данные, использующиеся для внутреннего представления в python.\n",
    "\n",
    "__str__(self) - вызывается функциями str, print и format. Возвращает строковое представление объекта.\n",
    "\n",
    "__bytes__(self) - вызывается функцией bytes при преобразовании к байтам.\n",
    "\n",
    "__format__(self, format_spec) - используется функцией format (а также методом format у строк).\n",
    "\n",
    "__lt__(self, other) - x < y вызывает x.__lt__(y).\n",
    "\n",
    "__le__(self, other) - x ≤ y вызывает x.__le__(y).\n",
    "\n",
    "__eq__(self, other) - x == y вызывает x.__eq__(y).\n",
    "\n",
    "__ne__(self, other) - x != y вызывает x.__ne__(y)\n",
    "\n",
    "__gt__(self, other) - x > y вызывает x.__gt__(y).\n",
    "\n",
    "__ge__(self, other) - x ≥ y вызывает x.__ge__(y).\n",
    "\n",
    "__hash__(self) - получение хэш-суммы объекта, например, для добавления в словарь.\n",
    "\n",
    "__bool__(self) - вызывается при проверке истинности. Если этот метод не определён, вызывается метод __len__ (объекты, имеющие ненулевую длину, считаются истинными).\n",
    "\n",
    "__getattr__(self, name) - вызывается, когда атрибут экземпляра класса не найден в обычных местах (например, у экземпляра нет метода с таким названием).\n",
    "\n",
    "__setattr__(self, name, value) - назначение атрибута.\n",
    "\n",
    "__delattr__(self, name) - удаление атрибута (del obj.name).\n",
    "\n",
    "__call__(self[, args...]) - вызов экземпляра класса как функции.\n",
    "\n",
    "__len__(self) - длина объекта.\n",
    "\n",
    "__getitem__(self, key) - доступ по индексу (или ключу).\n",
    "\n",
    "__setitem__(self, key, value) - назначение элемента по индексу.\n",
    "\n",
    "__delitem__(self, key) - удаление элемента по индексу.\n",
    "\n",
    "__iter__(self) - возвращает итератор для контейнера.\n",
    "\n",
    "__reversed__(self) - итератор из элементов, следующих в обратном порядке.\n",
    "\n",
    "__contains__(self, item) - проверка на принадлежность элемента контейнеру (item in self).\n",
    "\n",
    "Перегрузка арифметических операторов\n",
    "__add__(self, other) - сложение. x + y вызывает x.__add__(y).\n",
    "\n",
    "__sub__(self, other) - вычитание (x - y).\n",
    "\n",
    "__mul__(self, other) - умножение (x * y).\n",
    "\n",
    "__truediv__(self, other) - деление (x / y).\n",
    "\n",
    "__floordiv__(self, other) - целочисленное деление (x // y).\n",
    "\n",
    "__mod__(self, other) - остаток от деления (x % y).\n",
    "\n",
    "__divmod__(self, other) - частное и остаток (divmod(x, y)).\n",
    "\n",
    "__pow__(self, other[, modulo]) - возведение в степень (x ** y, pow(x, y[, modulo])).\n",
    "\n",
    "__lshift__(self, other) - битовый сдвиг влево (x << y).\n",
    "\n",
    "__rshift__(self, other) - битовый сдвиг вправо (x >> y).\n",
    "\n",
    "__and__(self, other) - битовое И (x & y).\n",
    "\n",
    "__xor__(self, other) - битовое ИСКЛЮЧАЮЩЕЕ ИЛИ (x ^ y).\n",
    "\n",
    "__or__(self, other) - битовое ИЛИ (x | y).\n",
    "\n",
    "Пойдём дальше.\n",
    "\n",
    "__radd__(self, other),\n",
    "\n",
    "__rsub__(self, other),\n",
    "\n",
    "__rmul__(self, other),\n",
    "\n",
    "__rtruediv__(self, other),\n",
    "\n",
    "__rfloordiv__(self, other),\n",
    "\n",
    "__rmod__(self, other),\n",
    "\n",
    "__rdivmod__(self, other),\n",
    "\n",
    "__rpow__(self, other),\n",
    "\n",
    "__rlshift__(self, other),\n",
    "\n",
    "__rrshift__(self, other),\n",
    "\n",
    "__rand__(self, other),\n",
    "\n",
    "__rxor__(self, other),\n",
    "\n",
    "__ror__(self, other) - делают то же самое, что и арифметические операторы, перечисленные выше, но для аргументов, находящихся справа, и только в случае, если для левого операнда не определён соответствующий метод.\n",
    "\n",
    "Например, операция x + y будет сначала пытаться вызвать x.__add__(y), и только в том случае, если это не получилось, будет пытаться вызвать y.__radd__(x). Аналогично для остальных методов.\n",
    "\n",
    "Идём дальше.\n",
    "\n",
    "__iadd__(self, other) - +=.\n",
    "\n",
    "__isub__(self, other) - -=.\n",
    "\n",
    "__imul__(self, other) - *=.\n",
    "\n",
    "__itruediv__(self, other) - /=.\n",
    "\n",
    "__ifloordiv__(self, other) - //=.\n",
    "\n",
    "__imod__(self, other) - %=.\n",
    "\n",
    "__ipow__(self, other[, modulo]) - **=.\n",
    "\n",
    "__ilshift__(self, other) - <<=.\n",
    "\n",
    "__irshift__(self, other) - >>=.\n",
    "\n",
    "__iand__(self, other) - &=.\n",
    "\n",
    "__ixor__(self, other) - ^=.\n",
    "\n",
    "__ior__(self, other) - |=.\n",
    "\n",
    "__neg__(self) - унарный -.\n",
    "\n",
    "__pos__(self) - унарный +.\n",
    "\n",
    "__abs__(self) - модуль (abs()).\n",
    "\n",
    "__invert__(self) - инверсия (~).\n",
    "\n",
    "__complex__(self) - приведение к complex.\n",
    "\n",
    "__int__(self) - приведение к int.\n",
    "\n",
    "__float__(self) - приведение к float.\n",
    "\n",
    "__round__(self[, n]) - округление.\n",
    "\n",
    "__enter__(self), __exit__(self, exc_type, exc_value, traceback) - реализация менеджеров контекста."
   ]
  },
  {
   "cell_type": "markdown",
   "metadata": {},
   "source": [
    "Список"
   ]
  },
  {
   "cell_type": "code",
   "execution_count": 3,
   "metadata": {},
   "outputs": [
    {
     "name": "stdout",
     "output_type": "stream",
     "text": [
      "a1\n",
      "a2\n",
      "a3\n",
      "a4\n",
      "a5\n",
      "a6\n",
      "1\n",
      "a1\n",
      "2\n",
      "a2\n",
      "3\n",
      "a3\n",
      "4\n",
      "a4\n",
      "5\n",
      "a5\n",
      "6\n",
      "a6\n"
     ]
    }
   ],
   "source": [
    "names=['a1','a2','a3','a4','a5','a6']\n",
    "for i in names:\n",
    "    print (i)\n",
    "    \n",
    "print('-------------')    \n",
    "for i, name in enumerate(names, start=1):\n",
    "    print (i)\n",
    "    print (name)\n"
   ]
  },
  {
   "cell_type": "code",
   "execution_count": null,
   "metadata": {},
   "outputs": [],
   "source": [
    "ZIP - склеить списки"
   ]
  },
  {
   "cell_type": "code",
   "execution_count": 10,
   "metadata": {},
   "outputs": [
    {
     "name": "stdout",
     "output_type": "stream",
     "text": [
      "i1 is a1, i2 is b1, i3 is c1\n",
      "i1 is a2, i2 is b2, i3 is c2\n",
      "i1 is a3, i2 is b3, i3 is c3\n",
      "i1 is a4, i2 is b4, i3 is c4\n",
      "-------------\n",
      "i1 is a1, i2 is b1, i3 is c1\n",
      "i1 is a2, i2 is b2, i3 is c2\n",
      "i1 is a3, i2 is b3, i3 is c3\n",
      "i1 is a4, i2 is b4, i3 is c4\n",
      "i1 is a5, i2 is b5, i3 is -\n",
      "i1 is a6, i2 is -, i3 is -\n"
     ]
    }
   ],
   "source": [
    "list1=['a1','a2','a3','a4','a5','a6']\n",
    "\n",
    "list2=['b1','b2','b3','b4','b5']\n",
    "\n",
    "list3=['c1','c2','c3','c4']\n",
    "\n",
    "for i1, i2, i3 in zip(list1,list2,list3):\n",
    "    print(f'i1 is {i1}, i2 is {i2}, i3 is {i3}')\n",
    "\n",
    "import itertools \n",
    "\n",
    "print('-------------')\n",
    "for i1, i2, i3 in itertools.zip_longest(list1,list2,list3,fillvalue='-'):\n",
    "    print(f'i1 is {i1}, i2 is {i2}, i3 is {i3}')\n",
    "\n",
    "print('-------------')"
   ]
  },
  {
   "cell_type": "markdown",
   "metadata": {},
   "source": [
    "tuple unpacking"
   ]
  },
  {
   "cell_type": "code",
   "execution_count": 23,
   "metadata": {},
   "outputs": [
    {
     "name": "stdout",
     "output_type": "stream",
     "text": [
      "(1, 2)\n",
      "1\n",
      "(1, 2, 3)\n",
      "1\n",
      "1\n",
      "[2, 3, 4, 5, 6, 7]\n",
      "1\n",
      "7\n"
     ]
    }
   ],
   "source": [
    "t1=(1,2)\n",
    "print (t1)\n",
    "print (t1[0])\n",
    "a=(1,2,3 )\n",
    "print (a)\n",
    "\n",
    "a,_=(1,2 ) # _ пропустить значение\n",
    "\n",
    "print (a)\n",
    "\n",
    "a,*b=(1,2,3,4,5,6,7 ) # * присвоить b весь список начиная со второго элемента \n",
    "\n",
    "print (a)\n",
    "print (b)\n",
    "\n",
    "a,*_,b=(1,2,3,4,5,6,7 ) # _ пропустить значения до последнего значения в кортеже\n",
    "\n",
    "print (a)\n",
    "print (b)"
   ]
  },
  {
   "cell_type": "markdown",
   "metadata": {},
   "source": [
    "Ввод данных"
   ]
  },
  {
   "cell_type": "code",
   "execution_count": 26,
   "metadata": {},
   "outputs": [
    {
     "ename": "SyntaxError",
     "evalue": "invalid syntax (<ipython-input-26-6f0045a44855>, line 3)",
     "output_type": "error",
     "traceback": [
      "\u001b[1;36m  File \u001b[1;32m\"<ipython-input-26-6f0045a44855>\"\u001b[1;36m, line \u001b[1;32m3\u001b[0m\n\u001b[1;33m    pass = getpass ('Введи пароль')\u001b[0m\n\u001b[1;37m         ^\u001b[0m\n\u001b[1;31mSyntaxError\u001b[0m\u001b[1;31m:\u001b[0m invalid syntax\n"
     ]
    }
   ],
   "source": [
    "login = input ('Введи логин')\n",
    "\n",
    "import getpass\n",
    "\n",
    "pass = getpass ('Введи пароль')"
   ]
  },
  {
   "cell_type": "code",
   "execution_count": 33,
   "metadata": {},
   "outputs": [
    {
     "name": "stdout",
     "output_type": "stream",
     "text": [
      "[0]\n",
      "[0, 1]\n",
      "[0, 1, 4]\n",
      "[0, 1, 4, 9]\n",
      "[0, 1, 4, 9, 16]\n",
      "[0, 1, 4, 9, 16, 25]\n",
      "[0, 1, 4, 9, 16, 25, 36]\n",
      "[0, 1, 4, 9, 16, 25, 36, 49]\n",
      "[0, 1, 4, 9, 16, 25, 36, 49, 64]\n",
      "[0, 1, 4, 9, 16, 25, 36, 49, 64, 81]\n",
      "-------------\n",
      "[0, 1, 4, 9, 16, 25, 36, 49, 64, 81]\n"
     ]
    }
   ],
   "source": [
    "sqr=[]\n",
    "for i in range(10):\n",
    "    sqr.append(i*i)\n",
    "    print (sqr)\n",
    "    \n",
    "print('-------------')\n",
    "sqr=[i*i for i in range (10)]\n",
    "print (sqr)"
   ]
  },
  {
   "cell_type": "code",
   "execution_count": 38,
   "metadata": {},
   "outputs": [
    {
     "name": "stdout",
     "output_type": "stream",
     "text": [
      "[21, 6, 4, 4, 3, 3, 3, 2, 1]\n",
      "-------------\n",
      "[{'1col': 4, '2col': 4, '3col': 3, '4col': 6, '6col': 'c'}, {'1col': 3, '2col': 2, '3col': 4, '4col': 6, '6col': 'd'}, {'1col': 2, '2col': 3, '3col': 2, '4col': 6, '6col': 'b'}, {'1col': 1, '2col': 1, '3col': 1, '4col': 6, '6col': 'a'}]\n"
     ]
    }
   ],
   "source": [
    "lst1=[1,3,4,6,3,21,2,3,4]\n",
    "srtlst1=sorted(lst1, reverse=True)\n",
    "print(srtlst1)\n",
    "\n",
    "print('-------------')\n",
    "\n",
    "lst2=[{\"1col\":1,\"2col\":1,\"3col\":1,\"4col\":6,\"6col\":3,\"6col\":'a'},\n",
    "      {\"1col\":2,\"2col\":3,\"3col\":2,\"4col\":6,\"6col\":3,\"6col\":'b'},\n",
    "      {\"1col\":4,\"2col\":4,\"3col\":3,\"4col\":6,\"6col\":3,\"6col\":'c'},\n",
    "      {\"1col\":3,\"2col\":2,\"3col\":4,\"4col\":6,\"6col\":3,\"6col\":'d'}]\n",
    "srtlst2=sorted(lst2, key=lambda x: x[\"1col\"], reverse=True)\n",
    "print(srtlst2)"
   ]
  },
  {
   "cell_type": "code",
   "execution_count": 39,
   "metadata": {},
   "outputs": [
    {
     "name": "stdout",
     "output_type": "stream",
     "text": [
      "[1, 2, 3, 4, 6, 21]\n"
     ]
    }
   ],
   "source": [
    "lst1=[1,3,4,6,3,21,2,3,4]\n",
    "set1=set(lst1)\n",
    "print (list(set1))"
   ]
  },
  {
   "cell_type": "code",
   "execution_count": 44,
   "metadata": {},
   "outputs": [
    {
     "name": "stdout",
     "output_type": "stream",
     "text": [
      "24995000\n",
      "43040 <class 'bytes'>\n",
      "24995000\n",
      "120 <class 'bytes'>\n"
     ]
    }
   ],
   "source": [
    "import sys\n",
    "lst1=[i for i in range(0,10000,2)]\n",
    "print (sum (lst1))\n",
    "print (sys.getsizeof(lst1),bytes)\n",
    "\n",
    "gnr1 = (i for i in range(0,10000,2))\n",
    "print (sum (gnr1))\n",
    "print (sys.getsizeof(gnr1),bytes)"
   ]
  }
 ],
 "metadata": {
  "kernelspec": {
   "display_name": "Python 3",
   "language": "python",
   "name": "python3"
  },
  "language_info": {
   "codemirror_mode": {
    "name": "ipython",
    "version": 3
   },
   "file_extension": ".py",
   "mimetype": "text/x-python",
   "name": "python",
   "nbconvert_exporter": "python",
   "pygments_lexer": "ipython3",
   "version": "3.7.7"
  }
 },
 "nbformat": 4,
 "nbformat_minor": 4
}
