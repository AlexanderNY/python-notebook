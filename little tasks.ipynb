{
 "cells": [
  {
   "cell_type": "code",
   "execution_count": 11,
   "metadata": {},
   "outputs": [],
   "source": [
    "def rd(x,y=0):\n",
    "    ''' матемаатическое округление, т.к. округление в python приводит к ближайшему четному'''\n",
    "    m = int('1'+'0'*(y+1)) # multiplier - how many positions to the right\n",
    "    q = x*m # shift to the right by multiplier\n",
    "    print(q)\n",
    "    c = int(q) # new number\n",
    "    i = int( (q-c)*10 ) # indicator number on the right\n",
    "    if i >= 5:\n",
    "        c += 1\n",
    "    return c/m"
   ]
  },
  {
   "cell_type": "code",
   "execution_count": 12,
   "metadata": {},
   "outputs": [
    {
     "name": "stdout",
     "output_type": "stream",
     "text": [
      "4515.0\n"
     ]
    },
    {
     "data": {
      "text/plain": [
       "4.515"
      ]
     },
     "execution_count": 12,
     "metadata": {},
     "output_type": "execute_result"
    }
   ],
   "source": [
    "rd(4.515,2)"
   ]
  },
  {
   "cell_type": "code",
   "execution_count": 20,
   "metadata": {},
   "outputs": [
    {
     "name": "stdout",
     "output_type": "stream",
     "text": [
      "10\n",
      "6\n",
      "2\n"
     ]
    }
   ],
   "source": [
    "\n",
    "a=4\n",
    "b=1\n",
    "c=3\n",
    "d=20\n",
    "\n",
    "\n",
    "p=2*(a+b)\n",
    "k=d//c\n",
    "r=(p-1)//k+1\n",
    "\n",
    "\n",
    "print (p)\n",
    "print (k)\n",
    "print (r)"
   ]
  },
  {
   "cell_type": "code",
   "execution_count": null,
   "metadata": {},
   "outputs": [],
   "source": []
  }
 ],
 "metadata": {
  "kernelspec": {
   "display_name": "Python 3",
   "language": "python",
   "name": "python3"
  },
  "language_info": {
   "codemirror_mode": {
    "name": "ipython",
    "version": 3
   },
   "file_extension": ".py",
   "mimetype": "text/x-python",
   "name": "python",
   "nbconvert_exporter": "python",
   "pygments_lexer": "ipython3",
   "version": "3.6.8"
  }
 },
 "nbformat": 4,
 "nbformat_minor": 4
}
